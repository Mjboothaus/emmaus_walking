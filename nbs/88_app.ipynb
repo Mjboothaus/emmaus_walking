{
 "cells": [
  {
   "cell_type": "code",
   "execution_count": 1,
   "source": [
    "# default_exp app\n",
    "from nbdev import *"
   ],
   "outputs": [],
   "metadata": {
    "hide_input": true
   }
  },
  {
   "cell_type": "markdown",
   "source": [
    "# Emmaus Walking Streamlit App\n",
    "\n",
    "> This is the front-end application built in Streamlit (which I believe is not compatible with Jupyter notebooks).\n",
    "> However `nbdev` converts this to a straight .py script by default - which should be possible to `streamlit run`.\n",
    "\n",
    "```\n",
    "TODOs: \n",
    "- Need to add some tests!\n",
    "- Look at deployment e.g. to Linode, Azure, AWS, PythonAnywhere, etc.\n",
    "```"
   ],
   "metadata": {}
  },
  {
   "cell_type": "code",
   "execution_count": 2,
   "source": [
    "#hide\n",
    "\n",
    "from nbdev.showdoc import *\n",
    "from fastcore.test import *"
   ],
   "outputs": [],
   "metadata": {}
  },
  {
   "cell_type": "code",
   "execution_count": 3,
   "source": [
    "#export\n",
    "\n",
    "import numpy as np\n",
    "import pandas as pd\n",
    "import datetime as dt\n",
    "from pathlib import Path\n",
    "import streamlit as st\n",
    "from streamlit_folium import folium_static\n",
    "import folium\n",
    "from PIL import Image\n",
    "from IPython.display import display\n",
    "import tomli\n",
    "import os\n",
    "# , io\n",
    "#import activityio as aio\n",
    "#from dateutil.parser import parse"
   ],
   "outputs": [],
   "metadata": {}
  },
  {
   "cell_type": "code",
   "execution_count": 4,
   "source": [
    "#export\n",
    "# TODO: Following is a hack to fix issue with import paths using nbdev in notebook vs. app\n",
    "try:\n",
    "    from emmaus_walking.core import in_notebook, get_project_root, get_project_root_alternate\n",
    "    from emmaus_walking.datapipe import load_and_cache_raw_walk_data, calc_walk_stats\n",
    "except:\n",
    "    from core import in_notebook, get_project_root, get_project_root_alternate\n",
    "    from datapipe import load_and_cache_raw_walk_data, calc_walk_stats"
   ],
   "outputs": [
    {
     "output_type": "stream",
     "name": "stdout",
     "text": [
      "In Jupyter notebook\n",
      "Project root directory: /Users/mjboothaus/code/github/mjboothaus/emmaus_walking\n"
     ]
    }
   ],
   "metadata": {}
  },
  {
   "cell_type": "code",
   "execution_count": 11,
   "source": [
    "#export\n",
    "\n",
    "def load_config_file(config_file):\n",
    "    with open(get_project_root_alternate()/config_file, encoding=\"utf-8\") as f:\n",
    "        app_config = tomli.load(f)\n",
    "    return app_config"
   ],
   "outputs": [],
   "metadata": {}
  },
  {
   "cell_type": "code",
   "execution_count": 12,
   "source": [
    "get_project_root()"
   ],
   "outputs": [
    {
     "output_type": "stream",
     "name": "stdout",
     "text": [
      "In Jupyter notebook\n"
     ]
    },
    {
     "output_type": "execute_result",
     "data": {
      "text/plain": [
       "Path('/Users/mjboothaus/code/github/mjboothaus/emmaus_walking')"
      ]
     },
     "metadata": {},
     "execution_count": 12
    }
   ],
   "metadata": {}
  },
  {
   "cell_type": "code",
   "execution_count": 13,
   "source": [
    "os.getcwd() \n"
   ],
   "outputs": [
    {
     "output_type": "execute_result",
     "data": {
      "text/plain": [
       "'/Users/mjboothaus/code/github/mjboothaus/emmaus_walking/nbs'"
      ]
     },
     "metadata": {},
     "execution_count": 13
    }
   ],
   "metadata": {}
  },
  {
   "cell_type": "code",
   "execution_count": 14,
   "source": [
    "#export \n",
    "\n",
    "APP_CONFIG_FILE = 'app_config.toml'\n",
    "app_config = load_config_file(APP_CONFIG_FILE)"
   ],
   "outputs": [],
   "metadata": {}
  },
  {
   "cell_type": "code",
   "execution_count": 15,
   "source": [
    "#expport\n",
    " \n",
    "APP_SECRETS_FILE = 'app_secrets.toml'\n",
    "app_secrets = load_config_file(APP_SECRETS_FILE)"
   ],
   "outputs": [],
   "metadata": {}
  },
  {
   "cell_type": "code",
   "execution_count": 16,
   "source": [
    "app_config"
   ],
   "outputs": [
    {
     "output_type": "execute_result",
     "data": {
      "text/plain": [
       "{'APP': {'DATASOURCE': 'Apple Watch via Health Fit',\n",
       "  'AUTHOR': 'by [DataBooth.com.au](https://www.databooth.com.au)',\n",
       "  'NAME': 'Emmaus Walking Mapping App',\n",
       "  'CACHED_DATAFILE': 'emmaus_walking.cache.feather',\n",
       "  'LAYOUT': 'wide'},\n",
       " 'S3': {'ACCESS_KEY_ID': 'SCW5MSNHMS37P6Q0ZZV2',\n",
       "  'SECRET_ACCESS_KEY': 'app_secrets.toml',\n",
       "  'STORAGE_BUCKET_NAME': 'emmaus-walking',\n",
       "  'DEFAULT_ACL': 'public-read',\n",
       "  'REGION_NAME': 'fr-par',\n",
       "  'ENDPOINT_URL': 'https://s3.fr-par.scw.cloud'}}"
      ]
     },
     "metadata": {},
     "execution_count": 16
    }
   ],
   "metadata": {}
  },
  {
   "cell_type": "code",
   "execution_count": 17,
   "source": [
    "#export\n",
    "APP_NAME = app_config['APP']['NAME']\n",
    "\n",
    "st.set_page_config(page_title=APP_NAME, layout=app_config['APP']['LAYOUT'])"
   ],
   "outputs": [],
   "metadata": {}
  },
  {
   "cell_type": "code",
   "execution_count": 18,
   "source": [
    "#export\n",
    "\n",
    "CACHED_WALK_DATA = get_project_root() / app_config['APP']['CACHED_DATAFILE']"
   ],
   "outputs": [
    {
     "output_type": "stream",
     "name": "stdout",
     "text": [
      "In Jupyter notebook\n"
     ]
    }
   ],
   "metadata": {}
  },
  {
   "cell_type": "code",
   "execution_count": 19,
   "source": [
    "CACHED_WALK_DATA"
   ],
   "outputs": [
    {
     "output_type": "execute_result",
     "data": {
      "text/plain": [
       "Path('/Users/mjboothaus/code/github/mjboothaus/emmaus_walking/emmaus_walking.cache.feather')"
      ]
     },
     "metadata": {},
     "execution_count": 19
    }
   ],
   "metadata": {}
  },
  {
   "cell_type": "code",
   "execution_count": null,
   "source": [
    "#export\n",
    "\n",
    "def plot_walk(walk_df, map_handle, linecolour, linewidth, freq=100):\n",
    "    points = []\n",
    "    count = 0\n",
    "    for index, row in walk_df.iterrows():\n",
    "        count+=1\n",
    "        if count%freq == 0:\n",
    "            points.append((row['lat'], row['lon']))\n",
    "    folium.PolyLine(points, color=linecolour, weight=linewidth).add_to(map_handle)\n",
    "\n",
    "\n",
    "def plot_entire_walk(walk_data, map_handle, linecolour, linewidth):\n",
    "    for iHike, hike in enumerate(walk_data):\n",
    "        plot_walk(hike, map_handle, linecolour, linewidth)\n",
    "\n",
    "\n",
    "def plot_walk_points(walk_points, map_handle, linecolour, linewidth):\n",
    "    folium.PolyLine(walk_points, color=linecolour, weight=linewidth).add_to(map_handle)"
   ],
   "outputs": [],
   "metadata": {}
  },
  {
   "cell_type": "code",
   "execution_count": null,
   "source": [
    "#export\n",
    "\n",
    "IMAGE_PATH = 'emmaus_walking/resources'\n",
    "IMAGE_PATH = get_project_root_alternate() / IMAGE_PATH\n",
    "\n",
    "WALK_NAME = ['B2M: Bondi to Manly', 'B2W: Bondi to Wollongong', 'D2C: Drummoyne to Cockatoo', 'GNW: Great North Walk', \\\n",
    "            'GTL: Gladesville Loop', 'GWW*: Great West Walk', 'OLD: Old Bar', \"STM: St Michael's Golf Course\", \\\n",
    "            'SNM: Snowy Mountains (Thredo)', 'WNG*: Newcastle to Sydney']  # TODO: Extract this info from the cached meta-data file - from the meta-data in the database\n",
    "\n",
    "WALK_NAME += ['ALL: All Walks'] \n",
    "\n",
    "class SideBar:\n",
    "    datasource = app_config['APP']['DATASOURCE']\n",
    "    datasize = 0   # look to calculate this (in MB?) - TEST: Comment change\n",
    "    author = app_config['APP']['AUTHOR']\n",
    "    data_title = 'Data details...'\n",
    "    data_local = False\n",
    "    selected_data = None\n",
    "    walk_name = ''\n",
    "    linewidth = 4\n",
    "    linecolour = 'blue'\n",
    "    show_individual_walks = False\n",
    "\n",
    "\n",
    "def app_sidebar(APP_NAME):\n",
    "    \n",
    "    sb = SideBar()\n",
    "\n",
    "    st.sidebar.info(APP_NAME)\n",
    "    \n",
    "    #st.sidebar.markdown(sb.datasource)\n",
    "    #st.sidebar.info(sb.data_title)\n",
    "    #st.sidebar.markdown('Datasize: ' + str(sb.datasize))\n",
    "    sb.walk_name = st.sidebar.selectbox('Choose a walk [* indicates still in progress]', WALK_NAME, 0)\n",
    "    sb.linewidth = st.sidebar.slider('Line width:', min_value=1, max_value=5, value=3)\n",
    "    sb.linecolour = st.sidebar.radio('Line colour:', ['blue', 'green', 'red', 'yellow'], 0)\n",
    "    sb.show_individual_walks = st.sidebar.checkbox('Show individual walks', value=False, key=None, help=None)\n",
    "\n",
    "    col1, col2 = st.sidebar.beta_columns(2)\n",
    "    \n",
    "    with col1:\n",
    "        image1 = Image.open(IMAGE_PATH/'AppleWatchExercise.jpeg').resize((144, 144))  # NOTE: resize done here\n",
    "        st.image(image=image1, use_column_width=True, output_format='JPEG')\n",
    "    with col2:\n",
    "        image2 = Image.open(IMAGE_PATH/'HealthFitLogo.png')\n",
    "        st.image(image=image2, use_column_width=True, output_format='PNG')\n",
    "    \n",
    "    st.sidebar.markdown(sb.author)\n",
    "\n",
    "    return sb"
   ],
   "outputs": [],
   "metadata": {}
  },
  {
   "cell_type": "code",
   "execution_count": null,
   "source": [
    "WALK_NAME"
   ],
   "outputs": [],
   "metadata": {}
  },
  {
   "cell_type": "code",
   "execution_count": null,
   "source": [
    "#export\n",
    "\n",
    "#@st.cache\n",
    "def load_cached_walking_data():\n",
    "    all_walks_df = pd.read_feather(CACHED_WALK_DATA)   # load cached (downsampled) data\n",
    "    return all_walks_df"
   ],
   "outputs": [],
   "metadata": {}
  },
  {
   "cell_type": "code",
   "execution_count": null,
   "source": [
    "Path(CACHED_WALK_DATA)"
   ],
   "outputs": [],
   "metadata": {}
  },
  {
   "cell_type": "code",
   "execution_count": null,
   "source": [
    " all_walks_df = load_cached_walking_data()"
   ],
   "outputs": [],
   "metadata": {}
  },
  {
   "cell_type": "code",
   "execution_count": null,
   "source": [
    "#export\n",
    "\n",
    "def app_mainscreen(APP_NAME, sb):\n",
    "\n",
    "    #st.title(APP_NAME)\n",
    "    st.header(sb.walk_name)\n",
    "\n",
    "    # Load walking data\n",
    "    # OLD_WAY ---------------------------------------------------------------------------------------------\n",
    "    # sample_freq=50\n",
    "    # walk_data, walk_date, walk_files, walk_points = load_and_cache_raw_walk_data(sb.walk_name, sample_freq)\n",
    "\n",
    "    walk_name = sb.walk_name[0:3]\n",
    "    all_walks_df = load_cached_walking_data()\n",
    "\n",
    "    if walk_name != 'ALL':\n",
    "        walk_points = all_walks_df[all_walks_df['WalkName']==walk_name].groupby('WalkNumber')[['lat', 'lon', 'alt']]\n",
    "    else:\n",
    "        walk_points_all = []\n",
    "        for wname in all_walks_df['WalkName'].unique():\n",
    "            walk_points = all_walks_df[all_walks_df['WalkName']==wname].groupby('WalkNumber')[['lat', 'lon', 'alt']]\n",
    "            walk_points_all.append(walk_points)\n",
    "    \n",
    "    sb.datasize = all_walks_df.memory_usage(deep=True).sum() / 1024 / 1024\n",
    "\n",
    "    walk_data = []\n",
    "    for _, group in walk_points:\n",
    "        walk_data.append(group[['lat', 'lon', 'alt']].values.tolist())  \n",
    "\n",
    "    # walk_points = all_walks_df[all_walks_df['WalkName']==walk_name][['lat', 'lon']].values.tolist()\n",
    "\n",
    "    # TODO: Need to plot sub-walks seperately to avoid ordering issues\n",
    "\n",
    "    # total_time, total_distance, start_coord, end_coord = calc_walk_stats(walk_data)\n",
    "\n",
    "    start_coord = (0, 0)\n",
    "\n",
    "    map_handle = folium.Map(start_coord, zoom_start=13, detect_retina=True, control_scale=True)\n",
    "    \n",
    "    # plot_walk_points(walk_points, map_handle, sb.linecolour, sb.linewidth)\n",
    "\n",
    "    if walk_name != 'ALL':\n",
    "        for nwalk, walk in enumerate(walk_data):\n",
    "            if sb.show_individual_walks:\n",
    "                if nwalk % 2 == 0:\n",
    "                    plot_walk_points(walk, map_handle, 'blue', sb.linewidth)\n",
    "                else:\n",
    "                    plot_walk_points(walk, map_handle, 'red', sb.linewidth)\n",
    "            else:\n",
    "                plot_walk_points(walk, map_handle, sb.linecolour, sb.linewidth)\n",
    "    else:\n",
    "        for walk_points in walk_points_all:\n",
    "            walk_data = []\n",
    "            for _, group in walk_points:\n",
    "                walk_data.append(group[['lat', 'lon', 'alt']].values.tolist()) \n",
    "            for nwalk, walk in enumerate(walk_data):\n",
    "                plot_walk_points(walk, map_handle, sb.linecolour, sb.linewidth)\n",
    "\n",
    "    map_handle.fit_bounds(map_handle.get_bounds())\n",
    "\n",
    "    #TODO: Change the following to .format() and .join() not string \"addition\"\n",
    "\n",
    "    #st.write('Total time: ' + str(total_time))\n",
    "    #st.write('Total distance (km): ' + str(int(total_distance)))\n",
    "\n",
    "    folium_static(map_handle, width=700, height=450)\n",
    "\n",
    "    st.pyplot(altitude_fig)\n",
    "\n",
    "    return map_handle\n",
    "    #return map_handle, walk_data, walk_date, walk_points"
   ],
   "outputs": [],
   "metadata": {}
  },
  {
   "cell_type": "code",
   "execution_count": null,
   "source": [
    "map_handle = app_mainscreen(APP_NAME, sb)"
   ],
   "outputs": [],
   "metadata": {}
  },
  {
   "cell_type": "code",
   "execution_count": null,
   "source": [
    "#export\n",
    "\n",
    "def notebook_mainscreen(APP_NAME, sb):\n",
    "    \n",
    "    print(APP_NAME)\n",
    "\n",
    "    all_walks_df = load_cached_walking_data()\n",
    "\n",
    "    sb.datasize = all_walks_df.memory_usage(deep=True).sum() / 1024 / 1024\n",
    "\n",
    "    walk_name = sb.walk_name[0:3]\n",
    "    walk_name = 'GNW'\n",
    "\n",
    "    # walk_points = all_walks_df[all_walks_df['WalkName']==walk_name][['lat', 'lon']].values.tolist()\n",
    "    walk_points = all_walks_df[all_walks_df['WalkName']==walk_name].groupby('WalkNumber')[['lat', 'lon']]\n",
    "\n",
    "    walk_data = []\n",
    "    for _, group in walk_points:\n",
    "        walk_data.append(group[['lat', 'lon']].values.tolist())  \n",
    "\n",
    "    # TODO: Need to plot sub-walks seperately to avoid ordering issues\n",
    "\n",
    "    # total_time, total_distance, start_coord, end_coord = calc_walk_stats(walk_data)\n",
    "\n",
    "    start_coord = (0, 0)\n",
    "\n",
    "    map_handle = folium.Map(start_coord, zoom_start=13, detect_retina=True, control_scale=True)\n",
    "    \n",
    "    for walk in walk_data:\n",
    "        plot_walk_points(walk, map_handle, sb.linecolour, sb.linewidth)\n",
    "    map_handle.fit_bounds(map_handle.get_bounds())\n",
    "\n",
    "    print(sb.walk_name)\n",
    "    #print('Total time: ' + str(total_time))\n",
    "    #print('Total distance (km): ' + str(int(total_distance)))\n",
    "\n",
    "    #folium_static(map_handle)\n",
    "    return map_handle, None, None, walk_points"
   ],
   "outputs": [],
   "metadata": {}
  },
  {
   "cell_type": "code",
   "execution_count": null,
   "source": [
    "#export\n",
    "\n",
    "sb = app_sidebar(APP_NAME)\n",
    "\n",
    "if in_notebook():\n",
    "    map_handle, walk_data, walk_date, walk_points = notebook_mainscreen(APP_NAME, sb)\n",
    "    walk_date\n",
    "    display(map_handle)\n",
    "else:\n",
    "    map_handle = app_mainscreen(APP_NAME, sb)"
   ],
   "outputs": [],
   "metadata": {}
  },
  {
   "cell_type": "code",
   "execution_count": null,
   "source": [],
   "outputs": [],
   "metadata": {}
  }
 ],
 "metadata": {
  "interpreter": {
   "hash": "a22d2645d3afe98160956a5bd9591f63a934537cdda62e90bef32e6cf34fead0"
  },
  "kernelspec": {
   "name": "python3",
   "display_name": "Python 3.9.6 64-bit ('emmaus_walking_py38': conda)"
  },
  "language_info": {
   "codemirror_mode": {
    "name": "ipython",
    "version": 3
   },
   "file_extension": ".py",
   "mimetype": "text/x-python",
   "name": "python",
   "nbconvert_exporter": "python",
   "pygments_lexer": "ipython3",
   "version": "3.9.6"
  }
 },
 "nbformat": 4,
 "nbformat_minor": 2
}