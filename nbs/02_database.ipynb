{
 "cells": [
  {
   "cell_type": "code",
   "execution_count": 1,
   "source": [
    "# default_exp datapipe\n",
    "from nbdev import *"
   ],
   "outputs": [],
   "metadata": {}
  },
  {
   "cell_type": "markdown",
   "source": [
    "# Database - functions for data back-end / manipulations\n",
    "\n",
    "This is using an alternate approach:\n",
    "  - I have exported all of my Apple healthfit data from the Health app to export.zip \n",
    "  and then converted this to a SQLite database using `healthfit-to-sqlite`\n",
    "  - I am then creating a \"published\" version of this SQLite database using\n",
    "  Datasette.io\n",
    "  - I have a local version of this database running at http://localhost:8081/healthkit and\n",
    "  similarly I have an externally deployed version at https://my-healthkit-data.fly.dev\n",
    "  - I will then run queries against this database to build the cache file (or possibly a smaller custom sqlite file)\n",
    "\n",
    "## TODO\n",
    "* This is still a work in progress\n",
    "* Need to write the queries to marshall the data for each of the workouts within each group of walks\n",
    "* Then cache this data - maybe try another (small) sqlite db for the caching (instead of feather)\n",
    "* **NOTE: It looks like the queries are being truncated at 1000 values - need to fix**\n"
   ],
   "metadata": {}
  },
  {
   "cell_type": "code",
   "execution_count": 100,
   "source": [
    "#export\n",
    "import os\n",
    "import pandas as pd\n",
    "import activityio as aio\n",
    "from dateutil.parser import parse\n",
    "import datetime as dt\n",
    "import sqlite3 as sql\n",
    "from pathlib import Path\n",
    "import tomli\n",
    "import klib\n",
    "import subprocess\n",
    "import pendulum\n",
    "from sqlite_utils import Database\n",
    "import reverse_geocoder as rg\n",
    "\n"
   ],
   "outputs": [],
   "metadata": {}
  },
  {
   "cell_type": "code",
   "execution_count": 3,
   "source": [
    "try:\n",
    "    from emmaus_walking.core import in_notebook, get_project_root, get_project_root_alternate\n",
    "except:\n",
    "    from core import in_notebook, get_project_root, get_project_root_alternate"
   ],
   "outputs": [
    {
     "output_type": "stream",
     "name": "stdout",
     "text": [
      "In Jupyter notebook\n",
      "Project root directory: /Users/mjboothaus/code/github/mjboothaus/emmaus_walking\n"
     ]
    }
   ],
   "metadata": {}
  },
  {
   "cell_type": "markdown",
   "source": [
    "[https://databooth.slite.com/api/s/note/MEQPRcLKFqUE6ko2vVp3Yr/Datasette-io-approach](https://databooth.slite.com/api/s/note/MEQPRcLKFqUE6ko2vVp3Yr/Datasette-io-approach) (Slite page)\n",
    "\n",
    "e.g. start_datasette = subprocess.Popen('datasette ' + db_name + ' -m aus-covid-datasette-meta.json', stdout=subprocess.PIPE, shell=True)"
   ],
   "metadata": {}
  },
  {
   "cell_type": "code",
   "execution_count": 4,
   "source": [
    "HEALTHKIT_DATA_PATH = Path(\"/Users/mjboothaus/data/healthkit\")\n",
    "export_zip = HEALTHKIT_DATA_PATH / \"export.zip\"\n",
    "#EXPORT_ZIP_PATH = Path(\"/Users/mjboothaus/data/healthkit/export.zip\")"
   ],
   "outputs": [],
   "metadata": {}
  },
  {
   "cell_type": "code",
   "execution_count": 5,
   "source": [
    "def convert_healthkit_export_to_sqlite():\n",
    "    zip_file = export_zip.as_posix()\n",
    "    zip_file_date = pendulum.instance(dt.datetime.fromtimestamp(export_zip.stat().st_ctime))\n",
    "\n",
    "    db_file = zip_file.replace(\"export.zip\", \"healthkit.db\")\n",
    "    if Path(db_file).exists == True:\n",
    "        Path(db_file).unlink()\n",
    "    sp_cmd = \"pipx run healthkit-to-sqlite \" + zip_file + \" \" + db_file\n",
    "    print(sp_cmd)\n",
    "    print('---------------------------------------------------------------------------------------------')\n",
    "    print('Please wait: converting healthkit export.zip to sqlite database (takes just over a minute)...')\n",
    "\n",
    "    sp = subprocess.Popen(sp_cmd, stdout=subprocess.PIPE, shell=True)\n",
    "    (sp_output, sp_err) = sp.communicate()  \n",
    "\n",
    "    #This makes the wait possible\n",
    "    sp_status = sp.wait()\n",
    "\n",
    "    db_file_with_date = db_file.replace(\".db\", \"_\" + zip_file_date.to_date_string().replace(\"-\", \"_\") + \".db\")\n",
    "    \n",
    "    export_zip.rename(zip_file.replace(\".zip\", \"_\" + zip_file_date.to_date_string().replace(\"-\", \"_\") + \".zip\"))\n",
    "    Path(db_file).rename(db_file_with_date)\n",
    "\n",
    "    return db_file_with_date, sp_output"
   ],
   "outputs": [],
   "metadata": {}
  },
  {
   "cell_type": "code",
   "execution_count": 6,
   "source": [
    "db_file, output = convert_healthkit_export_to_sqlite()"
   ],
   "outputs": [
    {
     "output_type": "stream",
     "name": "stdout",
     "text": [
      "pipx run healthkit-to-sqlite /Users/mjboothaus/data/healthkit/export.zip /Users/mjboothaus/data/healthkit/healthkit.db\n",
      "---------------------------------------------------------------------------------------------\n",
      "Please wait: converting healthkit export.zip to sqlite database (takes just over a minute)...\n"
     ]
    }
   ],
   "metadata": {}
  },
  {
   "cell_type": "code",
   "execution_count": 7,
   "source": [
    "output"
   ],
   "outputs": [
    {
     "output_type": "execute_result",
     "data": {
      "text/plain": [
       "b'Importing from HealthKit\\n'"
      ]
     },
     "metadata": {},
     "execution_count": 7
    }
   ],
   "metadata": {}
  },
  {
   "cell_type": "markdown",
   "source": [
    "## Look at the HealthKit database via Datasette.io (and try an reduce to just needed data)"
   ],
   "metadata": {}
  },
  {
   "cell_type": "code",
   "execution_count": 95,
   "source": [
    "print(\"datasette \" + db_file + \" --setting sql_time_limit_ms 5000 &\")"
   ],
   "outputs": [
    {
     "output_type": "stream",
     "name": "stdout",
     "text": [
      "datasette /Users/mjboothaus/data/healthkit/healthkit_2021_07_31.db --setting sql_time_limit_ms 5000 &\n"
     ]
    }
   ],
   "metadata": {}
  },
  {
   "cell_type": "code",
   "execution_count": 51,
   "source": [
    "def create_df_from_sql_query_in_file(filename_dot_sql, conn, parse_dates):\n",
    "# Read the sql file\n",
    "    query_file = get_project_root_alternate() / \"sql\" / filename_dot_sql\n",
    "\n",
    "    with open(query_file, 'r') as query:\n",
    "        # connection == the connection to your database\n",
    "        sql_text = query.read()\n",
    "        print(sql_text)\n",
    "        df = pd.read_sql_query(sql_text, conn, parse_dates=parse_dates)\n",
    "    return df"
   ],
   "outputs": [],
   "metadata": {}
  },
  {
   "cell_type": "code",
   "execution_count": 10,
   "source": [
    "db = Database(db_file)"
   ],
   "outputs": [],
   "metadata": {}
  },
  {
   "cell_type": "code",
   "execution_count": 60,
   "source": [
    "workouts_df = create_df_from_sql_query_in_file(\"select_star_walking_workouts.sql\", db.conn, ['startDate', 'endDate'])"
   ],
   "outputs": [
    {
     "output_type": "stream",
     "name": "stdout",
     "text": [
      "select\n",
      "    id,\n",
      "    duration,\n",
      "    totaldistance,\n",
      "    totalenergyburned,\n",
      "    sourcename,\n",
      "    sourceversion,\n",
      "    startdate,\n",
      "    enddate,\n",
      "    metadata_hkweathertemperature,\n",
      "    metadata_hkweatherhumidity,\n",
      "    metadata_hkelevationascended,\n",
      "    metadata_hkaveragemets\n",
      "from\n",
      "    workouts\n",
      "where workoutactivitytype = \"HKWorkoutActivityTypeWalking\" order by id\n",
      "\n",
      "\n",
      " /* Excluded fields:\n",
      "    workoutactivitytype,   # just walking\n",
      "    durationunit,          # fixed - min\n",
      "    totaldistanceunit,     # fixed - km\n",
      "    totalenergyburnedunit, # fixed - kJ\n",
      "    device,\n",
      "    creationdate,          # not really of interest (start date instead)\n",
      "    workout_events,        # think this is redundant info (need to check - JSON?)\n",
      "    metadata_hkgroupfitness,\n",
      "    metadata_hkworkoutbrandname,\n",
      "    metadata_hktimezone,\n",
      "    metadata_hkcoachedworkout,\n",
      "    metadata_hkwasuserentered,\n",
      "    metadata_hkindoorworkout,\n",
      "    metadata_hkelevationascended,\n",
      "    metadata_hkswimminglocationtype,\n",
      "    metadata_hkaveragemets,\n",
      "    metadata_healthfit_sub_sport,\n",
      "    metadata_healthfit_route,\n",
      "    metadata_healthfit_file_type,\n",
      "    metadata_hkmaximumspeed,\n",
      "    metadata_healthfit_total_moving_time,\n",
      "    metadata_healthfit_total_distance,\n",
      "    metadata_healthfit_max_running_cadence,\n",
      "    metadata_healthfit_min_altitude,\n",
      "    metadata_healthfit_avg_running_cadence,\n",
      "    metadata_healthfit_app_build,\n",
      "    metadata_healthfit_fit_sport,\n",
      "    metadata_healthfit_fit_sub_sport,\n",
      "    metadata_healthfit_max_altitude,\n",
      "    metadata_healthfit_fit_manufacturer,\n",
      "    metadata_healthfit_total_strides,\n",
      "    metadata_healthfit_fit_serial_number,\n",
      "    metadata_healthfit_sport,\n",
      "    metadata_hkaveragespeed,\n",
      "    metadata_healthfit_app_version,\n",
      "    metadata_hkexternaluuid\n",
      " */\n",
      "\n"
     ]
    }
   ],
   "metadata": {}
  },
  {
   "cell_type": "code",
   "execution_count": 61,
   "source": [
    "workouts_df.head()"
   ],
   "outputs": [
    {
     "output_type": "execute_result",
     "data": {
      "text/plain": [
       "                                         id           duration  \\\n",
       "0  000d7757f079ab0f75a4db50621f052894aa33c2  30.05313618381818   \n",
       "1  0018d73a8cf8c051befbc9bfb427320431b54628  97.57144786715507   \n",
       "2  00645c031954e799f2bad6ca9f26529a676bc660  91.34290488362312   \n",
       "3  00e4a61ddc04be5ec7fca6130b97fb3694d07c7a  75.63339018424352   \n",
       "4  02b32c6480081df19693e7f5661f5f3c7ac65474  105.3766344666481   \n",
       "\n",
       "       totalDistance  totalEnergyBurned                         sourceName  \\\n",
       "0  1.177883369302785  639.2089883072423  Michael and Ai Leen’s Apple Watch   \n",
       "1  5.969473837612362  1843.191264816394  Michael and Ai Leen’s Apple Watch   \n",
       "2  5.020199223674742  2235.856794424977  Michael and Ai Leen’s Apple Watch   \n",
       "3  4.172883323542221  1718.733819123089  Michael and Ai Leen’s Apple Watch   \n",
       "4  6.767214865892154  2543.764525288699  Michael and Ai Leen’s Apple Watch   \n",
       "\n",
       "  sourceVersion                 startDate                   endDate  \\\n",
       "0           7.1 2021-01-06 13:53:19+10:00 2021-01-06 14:23:22+10:00   \n",
       "1         6.1.1 2020-03-23 09:15:24+10:00 2020-03-23 10:52:59+10:00   \n",
       "2         5.1.3 2019-04-08 11:41:03+10:00 2019-04-08 13:12:24+10:00   \n",
       "3         6.2.1 2020-05-06 16:23:43+10:00 2020-05-06 17:39:21+10:00   \n",
       "4         6.2.6 2020-06-24 15:10:00+10:00 2020-06-24 17:58:14+10:00   \n",
       "\n",
       "  metadata_HKWeatherTemperature metadata_HKWeatherHumidity  \\\n",
       "0                     73.4 degF                     6900 %   \n",
       "1                       68 degF                     6400 %   \n",
       "2                       84 degF                     4300 %   \n",
       "3                       71 degF                     4500 %   \n",
       "4                       65 degF                     4900 %   \n",
       "\n",
       "  metadata_HKElevationAscended metadata_HKAverageMETs  \n",
       "0                      3899 cm     3.82314 kcal/hr·kg  \n",
       "1                      9430 cm     3.30812 kcal/hr·kg  \n",
       "2                     13916 cm                   None  \n",
       "3                      7325 cm     3.94665 kcal/hr·kg  \n",
       "4                      8025 cm                   None  "
      ],
      "text/html": [
       "<div>\n",
       "<style scoped>\n",
       "    .dataframe tbody tr th:only-of-type {\n",
       "        vertical-align: middle;\n",
       "    }\n",
       "\n",
       "    .dataframe tbody tr th {\n",
       "        vertical-align: top;\n",
       "    }\n",
       "\n",
       "    .dataframe thead th {\n",
       "        text-align: right;\n",
       "    }\n",
       "</style>\n",
       "<table border=\"1\" class=\"dataframe\">\n",
       "  <thead>\n",
       "    <tr style=\"text-align: right;\">\n",
       "      <th></th>\n",
       "      <th>id</th>\n",
       "      <th>duration</th>\n",
       "      <th>totalDistance</th>\n",
       "      <th>totalEnergyBurned</th>\n",
       "      <th>sourceName</th>\n",
       "      <th>sourceVersion</th>\n",
       "      <th>startDate</th>\n",
       "      <th>endDate</th>\n",
       "      <th>metadata_HKWeatherTemperature</th>\n",
       "      <th>metadata_HKWeatherHumidity</th>\n",
       "      <th>metadata_HKElevationAscended</th>\n",
       "      <th>metadata_HKAverageMETs</th>\n",
       "    </tr>\n",
       "  </thead>\n",
       "  <tbody>\n",
       "    <tr>\n",
       "      <th>0</th>\n",
       "      <td>000d7757f079ab0f75a4db50621f052894aa33c2</td>\n",
       "      <td>30.05313618381818</td>\n",
       "      <td>1.177883369302785</td>\n",
       "      <td>639.2089883072423</td>\n",
       "      <td>Michael and Ai Leen’s Apple Watch</td>\n",
       "      <td>7.1</td>\n",
       "      <td>2021-01-06 13:53:19+10:00</td>\n",
       "      <td>2021-01-06 14:23:22+10:00</td>\n",
       "      <td>73.4 degF</td>\n",
       "      <td>6900 %</td>\n",
       "      <td>3899 cm</td>\n",
       "      <td>3.82314 kcal/hr·kg</td>\n",
       "    </tr>\n",
       "    <tr>\n",
       "      <th>1</th>\n",
       "      <td>0018d73a8cf8c051befbc9bfb427320431b54628</td>\n",
       "      <td>97.57144786715507</td>\n",
       "      <td>5.969473837612362</td>\n",
       "      <td>1843.191264816394</td>\n",
       "      <td>Michael and Ai Leen’s Apple Watch</td>\n",
       "      <td>6.1.1</td>\n",
       "      <td>2020-03-23 09:15:24+10:00</td>\n",
       "      <td>2020-03-23 10:52:59+10:00</td>\n",
       "      <td>68 degF</td>\n",
       "      <td>6400 %</td>\n",
       "      <td>9430 cm</td>\n",
       "      <td>3.30812 kcal/hr·kg</td>\n",
       "    </tr>\n",
       "    <tr>\n",
       "      <th>2</th>\n",
       "      <td>00645c031954e799f2bad6ca9f26529a676bc660</td>\n",
       "      <td>91.34290488362312</td>\n",
       "      <td>5.020199223674742</td>\n",
       "      <td>2235.856794424977</td>\n",
       "      <td>Michael and Ai Leen’s Apple Watch</td>\n",
       "      <td>5.1.3</td>\n",
       "      <td>2019-04-08 11:41:03+10:00</td>\n",
       "      <td>2019-04-08 13:12:24+10:00</td>\n",
       "      <td>84 degF</td>\n",
       "      <td>4300 %</td>\n",
       "      <td>13916 cm</td>\n",
       "      <td>None</td>\n",
       "    </tr>\n",
       "    <tr>\n",
       "      <th>3</th>\n",
       "      <td>00e4a61ddc04be5ec7fca6130b97fb3694d07c7a</td>\n",
       "      <td>75.63339018424352</td>\n",
       "      <td>4.172883323542221</td>\n",
       "      <td>1718.733819123089</td>\n",
       "      <td>Michael and Ai Leen’s Apple Watch</td>\n",
       "      <td>6.2.1</td>\n",
       "      <td>2020-05-06 16:23:43+10:00</td>\n",
       "      <td>2020-05-06 17:39:21+10:00</td>\n",
       "      <td>71 degF</td>\n",
       "      <td>4500 %</td>\n",
       "      <td>7325 cm</td>\n",
       "      <td>3.94665 kcal/hr·kg</td>\n",
       "    </tr>\n",
       "    <tr>\n",
       "      <th>4</th>\n",
       "      <td>02b32c6480081df19693e7f5661f5f3c7ac65474</td>\n",
       "      <td>105.3766344666481</td>\n",
       "      <td>6.767214865892154</td>\n",
       "      <td>2543.764525288699</td>\n",
       "      <td>Michael and Ai Leen’s Apple Watch</td>\n",
       "      <td>6.2.6</td>\n",
       "      <td>2020-06-24 15:10:00+10:00</td>\n",
       "      <td>2020-06-24 17:58:14+10:00</td>\n",
       "      <td>65 degF</td>\n",
       "      <td>4900 %</td>\n",
       "      <td>8025 cm</td>\n",
       "      <td>None</td>\n",
       "    </tr>\n",
       "  </tbody>\n",
       "</table>\n",
       "</div>"
      ]
     },
     "metadata": {},
     "execution_count": 61
    }
   ],
   "metadata": {}
  },
  {
   "cell_type": "code",
   "execution_count": 96,
   "source": [
    "# Trying to find the start point in each walk workout -- as date is not a date field in db not clear if sort by date and limit 1 will work\n",
    "# might need to import table to pandas convert types and then export to db before doing query. Else use sqlite_utils to change column types.\n",
    "\n",
    "start_point_df = create_df_from_sql_query_in_file(\"select_start_point_workout.sql\", db.conn, ['date'])"
   ],
   "outputs": [
    {
     "output_type": "stream",
     "name": "stdout",
     "text": [
      "select\n",
      "    date,\n",
      "    latitude,\n",
      "    longitude,\n",
      "    altitude,\n",
      "    workout_id\n",
      "from\n",
      "    workout_points\n",
      "group by\n",
      "    workout_id\n",
      "order by\n",
      "    date desc\n",
      "\n"
     ]
    }
   ],
   "metadata": {}
  },
  {
   "cell_type": "code",
   "execution_count": 97,
   "source": [
    "start_point_df.info()"
   ],
   "outputs": [
    {
     "output_type": "stream",
     "name": "stdout",
     "text": [
      "<class 'pandas.core.frame.DataFrame'>\n",
      "RangeIndex: 562 entries, 0 to 561\n",
      "Data columns (total 5 columns):\n",
      " #   Column      Non-Null Count  Dtype              \n",
      "---  ------      --------------  -----              \n",
      " 0   date        562 non-null    datetime64[ns, UTC]\n",
      " 1   latitude    562 non-null    float64            \n",
      " 2   longitude   562 non-null    float64            \n",
      " 3   altitude    562 non-null    float64            \n",
      " 4   workout_id  562 non-null    object             \n",
      "dtypes: datetime64[ns, UTC](1), float64(3), object(1)\n",
      "memory usage: 22.1+ KB\n"
     ]
    }
   ],
   "metadata": {}
  },
  {
   "cell_type": "code",
   "execution_count": 121,
   "source": [
    "start_point_df.head()"
   ],
   "outputs": [
    {
     "output_type": "execute_result",
     "data": {
      "text/plain": [
       "                       date   latitude   longitude   altitude  \\\n",
       "0 2021-07-29 20:26:14+00:00 -33.847070  151.152657  24.360422   \n",
       "1 2021-07-28 22:45:24+00:00 -33.847106  151.152939   8.810939   \n",
       "2 2021-07-28 05:27:14+00:00 -33.847142  151.152727  26.479507   \n",
       "3 2021-07-27 21:47:09+00:00 -33.847187  151.152798  47.524326   \n",
       "4 2021-07-27 05:25:56+00:00 -33.847177  151.152536  27.812546   \n",
       "\n",
       "                                 workout_id  \\\n",
       "0  713b1dff505e67abc656493cfa63c689458aac48   \n",
       "1  c76a3094123013f7cc03faea0fb696f1ae3b69ce   \n",
       "2  09c70a1e57a1fb2111c7dfc5afcbb4774f0e11fe   \n",
       "3  cbb3db7719584fe7291d794ed7bd56dea4c003bf   \n",
       "4  b4c63ad61db995ae240368175e57df4798337bd7   \n",
       "\n",
       "                            location            dateExcel  \n",
       "0  [Canada Bay, New South Wales, AU]  2021-07-29 20:26:14  \n",
       "1  [Canada Bay, New South Wales, AU]  2021-07-28 22:45:24  \n",
       "2  [Canada Bay, New South Wales, AU]  2021-07-28 05:27:14  \n",
       "3  [Canada Bay, New South Wales, AU]  2021-07-27 21:47:09  \n",
       "4  [Canada Bay, New South Wales, AU]  2021-07-27 05:25:56  "
      ],
      "text/html": [
       "<div>\n",
       "<style scoped>\n",
       "    .dataframe tbody tr th:only-of-type {\n",
       "        vertical-align: middle;\n",
       "    }\n",
       "\n",
       "    .dataframe tbody tr th {\n",
       "        vertical-align: top;\n",
       "    }\n",
       "\n",
       "    .dataframe thead th {\n",
       "        text-align: right;\n",
       "    }\n",
       "</style>\n",
       "<table border=\"1\" class=\"dataframe\">\n",
       "  <thead>\n",
       "    <tr style=\"text-align: right;\">\n",
       "      <th></th>\n",
       "      <th>date</th>\n",
       "      <th>latitude</th>\n",
       "      <th>longitude</th>\n",
       "      <th>altitude</th>\n",
       "      <th>workout_id</th>\n",
       "      <th>location</th>\n",
       "      <th>dateExcel</th>\n",
       "    </tr>\n",
       "  </thead>\n",
       "  <tbody>\n",
       "    <tr>\n",
       "      <th>0</th>\n",
       "      <td>2021-07-29 20:26:14+00:00</td>\n",
       "      <td>-33.847070</td>\n",
       "      <td>151.152657</td>\n",
       "      <td>24.360422</td>\n",
       "      <td>713b1dff505e67abc656493cfa63c689458aac48</td>\n",
       "      <td>[Canada Bay, New South Wales, AU]</td>\n",
       "      <td>2021-07-29 20:26:14</td>\n",
       "    </tr>\n",
       "    <tr>\n",
       "      <th>1</th>\n",
       "      <td>2021-07-28 22:45:24+00:00</td>\n",
       "      <td>-33.847106</td>\n",
       "      <td>151.152939</td>\n",
       "      <td>8.810939</td>\n",
       "      <td>c76a3094123013f7cc03faea0fb696f1ae3b69ce</td>\n",
       "      <td>[Canada Bay, New South Wales, AU]</td>\n",
       "      <td>2021-07-28 22:45:24</td>\n",
       "    </tr>\n",
       "    <tr>\n",
       "      <th>2</th>\n",
       "      <td>2021-07-28 05:27:14+00:00</td>\n",
       "      <td>-33.847142</td>\n",
       "      <td>151.152727</td>\n",
       "      <td>26.479507</td>\n",
       "      <td>09c70a1e57a1fb2111c7dfc5afcbb4774f0e11fe</td>\n",
       "      <td>[Canada Bay, New South Wales, AU]</td>\n",
       "      <td>2021-07-28 05:27:14</td>\n",
       "    </tr>\n",
       "    <tr>\n",
       "      <th>3</th>\n",
       "      <td>2021-07-27 21:47:09+00:00</td>\n",
       "      <td>-33.847187</td>\n",
       "      <td>151.152798</td>\n",
       "      <td>47.524326</td>\n",
       "      <td>cbb3db7719584fe7291d794ed7bd56dea4c003bf</td>\n",
       "      <td>[Canada Bay, New South Wales, AU]</td>\n",
       "      <td>2021-07-27 21:47:09</td>\n",
       "    </tr>\n",
       "    <tr>\n",
       "      <th>4</th>\n",
       "      <td>2021-07-27 05:25:56+00:00</td>\n",
       "      <td>-33.847177</td>\n",
       "      <td>151.152536</td>\n",
       "      <td>27.812546</td>\n",
       "      <td>b4c63ad61db995ae240368175e57df4798337bd7</td>\n",
       "      <td>[Canada Bay, New South Wales, AU]</td>\n",
       "      <td>2021-07-27 05:25:56</td>\n",
       "    </tr>\n",
       "  </tbody>\n",
       "</table>\n",
       "</div>"
      ]
     },
     "metadata": {},
     "execution_count": 121
    }
   ],
   "metadata": {}
  },
  {
   "cell_type": "code",
   "execution_count": 114,
   "source": [
    "def get_starting_location(latitude, longitude):\n",
    "    location = rg.search((latitude, longitude))\n",
    "    return [location[0]['name'], location[0]['admin1'], location[0]['cc']]"
   ],
   "outputs": [],
   "metadata": {}
  },
  {
   "cell_type": "code",
   "execution_count": 115,
   "source": [
    "start_point_df['location'] = start_point_df.apply(lambda row: get_starting_location(float(row[1]), float(row[2])), axis=1)"
   ],
   "outputs": [],
   "metadata": {}
  },
  {
   "cell_type": "code",
   "execution_count": 124,
   "source": [
    "start_point_df['date'] = start_point_df['date'].apply(lambda dt: pendulum.instance(dt).to_datetime_string())"
   ],
   "outputs": [],
   "metadata": {}
  },
  {
   "cell_type": "code",
   "execution_count": 125,
   "source": [
    "start_point_df.to_excel('start_point_df.xlsx', index=False)"
   ],
   "outputs": [],
   "metadata": {}
  },
  {
   "cell_type": "code",
   "execution_count": 131,
   "source": [
    "start_point_df['workout_id'].nunique() / len(start_point_df)"
   ],
   "outputs": [
    {
     "output_type": "execute_result",
     "data": {
      "text/plain": [
       "1.0"
      ]
     },
     "metadata": {},
     "execution_count": 131
    }
   ],
   "metadata": {}
  },
  {
   "cell_type": "code",
   "execution_count": 62,
   "source": [
    "workouts_df.info()"
   ],
   "outputs": [
    {
     "output_type": "stream",
     "name": "stdout",
     "text": [
      "<class 'pandas.core.frame.DataFrame'>\n",
      "RangeIndex: 509 entries, 0 to 508\n",
      "Data columns (total 12 columns):\n",
      " #   Column                         Non-Null Count  Dtype                                \n",
      "---  ------                         --------------  -----                                \n",
      " 0   id                             509 non-null    object                               \n",
      " 1   duration                       509 non-null    object                               \n",
      " 2   totalDistance                  509 non-null    object                               \n",
      " 3   totalEnergyBurned              509 non-null    object                               \n",
      " 4   sourceName                     509 non-null    object                               \n",
      " 5   sourceVersion                  509 non-null    object                               \n",
      " 6   startDate                      509 non-null    datetime64[ns, pytz.FixedOffset(600)]\n",
      " 7   endDate                        509 non-null    datetime64[ns, pytz.FixedOffset(600)]\n",
      " 8   metadata_HKWeatherTemperature  461 non-null    object                               \n",
      " 9   metadata_HKWeatherHumidity     459 non-null    object                               \n",
      " 10  metadata_HKElevationAscended   373 non-null    object                               \n",
      " 11  metadata_HKAverageMETs         293 non-null    object                               \n",
      "dtypes: datetime64[ns, pytz.FixedOffset(600)](2), object(10)\n",
      "memory usage: 47.8+ KB\n"
     ]
    }
   ],
   "metadata": {}
  },
  {
   "cell_type": "code",
   "execution_count": 63,
   "source": [
    "workouts_df_cleaned = klib.data_cleaning(workouts_df)"
   ],
   "outputs": [
    {
     "output_type": "stream",
     "name": "stdout",
     "text": [
      "Long column names detected (>25 characters). Consider renaming the following columns ['metadata_hkweather_temperature', 'metadata_hkweather_humidity', 'metadata_hkelevation_ascended'].\n",
      "Shape of cleaned data: (509, 12)Remaining NAs: 450\n",
      "\n",
      "Changes:\n",
      "Dropped rows: 0\n",
      "     of which 0 duplicates. (Rows: [])\n",
      "Dropped columns: 0\n",
      "     of which 0 single valued.     Columns: []\n",
      "Dropped missing values: 0\n",
      "Reduced memory by at least: -0.01 MB (--20.0%)\n",
      "\n"
     ]
    },
    {
     "output_type": "stream",
     "name": "stderr",
     "text": [
      "/opt/homebrew/Caskroom/mambaforge/base/envs/emmaus_walking_py38/lib/python3.9/site-packages/klib/clean.py:76: FutureWarning: The default value of regex will change from True to False in a future version. In addition, single character regular expressions will *not* be treated as literal strings when regex=True.\n",
      "  data.columns.str.replace(\"\\n\", \"_\")\n"
     ]
    }
   ],
   "metadata": {}
  },
  {
   "cell_type": "code",
   "execution_count": 64,
   "source": [
    "workouts_df_cleaned.info()"
   ],
   "outputs": [
    {
     "output_type": "stream",
     "name": "stdout",
     "text": [
      "<class 'pandas.core.frame.DataFrame'>\n",
      "Int64Index: 509 entries, 0 to 508\n",
      "Data columns (total 12 columns):\n",
      " #   Column                          Non-Null Count  Dtype                                \n",
      "---  ------                          --------------  -----                                \n",
      " 0   id                              509 non-null    string                               \n",
      " 1   duration                        509 non-null    string                               \n",
      " 2   total_distance                  509 non-null    string                               \n",
      " 3   total_energy_burned             509 non-null    string                               \n",
      " 4   source_name                     509 non-null    category                             \n",
      " 5   source_version                  509 non-null    string                               \n",
      " 6   start_date                      509 non-null    datetime64[ns, pytz.FixedOffset(600)]\n",
      " 7   end_date                        509 non-null    datetime64[ns, pytz.FixedOffset(600)]\n",
      " 8   metadata_hkweather_temperature  461 non-null    string                               \n",
      " 9   metadata_hkweather_humidity     459 non-null    string                               \n",
      " 10  metadata_hkelevation_ascended   373 non-null    string                               \n",
      " 11  metadata_hkaverage_mets         293 non-null    string                               \n",
      "dtypes: category(1), datetime64[ns, pytz.FixedOffset(600)](2), string(9)\n",
      "memory usage: 64.5 KB\n"
     ]
    }
   ],
   "metadata": {}
  },
  {
   "cell_type": "code",
   "execution_count": 65,
   "source": [
    "workouts_df_cleaned.head()"
   ],
   "outputs": [
    {
     "output_type": "execute_result",
     "data": {
      "text/plain": [
       "                                         id           duration  \\\n",
       "0  000d7757f079ab0f75a4db50621f052894aa33c2  30.05313618381818   \n",
       "1  0018d73a8cf8c051befbc9bfb427320431b54628  97.57144786715507   \n",
       "2  00645c031954e799f2bad6ca9f26529a676bc660  91.34290488362312   \n",
       "3  00e4a61ddc04be5ec7fca6130b97fb3694d07c7a  75.63339018424352   \n",
       "4  02b32c6480081df19693e7f5661f5f3c7ac65474  105.3766344666481   \n",
       "\n",
       "      total_distance total_energy_burned                        source_name  \\\n",
       "0  1.177883369302785   639.2089883072423  Michael and Ai Leen’s Apple Watch   \n",
       "1  5.969473837612362   1843.191264816394  Michael and Ai Leen’s Apple Watch   \n",
       "2  5.020199223674742   2235.856794424977  Michael and Ai Leen’s Apple Watch   \n",
       "3  4.172883323542221   1718.733819123089  Michael and Ai Leen’s Apple Watch   \n",
       "4  6.767214865892154   2543.764525288699  Michael and Ai Leen’s Apple Watch   \n",
       "\n",
       "  source_version                start_date                  end_date  \\\n",
       "0            7.1 2021-01-06 13:53:19+10:00 2021-01-06 14:23:22+10:00   \n",
       "1          6.1.1 2020-03-23 09:15:24+10:00 2020-03-23 10:52:59+10:00   \n",
       "2          5.1.3 2019-04-08 11:41:03+10:00 2019-04-08 13:12:24+10:00   \n",
       "3          6.2.1 2020-05-06 16:23:43+10:00 2020-05-06 17:39:21+10:00   \n",
       "4          6.2.6 2020-06-24 15:10:00+10:00 2020-06-24 17:58:14+10:00   \n",
       "\n",
       "  metadata_hkweather_temperature metadata_hkweather_humidity  \\\n",
       "0                      73.4 degF                      6900 %   \n",
       "1                        68 degF                      6400 %   \n",
       "2                        84 degF                      4300 %   \n",
       "3                        71 degF                      4500 %   \n",
       "4                        65 degF                      4900 %   \n",
       "\n",
       "  metadata_hkelevation_ascended metadata_hkaverage_mets  \n",
       "0                       3899 cm      3.82314 kcal/hr·kg  \n",
       "1                       9430 cm      3.30812 kcal/hr·kg  \n",
       "2                      13916 cm                    <NA>  \n",
       "3                       7325 cm      3.94665 kcal/hr·kg  \n",
       "4                       8025 cm                    <NA>  "
      ],
      "text/html": [
       "<div>\n",
       "<style scoped>\n",
       "    .dataframe tbody tr th:only-of-type {\n",
       "        vertical-align: middle;\n",
       "    }\n",
       "\n",
       "    .dataframe tbody tr th {\n",
       "        vertical-align: top;\n",
       "    }\n",
       "\n",
       "    .dataframe thead th {\n",
       "        text-align: right;\n",
       "    }\n",
       "</style>\n",
       "<table border=\"1\" class=\"dataframe\">\n",
       "  <thead>\n",
       "    <tr style=\"text-align: right;\">\n",
       "      <th></th>\n",
       "      <th>id</th>\n",
       "      <th>duration</th>\n",
       "      <th>total_distance</th>\n",
       "      <th>total_energy_burned</th>\n",
       "      <th>source_name</th>\n",
       "      <th>source_version</th>\n",
       "      <th>start_date</th>\n",
       "      <th>end_date</th>\n",
       "      <th>metadata_hkweather_temperature</th>\n",
       "      <th>metadata_hkweather_humidity</th>\n",
       "      <th>metadata_hkelevation_ascended</th>\n",
       "      <th>metadata_hkaverage_mets</th>\n",
       "    </tr>\n",
       "  </thead>\n",
       "  <tbody>\n",
       "    <tr>\n",
       "      <th>0</th>\n",
       "      <td>000d7757f079ab0f75a4db50621f052894aa33c2</td>\n",
       "      <td>30.05313618381818</td>\n",
       "      <td>1.177883369302785</td>\n",
       "      <td>639.2089883072423</td>\n",
       "      <td>Michael and Ai Leen’s Apple Watch</td>\n",
       "      <td>7.1</td>\n",
       "      <td>2021-01-06 13:53:19+10:00</td>\n",
       "      <td>2021-01-06 14:23:22+10:00</td>\n",
       "      <td>73.4 degF</td>\n",
       "      <td>6900 %</td>\n",
       "      <td>3899 cm</td>\n",
       "      <td>3.82314 kcal/hr·kg</td>\n",
       "    </tr>\n",
       "    <tr>\n",
       "      <th>1</th>\n",
       "      <td>0018d73a8cf8c051befbc9bfb427320431b54628</td>\n",
       "      <td>97.57144786715507</td>\n",
       "      <td>5.969473837612362</td>\n",
       "      <td>1843.191264816394</td>\n",
       "      <td>Michael and Ai Leen’s Apple Watch</td>\n",
       "      <td>6.1.1</td>\n",
       "      <td>2020-03-23 09:15:24+10:00</td>\n",
       "      <td>2020-03-23 10:52:59+10:00</td>\n",
       "      <td>68 degF</td>\n",
       "      <td>6400 %</td>\n",
       "      <td>9430 cm</td>\n",
       "      <td>3.30812 kcal/hr·kg</td>\n",
       "    </tr>\n",
       "    <tr>\n",
       "      <th>2</th>\n",
       "      <td>00645c031954e799f2bad6ca9f26529a676bc660</td>\n",
       "      <td>91.34290488362312</td>\n",
       "      <td>5.020199223674742</td>\n",
       "      <td>2235.856794424977</td>\n",
       "      <td>Michael and Ai Leen’s Apple Watch</td>\n",
       "      <td>5.1.3</td>\n",
       "      <td>2019-04-08 11:41:03+10:00</td>\n",
       "      <td>2019-04-08 13:12:24+10:00</td>\n",
       "      <td>84 degF</td>\n",
       "      <td>4300 %</td>\n",
       "      <td>13916 cm</td>\n",
       "      <td>&lt;NA&gt;</td>\n",
       "    </tr>\n",
       "    <tr>\n",
       "      <th>3</th>\n",
       "      <td>00e4a61ddc04be5ec7fca6130b97fb3694d07c7a</td>\n",
       "      <td>75.63339018424352</td>\n",
       "      <td>4.172883323542221</td>\n",
       "      <td>1718.733819123089</td>\n",
       "      <td>Michael and Ai Leen’s Apple Watch</td>\n",
       "      <td>6.2.1</td>\n",
       "      <td>2020-05-06 16:23:43+10:00</td>\n",
       "      <td>2020-05-06 17:39:21+10:00</td>\n",
       "      <td>71 degF</td>\n",
       "      <td>4500 %</td>\n",
       "      <td>7325 cm</td>\n",
       "      <td>3.94665 kcal/hr·kg</td>\n",
       "    </tr>\n",
       "    <tr>\n",
       "      <th>4</th>\n",
       "      <td>02b32c6480081df19693e7f5661f5f3c7ac65474</td>\n",
       "      <td>105.3766344666481</td>\n",
       "      <td>6.767214865892154</td>\n",
       "      <td>2543.764525288699</td>\n",
       "      <td>Michael and Ai Leen’s Apple Watch</td>\n",
       "      <td>6.2.6</td>\n",
       "      <td>2020-06-24 15:10:00+10:00</td>\n",
       "      <td>2020-06-24 17:58:14+10:00</td>\n",
       "      <td>65 degF</td>\n",
       "      <td>4900 %</td>\n",
       "      <td>8025 cm</td>\n",
       "      <td>&lt;NA&gt;</td>\n",
       "    </tr>\n",
       "  </tbody>\n",
       "</table>\n",
       "</div>"
      ]
     },
     "metadata": {},
     "execution_count": 65
    }
   ],
   "metadata": {}
  },
  {
   "cell_type": "code",
   "execution_count": 66,
   "source": [
    "db_file"
   ],
   "outputs": [
    {
     "output_type": "execute_result",
     "data": {
      "text/plain": [
       "'/Users/mjboothaus/data/healthkit/healthkit_2021_07_31.db'"
      ]
     },
     "metadata": {},
     "execution_count": 66
    }
   ],
   "metadata": {}
  },
  {
   "cell_type": "code",
   "execution_count": 67,
   "source": [
    "workouts_csv = HEALTHKIT_DATA_PATH / \"workouts.csv\""
   ],
   "outputs": [],
   "metadata": {}
  },
  {
   "cell_type": "code",
   "execution_count": 68,
   "source": [
    "workouts_df_cleaned.to_csv(workouts_csv, index=False)"
   ],
   "outputs": [],
   "metadata": {}
  },
  {
   "cell_type": "code",
   "execution_count": 69,
   "source": [
    "workouts_df_cleaned.columns"
   ],
   "outputs": [
    {
     "output_type": "execute_result",
     "data": {
      "text/plain": [
       "Index(['id', 'duration', 'total_distance', 'total_energy_burned',\n",
       "       'source_name', 'source_version', 'start_date', 'end_date',\n",
       "       'metadata_hkweather_temperature', 'metadata_hkweather_humidity',\n",
       "       'metadata_hkelevation_ascended', 'metadata_hkaverage_mets'],\n",
       "      dtype='object')"
      ]
     },
     "metadata": {},
     "execution_count": 69
    }
   ],
   "metadata": {}
  },
  {
   "cell_type": "code",
   "execution_count": 70,
   "source": [
    "workouts_df_cleaned.nunique()"
   ],
   "outputs": [
    {
     "output_type": "execute_result",
     "data": {
      "text/plain": [
       "id                                509\n",
       "duration                          508\n",
       "total_distance                    508\n",
       "total_energy_burned               508\n",
       "source_name                         2\n",
       "source_version                     28\n",
       "start_date                        507\n",
       "end_date                          507\n",
       "metadata_hkweather_temperature     66\n",
       "metadata_hkweather_humidity        83\n",
       "metadata_hkelevation_ascended     366\n",
       "metadata_hkaverage_mets           293\n",
       "dtype: int64"
      ]
     },
     "metadata": {},
     "execution_count": 70
    }
   ],
   "metadata": {}
  },
  {
   "cell_type": "code",
   "execution_count": 48,
   "source": [
    "[col for col in workouts_df.columns.values if col not in workouts_df_cleaned.columns.values]"
   ],
   "outputs": [
    {
     "output_type": "execute_result",
     "data": {
      "text/plain": [
       "['totalDistance',\n",
       " 'totalEnergyBurned',\n",
       " 'sourceName',\n",
       " 'sourceVersion',\n",
       " 'startDate',\n",
       " 'endDate',\n",
       " 'metadata_HKWeatherTemperature',\n",
       " 'metadata_HKWeatherHumidity',\n",
       " 'metadata_HKElevationAscended',\n",
       " 'metadata_HKAverageMETs']"
      ]
     },
     "metadata": {},
     "execution_count": 48
    }
   ],
   "metadata": {}
  },
  {
   "cell_type": "code",
   "execution_count": null,
   "source": [],
   "outputs": [],
   "metadata": {}
  },
  {
   "cell_type": "code",
   "execution_count": 49,
   "source": [
    "tables_df = create_df_from_sql_query_in_file(\"list_all_tables.sql\", db.conn)"
   ],
   "outputs": [
    {
     "output_type": "stream",
     "name": "stdout",
     "text": [
      "SELECT name FROM sqlite_master WHERE type = \"table\"\n"
     ]
    }
   ],
   "metadata": {}
  },
  {
   "cell_type": "code",
   "execution_count": 50,
   "source": [
    "tables_df"
   ],
   "outputs": [
    {
     "output_type": "execute_result",
     "data": {
      "text/plain": [
       "                               name\n",
       "0                           rHeight\n",
       "1                         rBodyMass\n",
       "2                        rHeartRate\n",
       "3            rBloodPressureSystolic\n",
       "4           rBloodPressureDiastolic\n",
       "5                        rStepCount\n",
       "6           rDistanceWalkingRunning\n",
       "7                rBasalEnergyBurned\n",
       "8               rActiveEnergyBurned\n",
       "9                   rFlightsClimbed\n",
       "10               rAppleExerciseTime\n",
       "11                 rDistanceCycling\n",
       "12                rDistanceSwimming\n",
       "13             rSwimmingStrokeCount\n",
       "14                rRestingHeartRate\n",
       "15                          rVO2Max\n",
       "16         rWalkingHeartRateAverage\n",
       "17      rEnvironmentalAudioExposure\n",
       "18          rHeadphoneAudioExposure\n",
       "19  rWalkingDoubleSupportPercentage\n",
       "20       rSixMinuteWalkTestDistance\n",
       "21                  rAppleStandTime\n",
       "22                    rWalkingSpeed\n",
       "23               rWalkingStepLength\n",
       "24      rWalkingAsymmetryPercentage\n",
       "25                rStairAscentSpeed\n",
       "26               rStairDescentSpeed\n",
       "27     rHKDataTypeSleepDurationGoal\n",
       "28                   rSleepAnalysis\n",
       "29                  rAppleStandHour\n",
       "30                  rMindfulSession\n",
       "31              rAudioExposureEvent\n",
       "32                         workouts\n",
       "33                   workout_points\n",
       "34                 activity_summary\n",
       "35        rHeartRateVariabilitySDNN"
      ],
      "text/html": [
       "<div>\n",
       "<style scoped>\n",
       "    .dataframe tbody tr th:only-of-type {\n",
       "        vertical-align: middle;\n",
       "    }\n",
       "\n",
       "    .dataframe tbody tr th {\n",
       "        vertical-align: top;\n",
       "    }\n",
       "\n",
       "    .dataframe thead th {\n",
       "        text-align: right;\n",
       "    }\n",
       "</style>\n",
       "<table border=\"1\" class=\"dataframe\">\n",
       "  <thead>\n",
       "    <tr style=\"text-align: right;\">\n",
       "      <th></th>\n",
       "      <th>name</th>\n",
       "    </tr>\n",
       "  </thead>\n",
       "  <tbody>\n",
       "    <tr>\n",
       "      <th>0</th>\n",
       "      <td>rHeight</td>\n",
       "    </tr>\n",
       "    <tr>\n",
       "      <th>1</th>\n",
       "      <td>rBodyMass</td>\n",
       "    </tr>\n",
       "    <tr>\n",
       "      <th>2</th>\n",
       "      <td>rHeartRate</td>\n",
       "    </tr>\n",
       "    <tr>\n",
       "      <th>3</th>\n",
       "      <td>rBloodPressureSystolic</td>\n",
       "    </tr>\n",
       "    <tr>\n",
       "      <th>4</th>\n",
       "      <td>rBloodPressureDiastolic</td>\n",
       "    </tr>\n",
       "    <tr>\n",
       "      <th>5</th>\n",
       "      <td>rStepCount</td>\n",
       "    </tr>\n",
       "    <tr>\n",
       "      <th>6</th>\n",
       "      <td>rDistanceWalkingRunning</td>\n",
       "    </tr>\n",
       "    <tr>\n",
       "      <th>7</th>\n",
       "      <td>rBasalEnergyBurned</td>\n",
       "    </tr>\n",
       "    <tr>\n",
       "      <th>8</th>\n",
       "      <td>rActiveEnergyBurned</td>\n",
       "    </tr>\n",
       "    <tr>\n",
       "      <th>9</th>\n",
       "      <td>rFlightsClimbed</td>\n",
       "    </tr>\n",
       "    <tr>\n",
       "      <th>10</th>\n",
       "      <td>rAppleExerciseTime</td>\n",
       "    </tr>\n",
       "    <tr>\n",
       "      <th>11</th>\n",
       "      <td>rDistanceCycling</td>\n",
       "    </tr>\n",
       "    <tr>\n",
       "      <th>12</th>\n",
       "      <td>rDistanceSwimming</td>\n",
       "    </tr>\n",
       "    <tr>\n",
       "      <th>13</th>\n",
       "      <td>rSwimmingStrokeCount</td>\n",
       "    </tr>\n",
       "    <tr>\n",
       "      <th>14</th>\n",
       "      <td>rRestingHeartRate</td>\n",
       "    </tr>\n",
       "    <tr>\n",
       "      <th>15</th>\n",
       "      <td>rVO2Max</td>\n",
       "    </tr>\n",
       "    <tr>\n",
       "      <th>16</th>\n",
       "      <td>rWalkingHeartRateAverage</td>\n",
       "    </tr>\n",
       "    <tr>\n",
       "      <th>17</th>\n",
       "      <td>rEnvironmentalAudioExposure</td>\n",
       "    </tr>\n",
       "    <tr>\n",
       "      <th>18</th>\n",
       "      <td>rHeadphoneAudioExposure</td>\n",
       "    </tr>\n",
       "    <tr>\n",
       "      <th>19</th>\n",
       "      <td>rWalkingDoubleSupportPercentage</td>\n",
       "    </tr>\n",
       "    <tr>\n",
       "      <th>20</th>\n",
       "      <td>rSixMinuteWalkTestDistance</td>\n",
       "    </tr>\n",
       "    <tr>\n",
       "      <th>21</th>\n",
       "      <td>rAppleStandTime</td>\n",
       "    </tr>\n",
       "    <tr>\n",
       "      <th>22</th>\n",
       "      <td>rWalkingSpeed</td>\n",
       "    </tr>\n",
       "    <tr>\n",
       "      <th>23</th>\n",
       "      <td>rWalkingStepLength</td>\n",
       "    </tr>\n",
       "    <tr>\n",
       "      <th>24</th>\n",
       "      <td>rWalkingAsymmetryPercentage</td>\n",
       "    </tr>\n",
       "    <tr>\n",
       "      <th>25</th>\n",
       "      <td>rStairAscentSpeed</td>\n",
       "    </tr>\n",
       "    <tr>\n",
       "      <th>26</th>\n",
       "      <td>rStairDescentSpeed</td>\n",
       "    </tr>\n",
       "    <tr>\n",
       "      <th>27</th>\n",
       "      <td>rHKDataTypeSleepDurationGoal</td>\n",
       "    </tr>\n",
       "    <tr>\n",
       "      <th>28</th>\n",
       "      <td>rSleepAnalysis</td>\n",
       "    </tr>\n",
       "    <tr>\n",
       "      <th>29</th>\n",
       "      <td>rAppleStandHour</td>\n",
       "    </tr>\n",
       "    <tr>\n",
       "      <th>30</th>\n",
       "      <td>rMindfulSession</td>\n",
       "    </tr>\n",
       "    <tr>\n",
       "      <th>31</th>\n",
       "      <td>rAudioExposureEvent</td>\n",
       "    </tr>\n",
       "    <tr>\n",
       "      <th>32</th>\n",
       "      <td>workouts</td>\n",
       "    </tr>\n",
       "    <tr>\n",
       "      <th>33</th>\n",
       "      <td>workout_points</td>\n",
       "    </tr>\n",
       "    <tr>\n",
       "      <th>34</th>\n",
       "      <td>activity_summary</td>\n",
       "    </tr>\n",
       "    <tr>\n",
       "      <th>35</th>\n",
       "      <td>rHeartRateVariabilitySDNN</td>\n",
       "    </tr>\n",
       "  </tbody>\n",
       "</table>\n",
       "</div>"
      ]
     },
     "metadata": {},
     "execution_count": 50
    }
   ],
   "metadata": {}
  },
  {
   "cell_type": "code",
   "execution_count": null,
   "source": [],
   "outputs": [],
   "metadata": {}
  },
  {
   "cell_type": "code",
   "execution_count": null,
   "source": [],
   "outputs": [],
   "metadata": {}
  },
  {
   "cell_type": "markdown",
   "source": [
    "### Looking at sqlite version of the cached data derived from individual walk files in walk groups"
   ],
   "metadata": {}
  },
  {
   "cell_type": "code",
   "execution_count": null,
   "source": [
    "db_file = Path('emmaus_walking.db')"
   ],
   "outputs": [],
   "metadata": {}
  },
  {
   "cell_type": "code",
   "execution_count": null,
   "source": [
    "!echo \"datasette\" $db_file \"&\""
   ],
   "outputs": [],
   "metadata": {}
  },
  {
   "cell_type": "code",
   "execution_count": null,
   "source": [
    "LOCAL_DB_URL = 'http://localhost:8081/'\n",
    "HOSTED_DB_URL = 'https://my-healthkit-data.fly.dev/'"
   ],
   "outputs": [],
   "metadata": {}
  },
  {
   "cell_type": "code",
   "execution_count": null,
   "source": [
    "url_CSV = 'http://localhost:8081/healthkit.csv?sql=select%0D%0A++id%2C%0D%0A++workoutActivityType%2C%0D%0A++duration%2C%0D%0A++durationUnit%2C%0D%0A++totalDistance%2C%0D%0A++totalDistanceUnit%2C%0D%0A++totalEnergyBurned%2C%0D%0A++totalEnergyBurnedUnit%2C%0D%0A++sourceName%2C%0D%0A++sourceVersion%2C%0D%0A++creationDate%2C%0D%0A++startDate%2C%0D%0A++endDate%2C%0D%0A++metadata_HKTimeZone%2C%0D%0A++metadata_HKWeatherTemperature%2C%0D%0A++metadata_HKWeatherHumidity%2C%0D%0A++device%2C%0D%0A++metadata_HKElevationAscended%2C%0D%0A++metadata_HKAverageMETs%0D%0Afrom%0D%0A++workouts%0D%0Aorder+by%0D%0A++id%0D%0Alimit%0D%0A++101'"
   ],
   "outputs": [],
   "metadata": {}
  },
  {
   "cell_type": "code",
   "execution_count": null,
   "source": [
    "url_CSV2 = 'http://localhost:8081/healthkit.csv?sql=select%0D%0A++id%2C%0D%0A++workoutActivityType%2C%0D%0A++duration%2C%0D%0A++durationUnit%2C%0D%0A++totalDistance%2C%0D%0A++totalDistanceUnit%2C%0D%0A++totalEnergyBurned%2C%0D%0A++totalEnergyBurnedUnit%2C%0D%0A++sourceName%2C%0D%0A++sourceVersion%2C%0D%0A++creationDate%2C%0D%0A++startDate%2C%0D%0A++endDate%2C%0D%0A++metadata_HKTimeZone%2C%0D%0A++workout_events%2C%0D%0A++metadata_HKWeatherTemperature%2C%0D%0A++metadata_HKWeatherHumidity%2C%0D%0A++device%2C%0D%0A++metadata_HKElevationAscended%2C%0D%0A++metadata_HKAverageMETs%2C%0D%0A++metadata_HKMaximumSpeed%2C%0D%0A++metadata_HKAverageSpeed%0D%0Afrom%0D%0A++workouts%0D%0Awhere%0D%0A++workoutActivityType+in+%28%3Ap0%2C+%3Ap1%29%0D%0Aorder+by%0D%0A++creationDate%0D%0Alimit%0D%0A++101&p0=HKWorkoutActivityTypeWalking&p1=HKWorkoutActivityTypeHiking&_size=max'"
   ],
   "outputs": [],
   "metadata": {}
  },
  {
   "cell_type": "code",
   "execution_count": null,
   "source": [
    "workouts_df = pd.read_csv(url_CSV)\n",
    "\n",
    "#print((LOCAL_DB_URL + 'workout.json'))\n",
    "#workout_df = pd.read_json(LOCAL_DB_URL + 'workouts.json')"
   ],
   "outputs": [],
   "metadata": {}
  },
  {
   "cell_type": "code",
   "execution_count": null,
   "source": [
    "workouts_df.nunique()"
   ],
   "outputs": [],
   "metadata": {}
  },
  {
   "cell_type": "code",
   "execution_count": null,
   "source": [
    "workouts_df.info()"
   ],
   "outputs": [],
   "metadata": {}
  },
  {
   "cell_type": "code",
   "execution_count": null,
   "source": [
    "workouts_clean_df = klib.data_cleaning(workouts_df)"
   ],
   "outputs": [],
   "metadata": {}
  },
  {
   "cell_type": "code",
   "execution_count": null,
   "source": [
    "workouts_clean_df.info()"
   ],
   "outputs": [],
   "metadata": {}
  },
  {
   "cell_type": "code",
   "execution_count": null,
   "source": [
    "workouts_df.head()"
   ],
   "outputs": [],
   "metadata": {}
  },
  {
   "cell_type": "code",
   "execution_count": null,
   "source": [
    "workouts_fly_df = pd.read_csv(url_CSV.replace(LOCAL_DB_URL, HOSTED_DB_URL))"
   ],
   "outputs": [],
   "metadata": {}
  },
  {
   "cell_type": "code",
   "execution_count": null,
   "source": [
    "workouts_fly_df.head()"
   ],
   "outputs": [],
   "metadata": {}
  },
  {
   "cell_type": "code",
   "execution_count": null,
   "source": [
    "workout_points_SQL = 'http://localhost:8081/healthkit.csv?sql=select%0D%0A++rowid%2C%0D%0A++date%2C%0D%0A++latitude%2C%0D%0A++longitude%2C%0D%0A++altitude%2C%0D%0A++speed%0D%0Afrom%0D%0A++workout_points%0D%0Awhere%0D%0A++workout_id+%3D+%22'\n",
    "workout_id = 'a34036ff616122952fa67c9bc11a493f8642dd7c' + '%22'\n",
    "\n",
    "workout_points_df = pd.read_csv(workout_points_SQL + workout_id, parse_dates=True)"
   ],
   "outputs": [],
   "metadata": {}
  },
  {
   "cell_type": "code",
   "execution_count": null,
   "source": [
    "workout_points_df.head()"
   ],
   "outputs": [],
   "metadata": {}
  },
  {
   "cell_type": "code",
   "execution_count": null,
   "source": [
    "workout_points_df.info()"
   ],
   "outputs": [],
   "metadata": {}
  },
  {
   "cell_type": "code",
   "execution_count": null,
   "source": [
    "WALK_DETAILS_FILE = 'walk_details.toml'\n",
    "walk_details = Path('../' + WALK_DETAILS_FILE)\n"
   ],
   "outputs": [],
   "metadata": {}
  },
  {
   "cell_type": "code",
   "execution_count": null,
   "source": [
    "walk_details"
   ],
   "outputs": [],
   "metadata": {}
  },
  {
   "cell_type": "code",
   "execution_count": null,
   "source": [
    "with open(walk_details, encoding=\"utf-8\") as f:\n",
    "    walk_details_dict = tomli.load(f)"
   ],
   "outputs": [],
   "metadata": {}
  },
  {
   "cell_type": "code",
   "execution_count": null,
   "source": [
    "walk_details_dict"
   ],
   "outputs": [],
   "metadata": {}
  },
  {
   "cell_type": "code",
   "execution_count": null,
   "source": [
    "pd.DataFrame(walk_details_dict, )"
   ],
   "outputs": [],
   "metadata": {}
  },
  {
   "cell_type": "code",
   "execution_count": null,
   "source": [
    "#export\n",
    "def calc_walk_stats(walk_data):\n",
    "    total_time = dt.timedelta(0)\n",
    "    total_distance = 0\n",
    "\n",
    "    for iHike, hike in enumerate(walk_data):\n",
    "        total_time += hike.index.max()\n",
    "        # print(iHike+1, walk_date[iHike], hike.index.max(), hike['dist'].max() / 1e3)\n",
    "        total_distance += hike['dist'].max()\n",
    "    total_distance /= 1e3\n",
    "\n",
    "    start_coord = walk_data[0][['lat', 'lon']].iloc[0].tolist()\n",
    "    end_coord = walk_data[-1][['lat', 'lon']].iloc[-1].tolist()\n",
    "    return total_time, total_distance, start_coord, end_coord\n",
    "\n",
    "\n",
    "# TODO: use st.cache() and also look to pre-load and cache/feather data (or similar) - NB: use of @st.cache() below didn't work\n",
    "def load_and_cache_raw_walk_data(walk_name, sample_freq, conn):\n",
    "    RAW_FIT_FILE_PATH = 'icloud/Data/HealthFit/FIT' \n",
    "    fit_dir = Path.home()/RAW_FIT_FILE_PATH\n",
    "    data_dir = fit_dir/walk_name[0:3]\n",
    "    print(data_dir.ls())\n",
    "    data_files = [file for file in os.listdir(data_dir) if file.endswith('.fit')]\n",
    "    walk_files = sorted(data_files)\n",
    "    print(walk_files)\n",
    "\n",
    "    walk_data = []\n",
    "    walk_date = []\n",
    "\n",
    "    for iFile, file in enumerate(walk_files):\n",
    "        walk_df = pd.DataFrame(aio.read(data_dir + file))\n",
    "        walk_data.append(walk_df)\n",
    "        walk_date.append(parse(file[0:17]))\n",
    "        walk_df['WalkName'] = walk_name\n",
    "        walk_df['WalkNumber'] = iFile\n",
    "        walk_df[['alt', 'dist', 'lat', 'lon', 'speed', 'WalkName', 'WalkNumber']].to_sql('walks', conn, if_exists='append', index=False)\n",
    "               \n",
    "    total_time, total_distance, start_coord, end_coord = calc_walk_stats(walk_data)\n",
    "    walk_stats = [total_time, total_distance, start_coord, end_coord]\n",
    "    #print(start_coord)\n",
    "    walk_merged = pd.concat(walk_data)\n",
    "    points = walk_merged[['lat', 'lon']].values.tolist()\n",
    "    points = [tuple(point) for ipoint, point in enumerate(points) if ipoint % sample_freq == 0]\n",
    "    return walk_data, walk_date, walk_files, points, walk_stats"
   ],
   "outputs": [],
   "metadata": {}
  },
  {
   "cell_type": "code",
   "execution_count": null,
   "source": [],
   "outputs": [],
   "metadata": {}
  },
  {
   "cell_type": "code",
   "execution_count": null,
   "source": [
    "def create_walk_cached_data_for_app(db_file, n_rows_used=5):\n",
    "    # read in all of the walks data and sample at an appropriate frequency and cache for faster use in the app\n",
    "    db_conn = sql.connect(db_file)\n",
    "    walk_df = pd.read_sql_query('SELECT * FROM walks', db_conn)\n",
    "\n",
    "    UNUSED_COLUMNS = ['dist', 'speed']\n",
    "\n",
    "    walk_df.drop(UNUSED_COLUMNS, axis=1, inplace=True)\n",
    "    walk_df.dropna(inplace=True)      # TODO: Check why there are a few NaNs\n",
    "    walk_df = walk_df.iloc[::n_rows_used].reset_index()    # downsample\n",
    "\n",
    "    walk_df.to_feather(Path(db_file.as_posix().replace('.db', '.cache.feather')))\n",
    "    \n",
    "    return walk_df"
   ],
   "outputs": [],
   "metadata": {}
  },
  {
   "cell_type": "code",
   "execution_count": null,
   "source": [
    "# Not working yet -- this is the alternate approach to using the individual .FIT files\n",
    "# walk_df = create_walk_cached_data_for_app(db_file, 10)"
   ],
   "outputs": [],
   "metadata": {}
  },
  {
   "cell_type": "code",
   "execution_count": null,
   "source": [
    "# walk_df[walk_df['lat'].isna()]"
   ],
   "outputs": [],
   "metadata": {}
  },
  {
   "cell_type": "code",
   "execution_count": null,
   "source": [
    "Path(db_file.as_posix().replace('.db', '.cache.feather'))"
   ],
   "outputs": [],
   "metadata": {}
  },
  {
   "cell_type": "code",
   "execution_count": null,
   "source": [
    "# walk_df = pd.read_feather(Path(db_file.as_posix().replace('.db', '.cache.feather')))"
   ],
   "outputs": [],
   "metadata": {}
  },
  {
   "cell_type": "code",
   "execution_count": null,
   "source": [
    "# walk_df.info()"
   ],
   "outputs": [],
   "metadata": {}
  },
  {
   "cell_type": "code",
   "execution_count": null,
   "source": [
    "# walk_df['WalkName'].unique()"
   ],
   "outputs": [],
   "metadata": {}
  }
 ],
 "metadata": {
  "kernelspec": {
   "name": "python3",
   "display_name": "Python 3.9.6 64-bit ('emmaus_walking_py38': conda)"
  },
  "language_info": {
   "codemirror_mode": {
    "name": "ipython",
    "version": 3
   },
   "file_extension": ".py",
   "mimetype": "text/x-python",
   "name": "python",
   "nbconvert_exporter": "python",
   "pygments_lexer": "ipython3",
   "version": "3.9.6"
  },
  "interpreter": {
   "hash": "a22d2645d3afe98160956a5bd9591f63a934537cdda62e90bef32e6cf34fead0"
  }
 },
 "nbformat": 4,
 "nbformat_minor": 4
}