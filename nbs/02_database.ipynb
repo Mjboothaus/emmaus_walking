{
 "cells": [
  {
   "cell_type": "code",
   "execution_count": 1,
   "source": [
    "# default_exp datapipe\n",
    "from nbdev import *"
   ],
   "outputs": [],
   "metadata": {}
  },
  {
   "cell_type": "markdown",
   "source": [
    "# Database - functions for data back-end / manipulations\n",
    "\n",
    "This is using an alternate approach:\n",
    "  - I have exported all of my Apple healthfit data from the Health app to export.zip \n",
    "  and then converted this to a SQLite database using `healthfit-to-sqlite`\n",
    "  - I am then creating a \"published\" version of this SQLite database using\n",
    "  Datasette.io\n",
    "  - I have a local version of this database running at http://localhost:8081/healthkit and\n",
    "  similarly I have an externally deployed version at https://my-healthkit-data.fly.dev\n",
    "  - I will then run queries against this database to build the cache file (or possibly a smaller custom sqlite file)\n",
    "\n",
    "## TODO\n",
    "* This is still a work in progress\n",
    "* Need to write the queries to marshall the data for each of the workouts within each group of walks\n",
    "* Then cache this data - maybe try another (small) sqlite db for the caching (instead of feather)\n",
    "* **NOTE: It looks like the queries are being truncated at 1000 values - need to fix**\n"
   ],
   "metadata": {}
  },
  {
   "cell_type": "code",
   "execution_count": 2,
   "source": [
    "#export\n",
    "import os\n",
    "import pandas as pd\n",
    "import activityio as aio\n",
    "from dateutil.parser import parse\n",
    "import datetime as dt\n",
    "import sqlite3 as sql\n",
    "from pathlib import Path\n",
    "import tomli\n",
    "import klib\n",
    "import subprocess\n",
    "import pendulum\n",
    "from sqlite_utils import Database\n",
    "import reverse_geocoder as rg\n",
    "\n"
   ],
   "outputs": [],
   "metadata": {}
  },
  {
   "cell_type": "code",
   "execution_count": 3,
   "source": [
    "try:\n",
    "    from emmaus_walking.core import in_notebook, get_project_root, get_project_root_alternate\n",
    "except:\n",
    "    from core import in_notebook, get_project_root, get_project_root_alternate"
   ],
   "outputs": [
    {
     "output_type": "stream",
     "name": "stdout",
     "text": [
      "In Jupyter notebook\n",
      "Project root directory: /Users/mjboothaus/code/github/mjboothaus/emmaus_walking\n"
     ]
    }
   ],
   "metadata": {}
  },
  {
   "cell_type": "markdown",
   "source": [
    "[https://databooth.slite.com/api/s/note/MEQPRcLKFqUE6ko2vVp3Yr/Datasette-io-approach](https://databooth.slite.com/api/s/note/MEQPRcLKFqUE6ko2vVp3Yr/Datasette-io-approach) (Slite page)\n",
    "\n",
    "e.g. start_datasette = subprocess.Popen('datasette ' + db_name + ' -m aus-covid-datasette-meta.json', stdout=subprocess.PIPE, shell=True)"
   ],
   "metadata": {}
  },
  {
   "cell_type": "code",
   "execution_count": 4,
   "source": [
    "HEALTHKIT_DATA_PATH = Path(\"/Users/mjboothaus/data/healthkit\")\n",
    "export_zip = HEALTHKIT_DATA_PATH / \"export.zip\""
   ],
   "outputs": [],
   "metadata": {}
  },
  {
   "cell_type": "code",
   "execution_count": 5,
   "source": [
    "def convert_healthkit_export_to_sqlite(export_zip):\n",
    "    zip_file = export_zip.as_posix()\n",
    "    if export_zip.exists() == False:\n",
    "        print(zip_file, \": not found\")\n",
    "        return None, zip_file + \": not found\"\n",
    "    zip_file_date = pendulum.instance(dt.datetime.fromtimestamp(export_zip.stat().st_ctime))\n",
    "\n",
    "    db_file = zip_file.replace(\"export.zip\", \"healthkit.db\")\n",
    "    if Path(db_file).exists() == True:\n",
    "        Path(db_file).unlink()\n",
    "    sp_cmd = \"pipx run healthkit-to-sqlite \" + zip_file + \" \" + db_file\n",
    "    print(sp_cmd)\n",
    "    print('---------------------------------------------------------------------------------------------')\n",
    "    print('Please wait: converting healthkit export.zip to sqlite database (takes just over a minute)...')\n",
    "\n",
    "    sp = subprocess.Popen(sp_cmd, stdout=subprocess.PIPE, shell=True)\n",
    "    (sp_output, sp_err) = sp.communicate()  \n",
    "\n",
    "    #This makes the wait possible\n",
    "    sp_status = sp.wait()\n",
    "\n",
    "    db_file_with_date = db_file.replace(\".db\", \"_\" + zip_file_date.to_date_string().replace(\"-\", \"_\") + \".db\")\n",
    "    \n",
    "    export_zip.rename(zip_file.replace(\".zip\", \"_\" + zip_file_date.to_date_string().replace(\"-\", \"_\") + \".zip\"))\n",
    "    Path(db_file).rename(db_file_with_date)\n",
    "\n",
    "    return db_file_with_date, sp_output"
   ],
   "outputs": [],
   "metadata": {}
  },
  {
   "cell_type": "code",
   "execution_count": 6,
   "source": [
    "db_file, output = convert_healthkit_export_to_sqlite(export_zip)"
   ],
   "outputs": [
    {
     "output_type": "stream",
     "name": "stdout",
     "text": [
      "pipx run healthkit-to-sqlite /Users/mjboothaus/data/healthkit/export.zip /Users/mjboothaus/data/healthkit/healthkit.db\n",
      "---------------------------------------------------------------------------------------------\n",
      "Please wait: converting healthkit export.zip to sqlite database (takes just over a minute)...\n"
     ]
    }
   ],
   "metadata": {}
  },
  {
   "cell_type": "code",
   "execution_count": 7,
   "source": [
    "output"
   ],
   "outputs": [
    {
     "output_type": "execute_result",
     "data": {
      "text/plain": [
       "b'Importing from HealthKit\\n'"
      ]
     },
     "metadata": {},
     "execution_count": 7
    }
   ],
   "metadata": {}
  },
  {
   "cell_type": "markdown",
   "source": [
    "## Look at the HealthKit database via Datasette.io (and try an reduce to just needed data)"
   ],
   "metadata": {}
  },
  {
   "cell_type": "code",
   "execution_count": 8,
   "source": [
    "print(\"datasette \" + db_file + \" --setting sql_time_limit_ms 5000  --setting max_returned_rows 10000 &\")"
   ],
   "outputs": [
    {
     "output_type": "stream",
     "name": "stdout",
     "text": [
      "datasette /Users/mjboothaus/data/healthkit/healthkit_2021_08_02.db --setting sql_time_limit_ms 5000  --setting max_returned_rows 10000 &\n"
     ]
    }
   ],
   "metadata": {}
  },
  {
   "cell_type": "code",
   "execution_count": 9,
   "source": [
    "def create_df_from_sql_query_in_file(filename_dot_sql, conn, parse_dates):\n",
    "# Read the sql file\n",
    "    query_file = get_project_root_alternate() / \"sql\" / filename_dot_sql\n",
    "\n",
    "    with open(query_file, 'r') as query:\n",
    "        # connection == the connection to your database\n",
    "        sql_text = query.read()\n",
    "        print(sql_text)\n",
    "        df = pd.read_sql_query(sql_text, conn, parse_dates=parse_dates)\n",
    "    return df"
   ],
   "outputs": [],
   "metadata": {}
  },
  {
   "cell_type": "code",
   "execution_count": 41,
   "source": [
    "db = Database(db_file)"
   ],
   "outputs": [],
   "metadata": {}
  },
  {
   "cell_type": "code",
   "execution_count": 42,
   "source": [
    "workouts_df = create_df_from_sql_query_in_file(\"select_star_walking_workouts.sql\", db.conn, ['startDate', 'endDate'])"
   ],
   "outputs": [
    {
     "output_type": "stream",
     "name": "stdout",
     "text": [
      "select\n",
      "    id as workout_id,\n",
      "    duration as duration_minutes,\n",
      "    totaldistance as totaldistance_km,\n",
      "    totalenergyburned as totalenergyburned_kJ,\n",
      "    sourcename,\n",
      "    sourceversion,\n",
      "    startdate,\n",
      "    enddate,\n",
      "    metadata_hkweathertemperature,\n",
      "    metadata_hkweatherhumidity,\n",
      "    metadata_hkelevationascended,\n",
      "    metadata_hkaveragemets\n",
      "from\n",
      "    workouts\n",
      "where workoutactivitytype = \"HKWorkoutActivityTypeWalking\" order by id\n",
      "\n",
      "\n",
      " /* Excluded fields:\n",
      "    workoutactivitytype,   # just walking\n",
      "    durationunit,          # fixed - min\n",
      "    totaldistanceunit,     # fixed - km\n",
      "    totalenergyburnedunit, # fixed - kJ\n",
      "    device,\n",
      "    creationdate,          # not really of interest (start date instead)\n",
      "    workout_events,        # think this is redundant info (need to check - JSON?)\n",
      "    metadata_hkgroupfitness,\n",
      "    metadata_hkworkoutbrandname,\n",
      "    metadata_hktimezone,\n",
      "    metadata_hkcoachedworkout,\n",
      "    metadata_hkwasuserentered,\n",
      "    metadata_hkindoorworkout,\n",
      "    metadata_hkelevationascended,\n",
      "    metadata_hkswimminglocationtype,\n",
      "    metadata_hkaveragemets,\n",
      "    metadata_healthfit_sub_sport,\n",
      "    metadata_healthfit_route,\n",
      "    metadata_healthfit_file_type,\n",
      "    metadata_hkmaximumspeed,\n",
      "    metadata_healthfit_total_moving_time,\n",
      "    metadata_healthfit_total_distance,\n",
      "    metadata_healthfit_max_running_cadence,\n",
      "    metadata_healthfit_min_altitude,\n",
      "    metadata_healthfit_avg_running_cadence,\n",
      "    metadata_healthfit_app_build,\n",
      "    metadata_healthfit_fit_sport,\n",
      "    metadata_healthfit_fit_sub_sport,\n",
      "    metadata_healthfit_max_altitude,\n",
      "    metadata_healthfit_fit_manufacturer,\n",
      "    metadata_healthfit_total_strides,\n",
      "    metadata_healthfit_fit_serial_number,\n",
      "    metadata_healthfit_sport,\n",
      "    metadata_hkaveragespeed,\n",
      "    metadata_healthfit_app_version,\n",
      "    metadata_hkexternaluuid\n",
      " */\n",
      "\n"
     ]
    }
   ],
   "metadata": {}
  },
  {
   "cell_type": "code",
   "execution_count": 43,
   "source": [
    "workouts_df.head()"
   ],
   "outputs": [
    {
     "output_type": "execute_result",
     "data": {
      "text/plain": [
       "                                 workout_id   duration_minutes  \\\n",
       "0  000d7757f079ab0f75a4db50621f052894aa33c2  30.05313618381818   \n",
       "1  0018d73a8cf8c051befbc9bfb427320431b54628  97.57144786715507   \n",
       "2  00645c031954e799f2bad6ca9f26529a676bc660  91.34290488362312   \n",
       "3  00e4a61ddc04be5ec7fca6130b97fb3694d07c7a  75.63339018424352   \n",
       "4  02b32c6480081df19693e7f5661f5f3c7ac65474  105.3766344666481   \n",
       "\n",
       "    totaldistance_km totalenergyburned_kJ                         sourceName  \\\n",
       "0  1.177883369302785    639.2089883072423  Michael and Ai Leen’s Apple Watch   \n",
       "1  5.969473837612362    1843.191264816394  Michael and Ai Leen’s Apple Watch   \n",
       "2  5.020199223674742    2235.856794424977  Michael and Ai Leen’s Apple Watch   \n",
       "3  4.172883323542221    1718.733819123089  Michael and Ai Leen’s Apple Watch   \n",
       "4  6.767214865892154    2543.764525288699  Michael and Ai Leen’s Apple Watch   \n",
       "\n",
       "  sourceVersion                 startDate                   endDate  \\\n",
       "0           7.1 2021-01-06 13:53:19+10:00 2021-01-06 14:23:22+10:00   \n",
       "1         6.1.1 2020-03-23 09:15:24+10:00 2020-03-23 10:52:59+10:00   \n",
       "2         5.1.3 2019-04-08 11:41:03+10:00 2019-04-08 13:12:24+10:00   \n",
       "3         6.2.1 2020-05-06 16:23:43+10:00 2020-05-06 17:39:21+10:00   \n",
       "4         6.2.6 2020-06-24 15:10:00+10:00 2020-06-24 17:58:14+10:00   \n",
       "\n",
       "  metadata_HKWeatherTemperature metadata_HKWeatherHumidity  \\\n",
       "0                     73.4 degF                     6900 %   \n",
       "1                       68 degF                     6400 %   \n",
       "2                       84 degF                     4300 %   \n",
       "3                       71 degF                     4500 %   \n",
       "4                       65 degF                     4900 %   \n",
       "\n",
       "  metadata_HKElevationAscended metadata_HKAverageMETs  \n",
       "0                      3899 cm     3.82314 kcal/hr·kg  \n",
       "1                      9430 cm     3.30812 kcal/hr·kg  \n",
       "2                     13916 cm                   None  \n",
       "3                      7325 cm     3.94665 kcal/hr·kg  \n",
       "4                      8025 cm                   None  "
      ],
      "text/html": [
       "<div>\n",
       "<style scoped>\n",
       "    .dataframe tbody tr th:only-of-type {\n",
       "        vertical-align: middle;\n",
       "    }\n",
       "\n",
       "    .dataframe tbody tr th {\n",
       "        vertical-align: top;\n",
       "    }\n",
       "\n",
       "    .dataframe thead th {\n",
       "        text-align: right;\n",
       "    }\n",
       "</style>\n",
       "<table border=\"1\" class=\"dataframe\">\n",
       "  <thead>\n",
       "    <tr style=\"text-align: right;\">\n",
       "      <th></th>\n",
       "      <th>workout_id</th>\n",
       "      <th>duration_minutes</th>\n",
       "      <th>totaldistance_km</th>\n",
       "      <th>totalenergyburned_kJ</th>\n",
       "      <th>sourceName</th>\n",
       "      <th>sourceVersion</th>\n",
       "      <th>startDate</th>\n",
       "      <th>endDate</th>\n",
       "      <th>metadata_HKWeatherTemperature</th>\n",
       "      <th>metadata_HKWeatherHumidity</th>\n",
       "      <th>metadata_HKElevationAscended</th>\n",
       "      <th>metadata_HKAverageMETs</th>\n",
       "    </tr>\n",
       "  </thead>\n",
       "  <tbody>\n",
       "    <tr>\n",
       "      <th>0</th>\n",
       "      <td>000d7757f079ab0f75a4db50621f052894aa33c2</td>\n",
       "      <td>30.05313618381818</td>\n",
       "      <td>1.177883369302785</td>\n",
       "      <td>639.2089883072423</td>\n",
       "      <td>Michael and Ai Leen’s Apple Watch</td>\n",
       "      <td>7.1</td>\n",
       "      <td>2021-01-06 13:53:19+10:00</td>\n",
       "      <td>2021-01-06 14:23:22+10:00</td>\n",
       "      <td>73.4 degF</td>\n",
       "      <td>6900 %</td>\n",
       "      <td>3899 cm</td>\n",
       "      <td>3.82314 kcal/hr·kg</td>\n",
       "    </tr>\n",
       "    <tr>\n",
       "      <th>1</th>\n",
       "      <td>0018d73a8cf8c051befbc9bfb427320431b54628</td>\n",
       "      <td>97.57144786715507</td>\n",
       "      <td>5.969473837612362</td>\n",
       "      <td>1843.191264816394</td>\n",
       "      <td>Michael and Ai Leen’s Apple Watch</td>\n",
       "      <td>6.1.1</td>\n",
       "      <td>2020-03-23 09:15:24+10:00</td>\n",
       "      <td>2020-03-23 10:52:59+10:00</td>\n",
       "      <td>68 degF</td>\n",
       "      <td>6400 %</td>\n",
       "      <td>9430 cm</td>\n",
       "      <td>3.30812 kcal/hr·kg</td>\n",
       "    </tr>\n",
       "    <tr>\n",
       "      <th>2</th>\n",
       "      <td>00645c031954e799f2bad6ca9f26529a676bc660</td>\n",
       "      <td>91.34290488362312</td>\n",
       "      <td>5.020199223674742</td>\n",
       "      <td>2235.856794424977</td>\n",
       "      <td>Michael and Ai Leen’s Apple Watch</td>\n",
       "      <td>5.1.3</td>\n",
       "      <td>2019-04-08 11:41:03+10:00</td>\n",
       "      <td>2019-04-08 13:12:24+10:00</td>\n",
       "      <td>84 degF</td>\n",
       "      <td>4300 %</td>\n",
       "      <td>13916 cm</td>\n",
       "      <td>None</td>\n",
       "    </tr>\n",
       "    <tr>\n",
       "      <th>3</th>\n",
       "      <td>00e4a61ddc04be5ec7fca6130b97fb3694d07c7a</td>\n",
       "      <td>75.63339018424352</td>\n",
       "      <td>4.172883323542221</td>\n",
       "      <td>1718.733819123089</td>\n",
       "      <td>Michael and Ai Leen’s Apple Watch</td>\n",
       "      <td>6.2.1</td>\n",
       "      <td>2020-05-06 16:23:43+10:00</td>\n",
       "      <td>2020-05-06 17:39:21+10:00</td>\n",
       "      <td>71 degF</td>\n",
       "      <td>4500 %</td>\n",
       "      <td>7325 cm</td>\n",
       "      <td>3.94665 kcal/hr·kg</td>\n",
       "    </tr>\n",
       "    <tr>\n",
       "      <th>4</th>\n",
       "      <td>02b32c6480081df19693e7f5661f5f3c7ac65474</td>\n",
       "      <td>105.3766344666481</td>\n",
       "      <td>6.767214865892154</td>\n",
       "      <td>2543.764525288699</td>\n",
       "      <td>Michael and Ai Leen’s Apple Watch</td>\n",
       "      <td>6.2.6</td>\n",
       "      <td>2020-06-24 15:10:00+10:00</td>\n",
       "      <td>2020-06-24 17:58:14+10:00</td>\n",
       "      <td>65 degF</td>\n",
       "      <td>4900 %</td>\n",
       "      <td>8025 cm</td>\n",
       "      <td>None</td>\n",
       "    </tr>\n",
       "  </tbody>\n",
       "</table>\n",
       "</div>"
      ]
     },
     "metadata": {},
     "execution_count": 43
    }
   ],
   "metadata": {}
  },
  {
   "cell_type": "code",
   "execution_count": 44,
   "source": [
    "# Trying to find the start point in each walk workout -- as date is not a date field in db not clear if sort by date and limit 1 will work\n",
    "# might need to import table to pandas convert types and then export to db before doing query. Else use sqlite_utils to change column types.\n",
    "\n",
    "start_point_df = create_df_from_sql_query_in_file(\"select_start_point_workout.sql\", db.conn, ['date'])"
   ],
   "outputs": [
    {
     "output_type": "stream",
     "name": "stdout",
     "text": [
      "-- Get starting point for each workout\n",
      "select\n",
      "  start_datetime,\n",
      "  start_latitude,\n",
      "  start_longitude,\n",
      "  start_altitude,\n",
      "  start_speed,\n",
      "  workout_id\n",
      "from\n",
      "  (\n",
      "    select\n",
      "      date as start_datetime,\n",
      "      latitude as start_latitude,\n",
      "      longitude as start_longitude,\n",
      "      altitude as start_altitude,\n",
      "      speed as start_speed,\n",
      "      workout_id,\n",
      "      row_number() over (\n",
      "        partition by workout_id\n",
      "        order by\n",
      "          date asc\n",
      "      ) as date_rank\n",
      "    from\n",
      "      workout_points\n",
      "  )\n",
      "where\n",
      "  date_rank = 1\n"
     ]
    }
   ],
   "metadata": {}
  },
  {
   "cell_type": "code",
   "execution_count": 45,
   "source": [
    "start_point_df.info()"
   ],
   "outputs": [
    {
     "output_type": "stream",
     "name": "stdout",
     "text": [
      "<class 'pandas.core.frame.DataFrame'>\n",
      "RangeIndex: 562 entries, 0 to 561\n",
      "Data columns (total 6 columns):\n",
      " #   Column           Non-Null Count  Dtype  \n",
      "---  ------           --------------  -----  \n",
      " 0   start_datetime   562 non-null    object \n",
      " 1   start_latitude   562 non-null    float64\n",
      " 2   start_longitude  562 non-null    float64\n",
      " 3   start_altitude   562 non-null    float64\n",
      " 4   start_speed      562 non-null    float64\n",
      " 5   workout_id       562 non-null    object \n",
      "dtypes: float64(4), object(2)\n",
      "memory usage: 26.5+ KB\n"
     ]
    }
   ],
   "metadata": {}
  },
  {
   "cell_type": "code",
   "execution_count": 46,
   "source": [
    "start_point_df.head()"
   ],
   "outputs": [
    {
     "output_type": "execute_result",
     "data": {
      "text/plain": [
       "         start_datetime  start_latitude  start_longitude  start_altitude  \\\n",
       "0  2019-12-28T22:34:09Z      -33.014218       151.720312        1.280728   \n",
       "1  2021-01-06T03:53:18Z      -33.766433       151.170484       99.246925   \n",
       "2  2020-03-22T23:15:32Z      -33.850294       151.140811       17.576904   \n",
       "3  2019-04-08T01:41:07Z      -33.843765       151.284606       17.783922   \n",
       "4  2020-05-06T06:24:03Z      -33.847065       151.152711       27.148079   \n",
       "\n",
       "   start_speed                                workout_id  \n",
       "0     0.909875  00097a235ab0fa481f3a17838634066fad80f180  \n",
       "1     0.039098  000d7757f079ab0f75a4db50621f052894aa33c2  \n",
       "2     1.871135  0018d73a8cf8c051befbc9bfb427320431b54628  \n",
       "3     2.052635  00645c031954e799f2bad6ca9f26529a676bc660  \n",
       "4     0.873648  00e4a61ddc04be5ec7fca6130b97fb3694d07c7a  "
      ],
      "text/html": [
       "<div>\n",
       "<style scoped>\n",
       "    .dataframe tbody tr th:only-of-type {\n",
       "        vertical-align: middle;\n",
       "    }\n",
       "\n",
       "    .dataframe tbody tr th {\n",
       "        vertical-align: top;\n",
       "    }\n",
       "\n",
       "    .dataframe thead th {\n",
       "        text-align: right;\n",
       "    }\n",
       "</style>\n",
       "<table border=\"1\" class=\"dataframe\">\n",
       "  <thead>\n",
       "    <tr style=\"text-align: right;\">\n",
       "      <th></th>\n",
       "      <th>start_datetime</th>\n",
       "      <th>start_latitude</th>\n",
       "      <th>start_longitude</th>\n",
       "      <th>start_altitude</th>\n",
       "      <th>start_speed</th>\n",
       "      <th>workout_id</th>\n",
       "    </tr>\n",
       "  </thead>\n",
       "  <tbody>\n",
       "    <tr>\n",
       "      <th>0</th>\n",
       "      <td>2019-12-28T22:34:09Z</td>\n",
       "      <td>-33.014218</td>\n",
       "      <td>151.720312</td>\n",
       "      <td>1.280728</td>\n",
       "      <td>0.909875</td>\n",
       "      <td>00097a235ab0fa481f3a17838634066fad80f180</td>\n",
       "    </tr>\n",
       "    <tr>\n",
       "      <th>1</th>\n",
       "      <td>2021-01-06T03:53:18Z</td>\n",
       "      <td>-33.766433</td>\n",
       "      <td>151.170484</td>\n",
       "      <td>99.246925</td>\n",
       "      <td>0.039098</td>\n",
       "      <td>000d7757f079ab0f75a4db50621f052894aa33c2</td>\n",
       "    </tr>\n",
       "    <tr>\n",
       "      <th>2</th>\n",
       "      <td>2020-03-22T23:15:32Z</td>\n",
       "      <td>-33.850294</td>\n",
       "      <td>151.140811</td>\n",
       "      <td>17.576904</td>\n",
       "      <td>1.871135</td>\n",
       "      <td>0018d73a8cf8c051befbc9bfb427320431b54628</td>\n",
       "    </tr>\n",
       "    <tr>\n",
       "      <th>3</th>\n",
       "      <td>2019-04-08T01:41:07Z</td>\n",
       "      <td>-33.843765</td>\n",
       "      <td>151.284606</td>\n",
       "      <td>17.783922</td>\n",
       "      <td>2.052635</td>\n",
       "      <td>00645c031954e799f2bad6ca9f26529a676bc660</td>\n",
       "    </tr>\n",
       "    <tr>\n",
       "      <th>4</th>\n",
       "      <td>2020-05-06T06:24:03Z</td>\n",
       "      <td>-33.847065</td>\n",
       "      <td>151.152711</td>\n",
       "      <td>27.148079</td>\n",
       "      <td>0.873648</td>\n",
       "      <td>00e4a61ddc04be5ec7fca6130b97fb3694d07c7a</td>\n",
       "    </tr>\n",
       "  </tbody>\n",
       "</table>\n",
       "</div>"
      ]
     },
     "metadata": {},
     "execution_count": 46
    }
   ],
   "metadata": {}
  },
  {
   "cell_type": "code",
   "execution_count": 47,
   "source": [
    "finish_point_df = create_df_from_sql_query_in_file(\"select_finish_point_workout.sql\", db.conn, ['date'])"
   ],
   "outputs": [
    {
     "output_type": "stream",
     "name": "stdout",
     "text": [
      "-- Get finishing point for each workout\n",
      "select\n",
      "  finish_datetime,\n",
      "  finish_latitude,\n",
      "  finish_longitude,\n",
      "  finish_altitude,\n",
      "  finish_speed,\n",
      "  workout_id\n",
      "from\n",
      "  (\n",
      "    select\n",
      "      date as finish_datetime,\n",
      "      latitude as finish_latitude,\n",
      "      longitude as finish_longitude,\n",
      "      altitude as finish_altitude,\n",
      "      speed as finish_speed,\n",
      "      workout_id,\n",
      "      row_number() over (\n",
      "        partition by workout_id\n",
      "        order by\n",
      "          date desc\n",
      "      ) as date_rank\n",
      "    from\n",
      "      workout_points\n",
      "  )\n",
      "where\n",
      "  date_rank = 1\n"
     ]
    }
   ],
   "metadata": {}
  },
  {
   "cell_type": "code",
   "execution_count": 48,
   "source": [
    "finish_point_df.head()"
   ],
   "outputs": [
    {
     "output_type": "execute_result",
     "data": {
      "text/plain": [
       "        finish_datetime  finish_latitude  finish_longitude  finish_altitude  \\\n",
       "0  2019-12-28T22:35:50Z       -33.014006        151.719901         1.494658   \n",
       "1  2021-01-06T04:23:21Z       -33.766486        151.170506        99.622040   \n",
       "2  2020-03-23T00:52:58Z       -33.850850        151.156934        14.756630   \n",
       "3  2019-04-08T03:12:22Z       -33.844078        151.284577        23.045195   \n",
       "4  2020-05-06T07:39:21Z       -33.847094        151.152851        21.988541   \n",
       "\n",
       "   finish_speed                                workout_id  \n",
       "0      0.061736  00097a235ab0fa481f3a17838634066fad80f180  \n",
       "1      0.808002  000d7757f079ab0f75a4db50621f052894aa33c2  \n",
       "2      0.000000  0018d73a8cf8c051befbc9bfb427320431b54628  \n",
       "3      1.279834  00645c031954e799f2bad6ca9f26529a676bc660  \n",
       "4      0.623013  00e4a61ddc04be5ec7fca6130b97fb3694d07c7a  "
      ],
      "text/html": [
       "<div>\n",
       "<style scoped>\n",
       "    .dataframe tbody tr th:only-of-type {\n",
       "        vertical-align: middle;\n",
       "    }\n",
       "\n",
       "    .dataframe tbody tr th {\n",
       "        vertical-align: top;\n",
       "    }\n",
       "\n",
       "    .dataframe thead th {\n",
       "        text-align: right;\n",
       "    }\n",
       "</style>\n",
       "<table border=\"1\" class=\"dataframe\">\n",
       "  <thead>\n",
       "    <tr style=\"text-align: right;\">\n",
       "      <th></th>\n",
       "      <th>finish_datetime</th>\n",
       "      <th>finish_latitude</th>\n",
       "      <th>finish_longitude</th>\n",
       "      <th>finish_altitude</th>\n",
       "      <th>finish_speed</th>\n",
       "      <th>workout_id</th>\n",
       "    </tr>\n",
       "  </thead>\n",
       "  <tbody>\n",
       "    <tr>\n",
       "      <th>0</th>\n",
       "      <td>2019-12-28T22:35:50Z</td>\n",
       "      <td>-33.014006</td>\n",
       "      <td>151.719901</td>\n",
       "      <td>1.494658</td>\n",
       "      <td>0.061736</td>\n",
       "      <td>00097a235ab0fa481f3a17838634066fad80f180</td>\n",
       "    </tr>\n",
       "    <tr>\n",
       "      <th>1</th>\n",
       "      <td>2021-01-06T04:23:21Z</td>\n",
       "      <td>-33.766486</td>\n",
       "      <td>151.170506</td>\n",
       "      <td>99.622040</td>\n",
       "      <td>0.808002</td>\n",
       "      <td>000d7757f079ab0f75a4db50621f052894aa33c2</td>\n",
       "    </tr>\n",
       "    <tr>\n",
       "      <th>2</th>\n",
       "      <td>2020-03-23T00:52:58Z</td>\n",
       "      <td>-33.850850</td>\n",
       "      <td>151.156934</td>\n",
       "      <td>14.756630</td>\n",
       "      <td>0.000000</td>\n",
       "      <td>0018d73a8cf8c051befbc9bfb427320431b54628</td>\n",
       "    </tr>\n",
       "    <tr>\n",
       "      <th>3</th>\n",
       "      <td>2019-04-08T03:12:22Z</td>\n",
       "      <td>-33.844078</td>\n",
       "      <td>151.284577</td>\n",
       "      <td>23.045195</td>\n",
       "      <td>1.279834</td>\n",
       "      <td>00645c031954e799f2bad6ca9f26529a676bc660</td>\n",
       "    </tr>\n",
       "    <tr>\n",
       "      <th>4</th>\n",
       "      <td>2020-05-06T07:39:21Z</td>\n",
       "      <td>-33.847094</td>\n",
       "      <td>151.152851</td>\n",
       "      <td>21.988541</td>\n",
       "      <td>0.623013</td>\n",
       "      <td>00e4a61ddc04be5ec7fca6130b97fb3694d07c7a</td>\n",
       "    </tr>\n",
       "  </tbody>\n",
       "</table>\n",
       "</div>"
      ]
     },
     "metadata": {},
     "execution_count": 48
    }
   ],
   "metadata": {}
  },
  {
   "cell_type": "code",
   "execution_count": 49,
   "source": [
    "walk_info_df = start_point_df.merge(finish_point_df, how='inner', on='workout_id')"
   ],
   "outputs": [],
   "metadata": {}
  },
  {
   "cell_type": "code",
   "execution_count": 50,
   "source": [
    "def get_location(latitude, longitude):\n",
    "    location = rg.search((latitude, longitude))\n",
    "    return [location[0]['name'], location[0]['admin1'], location[0]['cc']]"
   ],
   "outputs": [],
   "metadata": {}
  },
  {
   "cell_type": "code",
   "execution_count": 51,
   "source": [
    "walk_info_df['start_location'] = walk_info_df.apply(lambda row: get_location(float(row['start_latitude']), float(row['start_longitude'])), axis=1)"
   ],
   "outputs": [],
   "metadata": {}
  },
  {
   "cell_type": "code",
   "execution_count": 52,
   "source": [
    "walk_info_df['finish_location'] = walk_info_df.apply(lambda row: get_location(float(row['finish_latitude']), float(row['finish_longitude'])), axis=1)"
   ],
   "outputs": [],
   "metadata": {}
  },
  {
   "cell_type": "code",
   "execution_count": 53,
   "source": [
    "walk_info_df.head(10)"
   ],
   "outputs": [
    {
     "output_type": "execute_result",
     "data": {
      "text/plain": [
       "         start_datetime  start_latitude  start_longitude  start_altitude  \\\n",
       "0  2019-12-28T22:34:09Z      -33.014218       151.720312        1.280728   \n",
       "1  2021-01-06T03:53:18Z      -33.766433       151.170484       99.246925   \n",
       "2  2020-03-22T23:15:32Z      -33.850294       151.140811       17.576904   \n",
       "3  2019-04-08T01:41:07Z      -33.843765       151.284606       17.783922   \n",
       "4  2020-05-06T06:24:03Z      -33.847065       151.152711       27.148079   \n",
       "5  2017-08-12T23:15:38Z      -33.847686       151.153258      -16.533785   \n",
       "6  2020-06-24T05:10:00Z      -33.847272       151.152805       17.519846   \n",
       "7  2017-12-28T06:39:19Z      -33.019214       151.687465       15.312214   \n",
       "8  2019-12-15T23:51:54Z      -33.859273       151.154808        7.459394   \n",
       "9  2018-11-17T04:08:35Z      -33.773360       151.139593       54.950699   \n",
       "\n",
       "   start_speed                                workout_id  \\\n",
       "0     0.909875  00097a235ab0fa481f3a17838634066fad80f180   \n",
       "1     0.039098  000d7757f079ab0f75a4db50621f052894aa33c2   \n",
       "2     1.871135  0018d73a8cf8c051befbc9bfb427320431b54628   \n",
       "3     2.052635  00645c031954e799f2bad6ca9f26529a676bc660   \n",
       "4     0.873648  00e4a61ddc04be5ec7fca6130b97fb3694d07c7a   \n",
       "5     1.918036  024aa33aaf0f6023cd9b54e1a2ffa7e9fe27d935   \n",
       "6     0.601290  02b32c6480081df19693e7f5661f5f3c7ac65474   \n",
       "7     0.910099  02f4ac544c1e69e2d1bd28449d7d53e414dabf6f   \n",
       "8     1.334558  03a1d16e41823ee845034d70dbfc3f562061d4c9   \n",
       "9     0.784665  03d91b8de4f3f3e1a7e437024d0338dfd0b55e08   \n",
       "\n",
       "        finish_datetime  finish_latitude  finish_longitude  finish_altitude  \\\n",
       "0  2019-12-28T22:35:50Z       -33.014006        151.719901         1.494658   \n",
       "1  2021-01-06T04:23:21Z       -33.766486        151.170506        99.622040   \n",
       "2  2020-03-23T00:52:58Z       -33.850850        151.156934        14.756630   \n",
       "3  2019-04-08T03:12:22Z       -33.844078        151.284577        23.045195   \n",
       "4  2020-05-06T07:39:21Z       -33.847094        151.152851        21.988541   \n",
       "5  2017-08-12T23:17:12Z       -33.849632        151.154144       -22.330360   \n",
       "6  2020-06-24T06:55:23Z       -33.846985        151.153070        16.557472   \n",
       "7  2017-12-28T07:16:26Z       -33.008561        151.706111        22.346874   \n",
       "8  2019-12-16T00:47:54Z       -33.858716        151.154779        12.775998   \n",
       "9  2018-11-17T06:43:56Z       -33.732058        151.078416       173.085007   \n",
       "\n",
       "   finish_speed                        start_location  \\\n",
       "0      0.061736        [Redhead, New South Wales, AU]   \n",
       "1      0.808002        [Killara, New South Wales, AU]   \n",
       "2      0.000000     [Canada Bay, New South Wales, AU]   \n",
       "3      1.279834  [Dover Heights, New South Wales, AU]   \n",
       "4      0.623013     [Canada Bay, New South Wales, AU]   \n",
       "5      2.512069     [Canada Bay, New South Wales, AU]   \n",
       "6      0.079072     [Canada Bay, New South Wales, AU]   \n",
       "7      0.365437        [Jewells, New South Wales, AU]   \n",
       "8      0.139416      [Drummoyne, New South Wales, AU]   \n",
       "9      1.161704        [Killara, New South Wales, AU]   \n",
       "\n",
       "                        finish_location  \n",
       "0        [Redhead, New South Wales, AU]  \n",
       "1        [Killara, New South Wales, AU]  \n",
       "2      [Drummoyne, New South Wales, AU]  \n",
       "3  [Dover Heights, New South Wales, AU]  \n",
       "4     [Canada Bay, New South Wales, AU]  \n",
       "5      [Drummoyne, New South Wales, AU]  \n",
       "6     [Canada Bay, New South Wales, AU]  \n",
       "7        [Redhead, New South Wales, AU]  \n",
       "8      [Drummoyne, New South Wales, AU]  \n",
       "9  [Pennant Hills, New South Wales, AU]  "
      ],
      "text/html": [
       "<div>\n",
       "<style scoped>\n",
       "    .dataframe tbody tr th:only-of-type {\n",
       "        vertical-align: middle;\n",
       "    }\n",
       "\n",
       "    .dataframe tbody tr th {\n",
       "        vertical-align: top;\n",
       "    }\n",
       "\n",
       "    .dataframe thead th {\n",
       "        text-align: right;\n",
       "    }\n",
       "</style>\n",
       "<table border=\"1\" class=\"dataframe\">\n",
       "  <thead>\n",
       "    <tr style=\"text-align: right;\">\n",
       "      <th></th>\n",
       "      <th>start_datetime</th>\n",
       "      <th>start_latitude</th>\n",
       "      <th>start_longitude</th>\n",
       "      <th>start_altitude</th>\n",
       "      <th>start_speed</th>\n",
       "      <th>workout_id</th>\n",
       "      <th>finish_datetime</th>\n",
       "      <th>finish_latitude</th>\n",
       "      <th>finish_longitude</th>\n",
       "      <th>finish_altitude</th>\n",
       "      <th>finish_speed</th>\n",
       "      <th>start_location</th>\n",
       "      <th>finish_location</th>\n",
       "    </tr>\n",
       "  </thead>\n",
       "  <tbody>\n",
       "    <tr>\n",
       "      <th>0</th>\n",
       "      <td>2019-12-28T22:34:09Z</td>\n",
       "      <td>-33.014218</td>\n",
       "      <td>151.720312</td>\n",
       "      <td>1.280728</td>\n",
       "      <td>0.909875</td>\n",
       "      <td>00097a235ab0fa481f3a17838634066fad80f180</td>\n",
       "      <td>2019-12-28T22:35:50Z</td>\n",
       "      <td>-33.014006</td>\n",
       "      <td>151.719901</td>\n",
       "      <td>1.494658</td>\n",
       "      <td>0.061736</td>\n",
       "      <td>[Redhead, New South Wales, AU]</td>\n",
       "      <td>[Redhead, New South Wales, AU]</td>\n",
       "    </tr>\n",
       "    <tr>\n",
       "      <th>1</th>\n",
       "      <td>2021-01-06T03:53:18Z</td>\n",
       "      <td>-33.766433</td>\n",
       "      <td>151.170484</td>\n",
       "      <td>99.246925</td>\n",
       "      <td>0.039098</td>\n",
       "      <td>000d7757f079ab0f75a4db50621f052894aa33c2</td>\n",
       "      <td>2021-01-06T04:23:21Z</td>\n",
       "      <td>-33.766486</td>\n",
       "      <td>151.170506</td>\n",
       "      <td>99.622040</td>\n",
       "      <td>0.808002</td>\n",
       "      <td>[Killara, New South Wales, AU]</td>\n",
       "      <td>[Killara, New South Wales, AU]</td>\n",
       "    </tr>\n",
       "    <tr>\n",
       "      <th>2</th>\n",
       "      <td>2020-03-22T23:15:32Z</td>\n",
       "      <td>-33.850294</td>\n",
       "      <td>151.140811</td>\n",
       "      <td>17.576904</td>\n",
       "      <td>1.871135</td>\n",
       "      <td>0018d73a8cf8c051befbc9bfb427320431b54628</td>\n",
       "      <td>2020-03-23T00:52:58Z</td>\n",
       "      <td>-33.850850</td>\n",
       "      <td>151.156934</td>\n",
       "      <td>14.756630</td>\n",
       "      <td>0.000000</td>\n",
       "      <td>[Canada Bay, New South Wales, AU]</td>\n",
       "      <td>[Drummoyne, New South Wales, AU]</td>\n",
       "    </tr>\n",
       "    <tr>\n",
       "      <th>3</th>\n",
       "      <td>2019-04-08T01:41:07Z</td>\n",
       "      <td>-33.843765</td>\n",
       "      <td>151.284606</td>\n",
       "      <td>17.783922</td>\n",
       "      <td>2.052635</td>\n",
       "      <td>00645c031954e799f2bad6ca9f26529a676bc660</td>\n",
       "      <td>2019-04-08T03:12:22Z</td>\n",
       "      <td>-33.844078</td>\n",
       "      <td>151.284577</td>\n",
       "      <td>23.045195</td>\n",
       "      <td>1.279834</td>\n",
       "      <td>[Dover Heights, New South Wales, AU]</td>\n",
       "      <td>[Dover Heights, New South Wales, AU]</td>\n",
       "    </tr>\n",
       "    <tr>\n",
       "      <th>4</th>\n",
       "      <td>2020-05-06T06:24:03Z</td>\n",
       "      <td>-33.847065</td>\n",
       "      <td>151.152711</td>\n",
       "      <td>27.148079</td>\n",
       "      <td>0.873648</td>\n",
       "      <td>00e4a61ddc04be5ec7fca6130b97fb3694d07c7a</td>\n",
       "      <td>2020-05-06T07:39:21Z</td>\n",
       "      <td>-33.847094</td>\n",
       "      <td>151.152851</td>\n",
       "      <td>21.988541</td>\n",
       "      <td>0.623013</td>\n",
       "      <td>[Canada Bay, New South Wales, AU]</td>\n",
       "      <td>[Canada Bay, New South Wales, AU]</td>\n",
       "    </tr>\n",
       "    <tr>\n",
       "      <th>5</th>\n",
       "      <td>2017-08-12T23:15:38Z</td>\n",
       "      <td>-33.847686</td>\n",
       "      <td>151.153258</td>\n",
       "      <td>-16.533785</td>\n",
       "      <td>1.918036</td>\n",
       "      <td>024aa33aaf0f6023cd9b54e1a2ffa7e9fe27d935</td>\n",
       "      <td>2017-08-12T23:17:12Z</td>\n",
       "      <td>-33.849632</td>\n",
       "      <td>151.154144</td>\n",
       "      <td>-22.330360</td>\n",
       "      <td>2.512069</td>\n",
       "      <td>[Canada Bay, New South Wales, AU]</td>\n",
       "      <td>[Drummoyne, New South Wales, AU]</td>\n",
       "    </tr>\n",
       "    <tr>\n",
       "      <th>6</th>\n",
       "      <td>2020-06-24T05:10:00Z</td>\n",
       "      <td>-33.847272</td>\n",
       "      <td>151.152805</td>\n",
       "      <td>17.519846</td>\n",
       "      <td>0.601290</td>\n",
       "      <td>02b32c6480081df19693e7f5661f5f3c7ac65474</td>\n",
       "      <td>2020-06-24T06:55:23Z</td>\n",
       "      <td>-33.846985</td>\n",
       "      <td>151.153070</td>\n",
       "      <td>16.557472</td>\n",
       "      <td>0.079072</td>\n",
       "      <td>[Canada Bay, New South Wales, AU]</td>\n",
       "      <td>[Canada Bay, New South Wales, AU]</td>\n",
       "    </tr>\n",
       "    <tr>\n",
       "      <th>7</th>\n",
       "      <td>2017-12-28T06:39:19Z</td>\n",
       "      <td>-33.019214</td>\n",
       "      <td>151.687465</td>\n",
       "      <td>15.312214</td>\n",
       "      <td>0.910099</td>\n",
       "      <td>02f4ac544c1e69e2d1bd28449d7d53e414dabf6f</td>\n",
       "      <td>2017-12-28T07:16:26Z</td>\n",
       "      <td>-33.008561</td>\n",
       "      <td>151.706111</td>\n",
       "      <td>22.346874</td>\n",
       "      <td>0.365437</td>\n",
       "      <td>[Jewells, New South Wales, AU]</td>\n",
       "      <td>[Redhead, New South Wales, AU]</td>\n",
       "    </tr>\n",
       "    <tr>\n",
       "      <th>8</th>\n",
       "      <td>2019-12-15T23:51:54Z</td>\n",
       "      <td>-33.859273</td>\n",
       "      <td>151.154808</td>\n",
       "      <td>7.459394</td>\n",
       "      <td>1.334558</td>\n",
       "      <td>03a1d16e41823ee845034d70dbfc3f562061d4c9</td>\n",
       "      <td>2019-12-16T00:47:54Z</td>\n",
       "      <td>-33.858716</td>\n",
       "      <td>151.154779</td>\n",
       "      <td>12.775998</td>\n",
       "      <td>0.139416</td>\n",
       "      <td>[Drummoyne, New South Wales, AU]</td>\n",
       "      <td>[Drummoyne, New South Wales, AU]</td>\n",
       "    </tr>\n",
       "    <tr>\n",
       "      <th>9</th>\n",
       "      <td>2018-11-17T04:08:35Z</td>\n",
       "      <td>-33.773360</td>\n",
       "      <td>151.139593</td>\n",
       "      <td>54.950699</td>\n",
       "      <td>0.784665</td>\n",
       "      <td>03d91b8de4f3f3e1a7e437024d0338dfd0b55e08</td>\n",
       "      <td>2018-11-17T06:43:56Z</td>\n",
       "      <td>-33.732058</td>\n",
       "      <td>151.078416</td>\n",
       "      <td>173.085007</td>\n",
       "      <td>1.161704</td>\n",
       "      <td>[Killara, New South Wales, AU]</td>\n",
       "      <td>[Pennant Hills, New South Wales, AU]</td>\n",
       "    </tr>\n",
       "  </tbody>\n",
       "</table>\n",
       "</div>"
      ]
     },
     "metadata": {},
     "execution_count": 53
    }
   ],
   "metadata": {}
  },
  {
   "cell_type": "code",
   "execution_count": 54,
   "source": [
    "def calculate_elapsed_time_minutes(finish_datetime, start_datetime):\n",
    "    dt = pendulum.parse(finish_datetime) - pendulum.parse(start_datetime)\n",
    "    return dt.in_seconds() / 60 / 60"
   ],
   "outputs": [],
   "metadata": {}
  },
  {
   "cell_type": "code",
   "execution_count": 55,
   "source": [
    "walk_info_df['elapsed_time_hours'] = walk_info_df.apply(lambda row: calculate_elapsed_time_minutes(row['finish_datetime'], row['start_datetime']), axis=1)"
   ],
   "outputs": [],
   "metadata": {}
  },
  {
   "cell_type": "code",
   "execution_count": 56,
   "source": [
    "walk_info_df['start_datetime'] = walk_info_df['start_datetime'].apply(lambda dt: pendulum.parse(dt, tz=\"Australia/Sydney\").to_datetime_string())    # TODO: Need to convert from UTC to Sydney local time?"
   ],
   "outputs": [],
   "metadata": {}
  },
  {
   "cell_type": "code",
   "execution_count": 57,
   "source": [
    "walk_info_df.head()"
   ],
   "outputs": [
    {
     "output_type": "execute_result",
     "data": {
      "text/plain": [
       "        start_datetime  start_latitude  start_longitude  start_altitude  \\\n",
       "0  2019-12-28 22:34:09      -33.014218       151.720312        1.280728   \n",
       "1  2021-01-06 03:53:18      -33.766433       151.170484       99.246925   \n",
       "2  2020-03-22 23:15:32      -33.850294       151.140811       17.576904   \n",
       "3  2019-04-08 01:41:07      -33.843765       151.284606       17.783922   \n",
       "4  2020-05-06 06:24:03      -33.847065       151.152711       27.148079   \n",
       "\n",
       "   start_speed                                workout_id  \\\n",
       "0     0.909875  00097a235ab0fa481f3a17838634066fad80f180   \n",
       "1     0.039098  000d7757f079ab0f75a4db50621f052894aa33c2   \n",
       "2     1.871135  0018d73a8cf8c051befbc9bfb427320431b54628   \n",
       "3     2.052635  00645c031954e799f2bad6ca9f26529a676bc660   \n",
       "4     0.873648  00e4a61ddc04be5ec7fca6130b97fb3694d07c7a   \n",
       "\n",
       "        finish_datetime  finish_latitude  finish_longitude  finish_altitude  \\\n",
       "0  2019-12-28T22:35:50Z       -33.014006        151.719901         1.494658   \n",
       "1  2021-01-06T04:23:21Z       -33.766486        151.170506        99.622040   \n",
       "2  2020-03-23T00:52:58Z       -33.850850        151.156934        14.756630   \n",
       "3  2019-04-08T03:12:22Z       -33.844078        151.284577        23.045195   \n",
       "4  2020-05-06T07:39:21Z       -33.847094        151.152851        21.988541   \n",
       "\n",
       "   finish_speed                        start_location  \\\n",
       "0      0.061736        [Redhead, New South Wales, AU]   \n",
       "1      0.808002        [Killara, New South Wales, AU]   \n",
       "2      0.000000     [Canada Bay, New South Wales, AU]   \n",
       "3      1.279834  [Dover Heights, New South Wales, AU]   \n",
       "4      0.623013     [Canada Bay, New South Wales, AU]   \n",
       "\n",
       "                        finish_location  elapsed_time_hours  \n",
       "0        [Redhead, New South Wales, AU]            0.028056  \n",
       "1        [Killara, New South Wales, AU]            0.500833  \n",
       "2      [Drummoyne, New South Wales, AU]            1.623889  \n",
       "3  [Dover Heights, New South Wales, AU]            1.520833  \n",
       "4     [Canada Bay, New South Wales, AU]            1.255000  "
      ],
      "text/html": [
       "<div>\n",
       "<style scoped>\n",
       "    .dataframe tbody tr th:only-of-type {\n",
       "        vertical-align: middle;\n",
       "    }\n",
       "\n",
       "    .dataframe tbody tr th {\n",
       "        vertical-align: top;\n",
       "    }\n",
       "\n",
       "    .dataframe thead th {\n",
       "        text-align: right;\n",
       "    }\n",
       "</style>\n",
       "<table border=\"1\" class=\"dataframe\">\n",
       "  <thead>\n",
       "    <tr style=\"text-align: right;\">\n",
       "      <th></th>\n",
       "      <th>start_datetime</th>\n",
       "      <th>start_latitude</th>\n",
       "      <th>start_longitude</th>\n",
       "      <th>start_altitude</th>\n",
       "      <th>start_speed</th>\n",
       "      <th>workout_id</th>\n",
       "      <th>finish_datetime</th>\n",
       "      <th>finish_latitude</th>\n",
       "      <th>finish_longitude</th>\n",
       "      <th>finish_altitude</th>\n",
       "      <th>finish_speed</th>\n",
       "      <th>start_location</th>\n",
       "      <th>finish_location</th>\n",
       "      <th>elapsed_time_hours</th>\n",
       "    </tr>\n",
       "  </thead>\n",
       "  <tbody>\n",
       "    <tr>\n",
       "      <th>0</th>\n",
       "      <td>2019-12-28 22:34:09</td>\n",
       "      <td>-33.014218</td>\n",
       "      <td>151.720312</td>\n",
       "      <td>1.280728</td>\n",
       "      <td>0.909875</td>\n",
       "      <td>00097a235ab0fa481f3a17838634066fad80f180</td>\n",
       "      <td>2019-12-28T22:35:50Z</td>\n",
       "      <td>-33.014006</td>\n",
       "      <td>151.719901</td>\n",
       "      <td>1.494658</td>\n",
       "      <td>0.061736</td>\n",
       "      <td>[Redhead, New South Wales, AU]</td>\n",
       "      <td>[Redhead, New South Wales, AU]</td>\n",
       "      <td>0.028056</td>\n",
       "    </tr>\n",
       "    <tr>\n",
       "      <th>1</th>\n",
       "      <td>2021-01-06 03:53:18</td>\n",
       "      <td>-33.766433</td>\n",
       "      <td>151.170484</td>\n",
       "      <td>99.246925</td>\n",
       "      <td>0.039098</td>\n",
       "      <td>000d7757f079ab0f75a4db50621f052894aa33c2</td>\n",
       "      <td>2021-01-06T04:23:21Z</td>\n",
       "      <td>-33.766486</td>\n",
       "      <td>151.170506</td>\n",
       "      <td>99.622040</td>\n",
       "      <td>0.808002</td>\n",
       "      <td>[Killara, New South Wales, AU]</td>\n",
       "      <td>[Killara, New South Wales, AU]</td>\n",
       "      <td>0.500833</td>\n",
       "    </tr>\n",
       "    <tr>\n",
       "      <th>2</th>\n",
       "      <td>2020-03-22 23:15:32</td>\n",
       "      <td>-33.850294</td>\n",
       "      <td>151.140811</td>\n",
       "      <td>17.576904</td>\n",
       "      <td>1.871135</td>\n",
       "      <td>0018d73a8cf8c051befbc9bfb427320431b54628</td>\n",
       "      <td>2020-03-23T00:52:58Z</td>\n",
       "      <td>-33.850850</td>\n",
       "      <td>151.156934</td>\n",
       "      <td>14.756630</td>\n",
       "      <td>0.000000</td>\n",
       "      <td>[Canada Bay, New South Wales, AU]</td>\n",
       "      <td>[Drummoyne, New South Wales, AU]</td>\n",
       "      <td>1.623889</td>\n",
       "    </tr>\n",
       "    <tr>\n",
       "      <th>3</th>\n",
       "      <td>2019-04-08 01:41:07</td>\n",
       "      <td>-33.843765</td>\n",
       "      <td>151.284606</td>\n",
       "      <td>17.783922</td>\n",
       "      <td>2.052635</td>\n",
       "      <td>00645c031954e799f2bad6ca9f26529a676bc660</td>\n",
       "      <td>2019-04-08T03:12:22Z</td>\n",
       "      <td>-33.844078</td>\n",
       "      <td>151.284577</td>\n",
       "      <td>23.045195</td>\n",
       "      <td>1.279834</td>\n",
       "      <td>[Dover Heights, New South Wales, AU]</td>\n",
       "      <td>[Dover Heights, New South Wales, AU]</td>\n",
       "      <td>1.520833</td>\n",
       "    </tr>\n",
       "    <tr>\n",
       "      <th>4</th>\n",
       "      <td>2020-05-06 06:24:03</td>\n",
       "      <td>-33.847065</td>\n",
       "      <td>151.152711</td>\n",
       "      <td>27.148079</td>\n",
       "      <td>0.873648</td>\n",
       "      <td>00e4a61ddc04be5ec7fca6130b97fb3694d07c7a</td>\n",
       "      <td>2020-05-06T07:39:21Z</td>\n",
       "      <td>-33.847094</td>\n",
       "      <td>151.152851</td>\n",
       "      <td>21.988541</td>\n",
       "      <td>0.623013</td>\n",
       "      <td>[Canada Bay, New South Wales, AU]</td>\n",
       "      <td>[Canada Bay, New South Wales, AU]</td>\n",
       "      <td>1.255000</td>\n",
       "    </tr>\n",
       "  </tbody>\n",
       "</table>\n",
       "</div>"
      ]
     },
     "metadata": {},
     "execution_count": 57
    }
   ],
   "metadata": {}
  },
  {
   "cell_type": "code",
   "execution_count": 58,
   "source": [
    "walk_info_df = walk_info_df.merge(workouts_df, how=\"inner\", on=\"workout_id\")"
   ],
   "outputs": [],
   "metadata": {}
  },
  {
   "cell_type": "code",
   "execution_count": 59,
   "source": [
    "walk_info_df['startDate'] = walk_info_df['startDate'].apply(lambda dt: pendulum.instance(dt).to_datetime_string()) \n",
    "walk_info_df['endDate'] = walk_info_df['endDate'].apply(lambda dt: pendulum.instance(dt).to_datetime_string())"
   ],
   "outputs": [],
   "metadata": {}
  },
  {
   "cell_type": "code",
   "execution_count": 60,
   "source": [
    "walk_info_df.to_excel('walk_info_df.xlsx', index=False)"
   ],
   "outputs": [],
   "metadata": {}
  },
  {
   "cell_type": "code",
   "execution_count": null,
   "source": [
    "start_point_df['workout_id'].nunique() / len(start_point_df)"
   ],
   "outputs": [],
   "metadata": {}
  },
  {
   "cell_type": "code",
   "execution_count": null,
   "source": [
    "workouts_df.info()"
   ],
   "outputs": [],
   "metadata": {}
  },
  {
   "cell_type": "code",
   "execution_count": null,
   "source": [
    "workouts_df_cleaned = klib.data_cleaning(workouts_df)"
   ],
   "outputs": [],
   "metadata": {}
  },
  {
   "cell_type": "code",
   "execution_count": null,
   "source": [
    "workouts_df_cleaned.info()"
   ],
   "outputs": [],
   "metadata": {}
  },
  {
   "cell_type": "code",
   "execution_count": null,
   "source": [
    "workouts_df_cleaned.head()"
   ],
   "outputs": [],
   "metadata": {}
  },
  {
   "cell_type": "code",
   "execution_count": null,
   "source": [
    "db_file"
   ],
   "outputs": [],
   "metadata": {}
  },
  {
   "cell_type": "code",
   "execution_count": null,
   "source": [
    "workouts_csv = HEALTHKIT_DATA_PATH / \"workouts.csv\""
   ],
   "outputs": [],
   "metadata": {}
  },
  {
   "cell_type": "code",
   "execution_count": null,
   "source": [
    "workouts_df_cleaned.to_csv(workouts_csv, index=False)"
   ],
   "outputs": [],
   "metadata": {}
  },
  {
   "cell_type": "code",
   "execution_count": null,
   "source": [
    "workouts_df_cleaned.columns"
   ],
   "outputs": [],
   "metadata": {}
  },
  {
   "cell_type": "code",
   "execution_count": null,
   "source": [
    "workouts_df_cleaned.nunique()"
   ],
   "outputs": [],
   "metadata": {}
  },
  {
   "cell_type": "code",
   "execution_count": null,
   "source": [
    "[col for col in workouts_df.columns.values if col not in workouts_df_cleaned.columns.values]"
   ],
   "outputs": [],
   "metadata": {}
  },
  {
   "cell_type": "code",
   "execution_count": null,
   "source": [],
   "outputs": [],
   "metadata": {}
  },
  {
   "cell_type": "code",
   "execution_count": null,
   "source": [
    "tables_df = create_df_from_sql_query_in_file(\"list_all_tables.sql\", db.conn)"
   ],
   "outputs": [],
   "metadata": {}
  },
  {
   "cell_type": "code",
   "execution_count": null,
   "source": [
    "tables_df"
   ],
   "outputs": [],
   "metadata": {}
  },
  {
   "cell_type": "code",
   "execution_count": null,
   "source": [],
   "outputs": [],
   "metadata": {}
  },
  {
   "cell_type": "code",
   "execution_count": null,
   "source": [],
   "outputs": [],
   "metadata": {}
  },
  {
   "cell_type": "markdown",
   "source": [
    "### Looking at sqlite version of the cached data derived from individual walk files in walk groups"
   ],
   "metadata": {}
  },
  {
   "cell_type": "code",
   "execution_count": null,
   "source": [
    "db_file = Path('emmaus_walking.db')"
   ],
   "outputs": [],
   "metadata": {}
  },
  {
   "cell_type": "code",
   "execution_count": null,
   "source": [
    "!echo \"datasette\" $db_file \"&\""
   ],
   "outputs": [],
   "metadata": {}
  },
  {
   "cell_type": "code",
   "execution_count": null,
   "source": [
    "LOCAL_DB_URL = 'http://localhost:8081/'\n",
    "HOSTED_DB_URL = 'https://my-healthkit-data.fly.dev/'"
   ],
   "outputs": [],
   "metadata": {}
  },
  {
   "cell_type": "code",
   "execution_count": null,
   "source": [
    "url_CSV = 'http://localhost:8081/healthkit.csv?sql=select%0D%0A++id%2C%0D%0A++workoutActivityType%2C%0D%0A++duration%2C%0D%0A++durationUnit%2C%0D%0A++totalDistance%2C%0D%0A++totalDistanceUnit%2C%0D%0A++totalEnergyBurned%2C%0D%0A++totalEnergyBurnedUnit%2C%0D%0A++sourceName%2C%0D%0A++sourceVersion%2C%0D%0A++creationDate%2C%0D%0A++startDate%2C%0D%0A++endDate%2C%0D%0A++metadata_HKTimeZone%2C%0D%0A++metadata_HKWeatherTemperature%2C%0D%0A++metadata_HKWeatherHumidity%2C%0D%0A++device%2C%0D%0A++metadata_HKElevationAscended%2C%0D%0A++metadata_HKAverageMETs%0D%0Afrom%0D%0A++workouts%0D%0Aorder+by%0D%0A++id%0D%0Alimit%0D%0A++101'"
   ],
   "outputs": [],
   "metadata": {}
  },
  {
   "cell_type": "code",
   "execution_count": null,
   "source": [
    "url_CSV2 = 'http://localhost:8081/healthkit.csv?sql=select%0D%0A++id%2C%0D%0A++workoutActivityType%2C%0D%0A++duration%2C%0D%0A++durationUnit%2C%0D%0A++totalDistance%2C%0D%0A++totalDistanceUnit%2C%0D%0A++totalEnergyBurned%2C%0D%0A++totalEnergyBurnedUnit%2C%0D%0A++sourceName%2C%0D%0A++sourceVersion%2C%0D%0A++creationDate%2C%0D%0A++startDate%2C%0D%0A++endDate%2C%0D%0A++metadata_HKTimeZone%2C%0D%0A++workout_events%2C%0D%0A++metadata_HKWeatherTemperature%2C%0D%0A++metadata_HKWeatherHumidity%2C%0D%0A++device%2C%0D%0A++metadata_HKElevationAscended%2C%0D%0A++metadata_HKAverageMETs%2C%0D%0A++metadata_HKMaximumSpeed%2C%0D%0A++metadata_HKAverageSpeed%0D%0Afrom%0D%0A++workouts%0D%0Awhere%0D%0A++workoutActivityType+in+%28%3Ap0%2C+%3Ap1%29%0D%0Aorder+by%0D%0A++creationDate%0D%0Alimit%0D%0A++101&p0=HKWorkoutActivityTypeWalking&p1=HKWorkoutActivityTypeHiking&_size=max'"
   ],
   "outputs": [],
   "metadata": {}
  },
  {
   "cell_type": "code",
   "execution_count": null,
   "source": [
    "workouts_df = pd.read_csv(url_CSV)\n",
    "\n",
    "#print((LOCAL_DB_URL + 'workout.json'))\n",
    "#workout_df = pd.read_json(LOCAL_DB_URL + 'workouts.json')"
   ],
   "outputs": [],
   "metadata": {}
  },
  {
   "cell_type": "code",
   "execution_count": null,
   "source": [
    "workouts_df.nunique()"
   ],
   "outputs": [],
   "metadata": {}
  },
  {
   "cell_type": "code",
   "execution_count": null,
   "source": [
    "workouts_df.info()"
   ],
   "outputs": [],
   "metadata": {}
  },
  {
   "cell_type": "code",
   "execution_count": null,
   "source": [
    "workouts_clean_df = klib.data_cleaning(workouts_df)"
   ],
   "outputs": [],
   "metadata": {}
  },
  {
   "cell_type": "code",
   "execution_count": null,
   "source": [
    "workouts_clean_df.info()"
   ],
   "outputs": [],
   "metadata": {}
  },
  {
   "cell_type": "code",
   "execution_count": null,
   "source": [
    "workouts_df.head()"
   ],
   "outputs": [],
   "metadata": {}
  },
  {
   "cell_type": "code",
   "execution_count": null,
   "source": [
    "workouts_fly_df = pd.read_csv(url_CSV.replace(LOCAL_DB_URL, HOSTED_DB_URL))"
   ],
   "outputs": [],
   "metadata": {}
  },
  {
   "cell_type": "code",
   "execution_count": null,
   "source": [
    "workouts_fly_df.head()"
   ],
   "outputs": [],
   "metadata": {}
  },
  {
   "cell_type": "code",
   "execution_count": null,
   "source": [
    "workout_points_SQL = 'http://localhost:8081/healthkit.csv?sql=select%0D%0A++rowid%2C%0D%0A++date%2C%0D%0A++latitude%2C%0D%0A++longitude%2C%0D%0A++altitude%2C%0D%0A++speed%0D%0Afrom%0D%0A++workout_points%0D%0Awhere%0D%0A++workout_id+%3D+%22'\n",
    "workout_id = 'a34036ff616122952fa67c9bc11a493f8642dd7c' + '%22'\n",
    "\n",
    "workout_points_df = pd.read_csv(workout_points_SQL + workout_id, parse_dates=True)"
   ],
   "outputs": [],
   "metadata": {}
  },
  {
   "cell_type": "code",
   "execution_count": null,
   "source": [
    "workout_points_df.head()"
   ],
   "outputs": [],
   "metadata": {}
  },
  {
   "cell_type": "code",
   "execution_count": null,
   "source": [
    "workout_points_df.info()"
   ],
   "outputs": [],
   "metadata": {}
  },
  {
   "cell_type": "code",
   "execution_count": null,
   "source": [
    "WALK_DETAILS_FILE = 'walk_details.toml'\n",
    "walk_details = Path('../' + WALK_DETAILS_FILE)\n"
   ],
   "outputs": [],
   "metadata": {}
  },
  {
   "cell_type": "code",
   "execution_count": null,
   "source": [
    "walk_details"
   ],
   "outputs": [],
   "metadata": {}
  },
  {
   "cell_type": "code",
   "execution_count": null,
   "source": [
    "with open(walk_details, encoding=\"utf-8\") as f:\n",
    "    walk_details_dict = tomli.load(f)"
   ],
   "outputs": [],
   "metadata": {}
  },
  {
   "cell_type": "code",
   "execution_count": null,
   "source": [
    "walk_details_dict"
   ],
   "outputs": [],
   "metadata": {}
  },
  {
   "cell_type": "code",
   "execution_count": null,
   "source": [
    "pd.DataFrame(walk_details_dict, )"
   ],
   "outputs": [],
   "metadata": {}
  },
  {
   "cell_type": "code",
   "execution_count": null,
   "source": [
    "#export\n",
    "def calc_walk_stats(walk_data):\n",
    "    total_time = dt.timedelta(0)\n",
    "    total_distance = 0\n",
    "\n",
    "    for iHike, hike in enumerate(walk_data):\n",
    "        total_time += hike.index.max()\n",
    "        # print(iHike+1, walk_date[iHike], hike.index.max(), hike['dist'].max() / 1e3)\n",
    "        total_distance += hike['dist'].max()\n",
    "    total_distance /= 1e3\n",
    "\n",
    "    start_coord = walk_data[0][['lat', 'lon']].iloc[0].tolist()\n",
    "    end_coord = walk_data[-1][['lat', 'lon']].iloc[-1].tolist()\n",
    "    return total_time, total_distance, start_coord, end_coord\n",
    "\n",
    "\n",
    "# TODO: use st.cache() and also look to pre-load and cache/feather data (or similar) - NB: use of @st.cache() below didn't work\n",
    "def load_and_cache_raw_walk_data(walk_name, sample_freq, conn):\n",
    "    RAW_FIT_FILE_PATH = 'icloud/Data/HealthFit/FIT' \n",
    "    fit_dir = Path.home()/RAW_FIT_FILE_PATH\n",
    "    data_dir = fit_dir/walk_name[0:3]\n",
    "    print(data_dir.ls())\n",
    "    data_files = [file for file in os.listdir(data_dir) if file.endswith('.fit')]\n",
    "    walk_files = sorted(data_files)\n",
    "    print(walk_files)\n",
    "\n",
    "    walk_data = []\n",
    "    walk_date = []\n",
    "\n",
    "    for iFile, file in enumerate(walk_files):\n",
    "        walk_df = pd.DataFrame(aio.read(data_dir + file))\n",
    "        walk_data.append(walk_df)\n",
    "        walk_date.append(parse(file[0:17]))\n",
    "        walk_df['WalkName'] = walk_name\n",
    "        walk_df['WalkNumber'] = iFile\n",
    "        walk_df[['alt', 'dist', 'lat', 'lon', 'speed', 'WalkName', 'WalkNumber']].to_sql('walks', conn, if_exists='append', index=False)\n",
    "               \n",
    "    total_time, total_distance, start_coord, end_coord = calc_walk_stats(walk_data)\n",
    "    walk_stats = [total_time, total_distance, start_coord, end_coord]\n",
    "    #print(start_coord)\n",
    "    walk_merged = pd.concat(walk_data)\n",
    "    points = walk_merged[['lat', 'lon']].values.tolist()\n",
    "    points = [tuple(point) for ipoint, point in enumerate(points) if ipoint % sample_freq == 0]\n",
    "    return walk_data, walk_date, walk_files, points, walk_stats"
   ],
   "outputs": [],
   "metadata": {}
  },
  {
   "cell_type": "code",
   "execution_count": null,
   "source": [],
   "outputs": [],
   "metadata": {}
  },
  {
   "cell_type": "code",
   "execution_count": null,
   "source": [
    "def create_walk_cached_data_for_app(db_file, n_rows_used=5):\n",
    "    # read in all of the walks data and sample at an appropriate frequency and cache for faster use in the app\n",
    "    db_conn = sql.connect(db_file)\n",
    "    walk_df = pd.read_sql_query('SELECT * FROM walks', db_conn)\n",
    "\n",
    "    UNUSED_COLUMNS = ['dist', 'speed']\n",
    "\n",
    "    walk_df.drop(UNUSED_COLUMNS, axis=1, inplace=True)\n",
    "    walk_df.dropna(inplace=True)      # TODO: Check why there are a few NaNs\n",
    "    walk_df = walk_df.iloc[::n_rows_used].reset_index()    # downsample\n",
    "\n",
    "    walk_df.to_feather(Path(db_file.as_posix().replace('.db', '.cache.feather')))\n",
    "    \n",
    "    return walk_df"
   ],
   "outputs": [],
   "metadata": {}
  },
  {
   "cell_type": "code",
   "execution_count": null,
   "source": [
    "# Not working yet -- this is the alternate approach to using the individual .FIT files\n",
    "# walk_df = create_walk_cached_data_for_app(db_file, 10)"
   ],
   "outputs": [],
   "metadata": {}
  },
  {
   "cell_type": "code",
   "execution_count": null,
   "source": [
    "# walk_df[walk_df['lat'].isna()]"
   ],
   "outputs": [],
   "metadata": {}
  },
  {
   "cell_type": "code",
   "execution_count": null,
   "source": [
    "Path(db_file.as_posix().replace('.db', '.cache.feather'))"
   ],
   "outputs": [],
   "metadata": {}
  },
  {
   "cell_type": "code",
   "execution_count": null,
   "source": [
    "# walk_df = pd.read_feather(Path(db_file.as_posix().replace('.db', '.cache.feather')))"
   ],
   "outputs": [],
   "metadata": {}
  },
  {
   "cell_type": "code",
   "execution_count": null,
   "source": [
    "# walk_df.info()"
   ],
   "outputs": [],
   "metadata": {}
  },
  {
   "cell_type": "code",
   "execution_count": null,
   "source": [
    "# walk_df['WalkName'].unique()"
   ],
   "outputs": [],
   "metadata": {}
  }
 ],
 "metadata": {
  "kernelspec": {
   "name": "python3",
   "display_name": "Python 3.9.6 64-bit ('emmaus_walking_py38': conda)"
  },
  "language_info": {
   "codemirror_mode": {
    "name": "ipython",
    "version": 3
   },
   "file_extension": ".py",
   "mimetype": "text/x-python",
   "name": "python",
   "nbconvert_exporter": "python",
   "pygments_lexer": "ipython3",
   "version": "3.9.6"
  },
  "interpreter": {
   "hash": "a22d2645d3afe98160956a5bd9591f63a934537cdda62e90bef32e6cf34fead0"
  }
 },
 "nbformat": 4,
 "nbformat_minor": 4
}