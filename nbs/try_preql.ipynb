{
    "cells": [
        {
            "cell_type": "code",
            "execution_count": 2,
            "source": [
                "from preql import Preql\n",
                "\n",
                "uri = \"sqlite:///healthkit_2021_07_31.db\"\n",
                "\n",
                "p = Preql(uri) "
            ],
            "outputs": [],
            "metadata": {}
        },
        {
            "cell_type": "code",
            "execution_count": 10,
            "source": [
                "print(p.tables());"
            ],
            "outputs": [
                {
                    "output_type": "stream",
                    "name": "stdout",
                    "text": [
                        "[{'name': 'rHeight', 'type': 'table[startDate: text?, endDate: text?, value: text?, unit: text?, sourceName: text?, sourceVersion: text?, creationDate: text?, metadata_HKWasUserEntered: text?]'}, {'name': 'rBodyMass', 'type': 'table[startDate: text?, endDate: text?, value: text?, unit: text?, sourceName: text?, creationDate: text?, metadata_HKWasUserEntered: text?, sourceVersion: text?]'}, {'name': 'rHeartRate', 'type': 'table[startDate: text?, endDate: text?, value: text?, unit: text?, sourceName: text?, sourceVersion: text?, creationDate: text?, metadata_HKWasUserEntered: text?, device: text?, metadata_HKMetadataKeyHeartRateMotionContext: text?, metadata_HKMetadataKeySyncVersion: text?, metadata_HKMetadataKeySyncIdentifier: text?]'}, {'name': 'rBloodPressureSystolic', 'type': 'table[startDate: text?, endDate: text?, value: text?, unit: text?, sourceName: text?, sourceVersion: text?, creationDate: text?, metadata_HKWasUserEntered: text?]'}, {'name': 'rBloodPressureDiastolic', 'type': 'table[startDate: text?, endDate: text?, value: text?, unit: text?, sourceName: text?, sourceVersion: text?, creationDate: text?, metadata_HKWasUserEntered: text?]'}, {'name': 'rStepCount', 'type': 'table[startDate: text?, endDate: text?, value: text?, unit: text?, sourceName: text?, creationDate: text?, sourceVersion: text?, device: text?]'}, {'name': 'rDistanceWalkingRunning', 'type': 'table[startDate: text?, endDate: text?, value: text?, unit: text?, sourceName: text?, creationDate: text?, sourceVersion: text?, device: text?, metadata_HKMetadataKeySyncVersion: text?, metadata_HKMetadataKeySyncIdentifier: text?]'}, {'name': 'rBasalEnergyBurned', 'type': 'table[startDate: text?, endDate: text?, value: text?, unit: text?, sourceName: text?, sourceVersion: text?, device: text?, creationDate: text?, metadata_HKMetadataKeySyncVersion: text?, metadata_HKMetadataKeySyncIdentifier: text?]'}, {'name': 'rActiveEnergyBurned', 'type': 'table[startDate: text?, endDate: text?, value: text?, unit: text?, sourceName: text?, sourceVersion: text?, creationDate: text?, device: text?, metadata_HKMetadataKeySyncVersion: text?, metadata_HKMetadataKeySyncIdentifier: text?]'}, {'name': 'rFlightsClimbed', 'type': 'table[startDate: text?, endDate: text?, value: text?, unit: text?, sourceName: text?, creationDate: text?, sourceVersion: text?, device: text?]'}, {'name': 'rAppleExerciseTime', 'type': 'table[startDate: text?, endDate: text?, value: text?, unit: text?, sourceName: text?, sourceVersion: text?, device: text?, creationDate: text?]'}, {'name': 'rDistanceCycling', 'type': 'table[startDate: text?, endDate: text?, value: text?, unit: text?, sourceName: text?, sourceVersion: text?, device: text?, creationDate: text?, metadata_HKMetadataKeySyncVersion: text?, metadata_HKMetadataKeySyncIdentifier: text?]'}, {'name': 'rDistanceSwimming', 'type': 'table[startDate: text?, endDate: text?, value: text?, unit: text?, sourceName: text?, sourceVersion: text?, device: text?, creationDate: text?]'}, {'name': 'rSwimmingStrokeCount', 'type': 'table[startDate: text?, endDate: text?, value: text?, unit: text?, sourceName: text?, sourceVersion: text?, device: text?, creationDate: text?, metadata_HKSwimmingStrokeStyle: text?]'}, {'name': 'rRestingHeartRate', 'type': 'table[startDate: text?, endDate: text?, value: text?, unit: text?, sourceName: text?, sourceVersion: text?, creationDate: text?]'}, {'name': 'rVO2Max', 'type': 'table[startDate: text?, endDate: text?, value: text?, unit: text?, sourceName: text?, creationDate: text?, metadata_HKVO2MaxTestType: text?, sourceVersion: text?, metadata_HKMetadataKeySyncVersion: text?, metadata_HKMetadataKeySyncIdentifier: text?]'}, {'name': 'rWalkingHeartRateAverage', 'type': 'table[startDate: text?, endDate: text?, value: text?, unit: text?, sourceName: text?, sourceVersion: text?, creationDate: text?]'}, {'name': 'rEnvironmentalAudioExposure', 'type': 'table[startDate: text?, endDate: text?, value: text?, unit: text?, sourceName: text?, sourceVersion: text?, device: text?, creationDate: text?]'}, {'name': 'rHeadphoneAudioExposure', 'type': 'table[startDate: text?, endDate: text?, value: text?, unit: text?, sourceName: text?, sourceVersion: text?, device: text?, creationDate: text?]'}, {'name': 'rWalkingDoubleSupportPercentage', 'type': 'table[startDate: text?, endDate: text?, value: text?, unit: text?, sourceName: text?, sourceVersion: text?, device: text?, creationDate: text?]'}, {'name': 'rSixMinuteWalkTestDistance', 'type': 'table[startDate: text?, endDate: text?, value: text?, unit: text?, sourceName: text?, sourceVersion: text?, creationDate: text?, metadata_HKMetadataKeyAppleDeviceCalibrated: text?]'}, {'name': 'rAppleStandTime', 'type': 'table[startDate: text?, endDate: text?, value: text?, unit: text?, sourceName: text?, creationDate: text?, sourceVersion: text?]'}, {'name': 'rWalkingSpeed', 'type': 'table[startDate: text?, endDate: text?, value: text?, unit: text?, sourceName: text?, sourceVersion: text?, device: text?, creationDate: text?]'}, {'name': 'rWalkingStepLength', 'type': 'table[startDate: text?, endDate: text?, value: text?, unit: text?, sourceName: text?, sourceVersion: text?, device: text?, creationDate: text?]'}, {'name': 'rWalkingAsymmetryPercentage', 'type': 'table[startDate: text?, endDate: text?, value: text?, unit: text?, sourceName: text?, sourceVersion: text?, device: text?, creationDate: text?, metadata_HKMetadataKeyDevicePlacementSide: text?]'}, {'name': 'rStairAscentSpeed', 'type': 'table[startDate: text?, endDate: text?, value: text?, unit: text?, sourceName: text?, sourceVersion: text?, creationDate: text?]'}, {'name': 'rStairDescentSpeed', 'type': 'table[startDate: text?, endDate: text?, value: text?, unit: text?, sourceName: text?, sourceVersion: text?, creationDate: text?]'}, {'name': 'rHKDataTypeSleepDurationGoal', 'type': 'table[startDate: text?, endDate: text?, value: text?, unit: text?, sourceName: text?, sourceVersion: text?, creationDate: text?]'}, {'name': 'rSleepAnalysis', 'type': 'table[startDate: text?, endDate: text?, value: text?, sourceName: text?, creationDate: text?, metadata_HKWasUserEntered: text?, sourceVersion: text?, device: text?, metadata_HKTimeZone: text?]'}, {'name': 'rAppleStandHour', 'type': 'table[startDate: text?, endDate: text?, value: text?, sourceName: text?, sourceVersion: text?, device: text?, creationDate: text?]'}, {'name': 'rMindfulSession', 'type': 'table[startDate: text?, endDate: text?, sourceName: text?, sourceVersion: text?, creationDate: text?]'}, {'name': 'rAudioExposureEvent', 'type': 'table[startDate: text?, endDate: text?, value: text?, sourceName: text?, device: text?, creationDate: text?, metadata_HKMetadataKeyAudioExposureLevel: text?, sourceVersion: text?]'}, {'name': 'workouts', 'type': 'table[id: text?, workoutActivityType: text?, duration: text?, durationUnit: text?, totalDistance: text?, totalDistanceUnit: text?, totalEnergyBurned: text?, totalEnergyBurnedUnit: text?, sourceName: text?, sourceVersion: text?, creationDate: text?, startDate: text?, endDate: text?, metadata_HKGroupFitness: text?, metadata_HKWorkoutBrandName: text?, metadata_HKTimeZone: text?, metadata_HKCoachedWorkout: text?, metadata_HKWasUserEntered: text?, workout_events: text?, metadata_HKWeatherTemperature: text?, metadata_HKWeatherHumidity: text?, device: text?, metadata_HKIndoorWorkout: text?, metadata_HKElevationAscended: text?, metadata_HKSwimmingLocationType: text?, metadata_HKAverageMETs: text?, metadata_HEALTHFIT_SUB_SPORT: text?, metadata_HEALTHFIT_ROUTE: text?, metadata_HEALTHFIT_FILE_TYPE: text?, metadata_HKMaximumSpeed: text?, metadata_HEALTHFIT_TOTAL_MOVING_TIME: text?, metadata_HEALTHFIT_TOTAL_DISTANCE: text?, metadata_HEALTHFIT_MAX_RUNNING_CADENCE: text?, metadata_HEALTHFIT_MIN_ALTITUDE: text?, metadata_HEALTHFIT_AVG_RUNNING_CADENCE: text?, metadata_HEALTHFIT_APP_BUILD: text?, metadata_HEALTHFIT_FIT_SPORT: text?, metadata_HEALTHFIT_FIT_SUB_SPORT: text?, metadata_HEALTHFIT_MAX_ALTITUDE: text?, metadata_HEALTHFIT_FIT_MANUFACTURER: text?, metadata_HEALTHFIT_TOTAL_STRIDES: text?, metadata_HEALTHFIT_FIT_SERIAL_NUMBER: text?, metadata_HEALTHFIT_SPORT: text?, metadata_HKAverageSpeed: text?, metadata_HEALTHFIT_APP_VERSION: text?, metadata_HKExternalUUID: text?]'}, {'name': 'workout_points', 'type': 'table[date: text?, latitude: float?, longitude: float?, altitude: float?, horizontalAccuracy: float?, verticalAccuracy: float?, course: float?, speed: float?, workout_id: text?]'}, {'name': 'activity_summary', 'type': 'table[dateComponents: text?, activeEnergyBurned: text?, activeEnergyBurnedGoal: text?, activeEnergyBurnedUnit: text?, appleMoveTime: text?, appleMoveTimeGoal: text?, appleExerciseTime: text?, appleExerciseTimeGoal: text?, appleStandHours: text?, appleStandHoursGoal: text?]'}, {'name': 'rHeartRateVariabilitySDNN', 'type': 'table[startDate: text?, endDate: text?, value: text?, unit: text?, sourceName: text?, sourceVersion: text?, device: text?, creationDate: text?]'}]\n"
                    ]
                }
            ],
            "metadata": {}
        },
        {
            "cell_type": "code",
            "execution_count": 11,
            "source": [
                "p.workouts"
            ],
            "outputs": [
                {
                    "output_type": "error",
                    "ename": "Signal",
                    "evalue": "(NameError, [], \"Name 'workouts' is not defined\")",
                    "traceback": [
                        "\u001b[0;31m---------------------------------------------------------------------------\u001b[0m",
                        "\u001b[0;31mNameNotFound\u001b[0m                              Traceback (most recent call last)",
                        "\u001b[0;32m/opt/homebrew/Caskroom/mambaforge/base/envs/emmaus_walking_py38/lib/python3.9/site-packages/preql/core/interp_common.py\u001b[0m in \u001b[0;36mget_var\u001b[0;34m(self, name)\u001b[0m\n\u001b[1;32m    106\u001b[0m         \u001b[0;32mtry\u001b[0m\u001b[0;34m:\u001b[0m\u001b[0;34m\u001b[0m\u001b[0;34m\u001b[0m\u001b[0m\n\u001b[0;32m--> 107\u001b[0;31m             \u001b[0;32mreturn\u001b[0m \u001b[0mself\u001b[0m\u001b[0;34m.\u001b[0m\u001b[0mns\u001b[0m\u001b[0;34m.\u001b[0m\u001b[0mget_var\u001b[0m\u001b[0;34m(\u001b[0m\u001b[0mname\u001b[0m\u001b[0;34m)\u001b[0m\u001b[0;34m\u001b[0m\u001b[0;34m\u001b[0m\u001b[0m\n\u001b[0m\u001b[1;32m    108\u001b[0m         \u001b[0;32mexcept\u001b[0m \u001b[0mNameNotFound\u001b[0m\u001b[0;34m:\u001b[0m\u001b[0;34m\u001b[0m\u001b[0;34m\u001b[0m\u001b[0m\n",
                        "\u001b[0;32m/opt/homebrew/Caskroom/mambaforge/base/envs/emmaus_walking_py38/lib/python3.9/site-packages/preql/core/interp_common.py\u001b[0m in \u001b[0;36mget_var\u001b[0;34m(self, name)\u001b[0m\n\u001b[1;32m    144\u001b[0m \u001b[0;34m\u001b[0m\u001b[0m\n\u001b[0;32m--> 145\u001b[0;31m         \u001b[0;32mraise\u001b[0m \u001b[0mNameNotFound\u001b[0m\u001b[0;34m(\u001b[0m\u001b[0mname\u001b[0m\u001b[0;34m)\u001b[0m\u001b[0;34m\u001b[0m\u001b[0;34m\u001b[0m\u001b[0m\n\u001b[0m\u001b[1;32m    146\u001b[0m \u001b[0;34m\u001b[0m\u001b[0m\n",
                        "\u001b[0;31mNameNotFound\u001b[0m: workouts",
                        "\nDuring handling of the above exception, another exception occurred:\n",
                        "\u001b[0;31mSignal\u001b[0m                                    Traceback (most recent call last)",
                        "\u001b[0;32m/var/folders/_6/5btwyp417kb5tky1dhxm68000000gn/T/ipykernel_44938/1896544347.py\u001b[0m in \u001b[0;36m<module>\u001b[0;34m\u001b[0m\n\u001b[0;32m----> 1\u001b[0;31m \u001b[0mp\u001b[0m\u001b[0;34m.\u001b[0m\u001b[0mworkouts\u001b[0m\u001b[0;34m\u001b[0m\u001b[0;34m\u001b[0m\u001b[0m\n\u001b[0m",
                        "\u001b[0;32m/opt/homebrew/Caskroom/mambaforge/base/envs/emmaus_walking_py38/lib/python3.9/site-packages/preql/api.py\u001b[0m in \u001b[0;36m__getattr__\u001b[0;34m(self, fname)\u001b[0m\n\u001b[1;32m    119\u001b[0m \u001b[0;34m\u001b[0m\u001b[0m\n\u001b[1;32m    120\u001b[0m     \u001b[0;32mdef\u001b[0m \u001b[0m__getattr__\u001b[0m\u001b[0;34m(\u001b[0m\u001b[0mself\u001b[0m\u001b[0;34m,\u001b[0m \u001b[0mfname\u001b[0m\u001b[0;34m)\u001b[0m\u001b[0;34m:\u001b[0m\u001b[0;34m\u001b[0m\u001b[0;34m\u001b[0m\u001b[0m\n\u001b[0;32m--> 121\u001b[0;31m         \u001b[0mvar\u001b[0m \u001b[0;34m=\u001b[0m \u001b[0mself\u001b[0m\u001b[0;34m.\u001b[0m\u001b[0minterp\u001b[0m\u001b[0;34m.\u001b[0m\u001b[0mstate\u001b[0m\u001b[0;34m.\u001b[0m\u001b[0mget_var\u001b[0m\u001b[0;34m(\u001b[0m\u001b[0mfname\u001b[0m\u001b[0;34m)\u001b[0m\u001b[0;34m\u001b[0m\u001b[0;34m\u001b[0m\u001b[0m\n\u001b[0m\u001b[1;32m    122\u001b[0m \u001b[0;34m\u001b[0m\u001b[0m\n\u001b[1;32m    123\u001b[0m         \u001b[0;32mif\u001b[0m \u001b[0misinstance\u001b[0m\u001b[0;34m(\u001b[0m\u001b[0mvar\u001b[0m\u001b[0;34m,\u001b[0m \u001b[0mobjects\u001b[0m\u001b[0;34m.\u001b[0m\u001b[0mFunction\u001b[0m\u001b[0;34m)\u001b[0m\u001b[0;34m:\u001b[0m\u001b[0;34m\u001b[0m\u001b[0;34m\u001b[0m\u001b[0m\n",
                        "\u001b[0;32m/opt/homebrew/Caskroom/mambaforge/base/envs/emmaus_walking_py38/lib/python3.9/site-packages/preql/core/interp_common.py\u001b[0m in \u001b[0;36mget_var\u001b[0;34m(self, name)\u001b[0m\n\u001b[1;32m    114\u001b[0m                 \u001b[0;32mpass\u001b[0m\u001b[0;34m\u001b[0m\u001b[0;34m\u001b[0m\u001b[0m\n\u001b[1;32m    115\u001b[0m \u001b[0;34m\u001b[0m\u001b[0m\n\u001b[0;32m--> 116\u001b[0;31m             \u001b[0;32mraise\u001b[0m \u001b[0mSignal\u001b[0m\u001b[0;34m.\u001b[0m\u001b[0mmake\u001b[0m\u001b[0;34m(\u001b[0m\u001b[0mT\u001b[0m\u001b[0;34m.\u001b[0m\u001b[0mNameError\u001b[0m\u001b[0;34m,\u001b[0m \u001b[0mname\u001b[0m\u001b[0;34m,\u001b[0m \u001b[0;34mf\"Name '{name}' is not defined\"\u001b[0m\u001b[0;34m)\u001b[0m\u001b[0;34m\u001b[0m\u001b[0;34m\u001b[0m\u001b[0m\n\u001b[0m\u001b[1;32m    117\u001b[0m \u001b[0;34m\u001b[0m\u001b[0m\n\u001b[1;32m    118\u001b[0m \u001b[0;34m\u001b[0m\u001b[0m\n",
                        "\u001b[0;31mSignal\u001b[0m: (NameError, [], \"Name 'workouts' is not defined\")"
                    ]
                }
            ],
            "metadata": {}
        },
        {
            "cell_type": "code",
            "execution_count": null,
            "source": [],
            "outputs": [],
            "metadata": {}
        }
    ],
    "metadata": {
        "orig_nbformat": 4,
        "language_info": {
            "name": "python",
            "version": "3.9.6",
            "mimetype": "text/x-python",
            "codemirror_mode": {
                "name": "ipython",
                "version": 3
            },
            "pygments_lexer": "ipython3",
            "nbconvert_exporter": "python",
            "file_extension": ".py"
        },
        "kernelspec": {
            "name": "python3",
            "display_name": "Python 3.9.6 64-bit ('emmaus_walking_py38': conda)"
        },
        "interpreter": {
            "hash": "a22d2645d3afe98160956a5bd9591f63a934537cdda62e90bef32e6cf34fead0"
        }
    },
    "nbformat": 4,
    "nbformat_minor": 2
}