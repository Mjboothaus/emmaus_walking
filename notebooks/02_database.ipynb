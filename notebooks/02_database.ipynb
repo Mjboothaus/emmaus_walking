{
 "cells": [
  {
   "cell_type": "code",
   "execution_count": 1,
   "metadata": {},
   "outputs": [],
   "source": [
    "# default_exp datapipe\n",
    "from nbdev import *"
   ]
  },
  {
   "cell_type": "markdown",
   "metadata": {},
   "source": [
    "# Database - functions for data back-end / manipulations\n",
    "\n",
    "This is using an alternate approach:\n",
    "  - I have exported all of my Apple healthfit data from the Health app to export.zip \n",
    "  and then converted this to a SQLite database using `healthfit-to-sqlite`\n",
    "  - I am then creating a \"published\" version of this SQLite database using\n",
    "  Datasette.io\n",
    "  - I have a local version of this database running at http://localhost:8081/healthkit and\n",
    "  similarly I have an externally deployed version at https://my-healthkit-data.fly.dev\n",
    "  - I will then run queries against this database to build the cache file (or possibly a smaller custom sqlite file)\n",
    "\n",
    "## TODO\n",
    "* This is still a work in progress\n",
    "* Need to write the queries to marshall the data for each of the workouts within each group of walks\n",
    "* Then cache this data - maybe try another (small) sqlite db for the caching (instead of feather)\n",
    "* **NOTE: It looks like the queries are being truncated at 1000 values - need to fix**\n"
   ]
  },
  {
   "cell_type": "code",
   "execution_count": 2,
   "metadata": {},
   "outputs": [],
   "source": [
    "#export\n",
    "import os\n",
    "import pandas as pd\n",
    "import activityio as aio\n",
    "from dateutil.parser import parse\n",
    "import datetime as dt\n",
    "import sqlite3 as sql\n",
    "from pathlib import Path\n",
    "import tomli\n"
   ]
  },
  {
   "cell_type": "code",
   "execution_count": 3,
   "metadata": {},
   "outputs": [],
   "source": [
    "db_file = Path('emmaus_walking.sqlite.db')"
   ]
  },
  {
   "cell_type": "code",
   "execution_count": 4,
   "metadata": {},
   "outputs": [],
   "source": [
    "LOCAL_DB_URL = 'http://localhost:8081/'\n",
    "HOSTED_DB_URL = 'https://my-healthkit-data.fly.dev/'"
   ]
  },
  {
   "cell_type": "code",
   "execution_count": 5,
   "metadata": {},
   "outputs": [],
   "source": [
    "url_CSV = 'http://localhost:8081/healthkit.csv?sql=select%0D%0A++id%2C%0D%0A++workoutActivityType%2C%0D%0A++duration%2C%0D%0A++durationUnit%2C%0D%0A++totalDistance%2C%0D%0A++totalDistanceUnit%2C%0D%0A++totalEnergyBurned%2C%0D%0A++totalEnergyBurnedUnit%2C%0D%0A++sourceName%2C%0D%0A++sourceVersion%2C%0D%0A++creationDate%2C%0D%0A++startDate%2C%0D%0A++endDate%2C%0D%0A++metadata_HKTimeZone%2C%0D%0A++metadata_HKWeatherTemperature%2C%0D%0A++metadata_HKWeatherHumidity%2C%0D%0A++device%2C%0D%0A++metadata_HKElevationAscended%2C%0D%0A++metadata_HKAverageMETs%0D%0Afrom%0D%0A++workouts%0D%0Aorder+by%0D%0A++id%0D%0Alimit%0D%0A++101'"
   ]
  },
  {
   "cell_type": "code",
   "execution_count": 6,
   "metadata": {},
   "outputs": [],
   "source": [
    "workouts_df = pd.read_csv(url_CSV)\n",
    "\n",
    "#print((LOCAL_DB_URL + 'workout.json'))\n",
    "#workout_df = pd.read_json(LOCAL_DB_URL + 'workouts.json')"
   ]
  },
  {
   "cell_type": "code",
   "execution_count": 7,
   "metadata": {},
   "outputs": [
    {
     "output_type": "execute_result",
     "data": {
      "text/plain": [
       "id                               101\n",
       "workoutActivityType                7\n",
       "duration                         100\n",
       "durationUnit                       1\n",
       "totalDistance                     85\n",
       "totalDistanceUnit                  1\n",
       "totalEnergyBurned                100\n",
       "totalEnergyBurnedUnit              1\n",
       "sourceName                         2\n",
       "sourceVersion                     27\n",
       "creationDate                     101\n",
       "startDate                        101\n",
       "endDate                          101\n",
       "metadata_HKTimeZone                5\n",
       "metadata_HKWeatherTemperature     37\n",
       "metadata_HKWeatherHumidity        51\n",
       "device                            20\n",
       "metadata_HKElevationAscended      48\n",
       "metadata_HKAverageMETs            40\n",
       "dtype: int64"
      ]
     },
     "metadata": {},
     "execution_count": 7
    }
   ],
   "source": [
    "workouts_df.nunique()"
   ]
  },
  {
   "cell_type": "code",
   "execution_count": 8,
   "metadata": {},
   "outputs": [
    {
     "output_type": "execute_result",
     "data": {
      "text/plain": [
       "                                         id  \\\n",
       "0  002a7fbcc124ce02c76554f8d505a2e0555f906e   \n",
       "1  00a2dae192724c8c1940c393a8bfef79d37cbdbe   \n",
       "2  0121372783b05b67ef82219fde21347b87636b5b   \n",
       "3  0123895b3103842c96484bd5baeeca3e57481ce5   \n",
       "4  013404c2aaf1f1e14314e756a0edb5ae54d57397   \n",
       "\n",
       "                  workoutActivityType    duration durationUnit  totalDistance  \\\n",
       "0        HKWorkoutActivityTypeWalking  122.173776          min       3.674600   \n",
       "1        HKWorkoutActivityTypeWalking  117.242568          min       1.803008   \n",
       "2  HKWorkoutActivityTypeCrossTraining    7.883268          min       0.000000   \n",
       "3        HKWorkoutActivityTypeWalking  103.204779          min       3.650011   \n",
       "4         HKWorkoutActivityTypeHiking   57.604634          min       1.218353   \n",
       "\n",
       "  totalDistanceUnit  totalEnergyBurned totalEnergyBurnedUnit  \\\n",
       "0                km        1729.920665                    kJ   \n",
       "1                km        1289.166333                    kJ   \n",
       "2                km         513.001475                    kJ   \n",
       "3                km        1544.586192                    kJ   \n",
       "4                km         469.549308                    kJ   \n",
       "\n",
       "                          sourceName sourceVersion               creationDate  \\\n",
       "0  Michael and Ai Leen’s Apple Watch         6.2.6  2020-06-27 08:34:30 +1000   \n",
       "1  Michael and Ai Leen’s Apple Watch         6.2.1  2020-06-13 15:13:35 +1000   \n",
       "2                              Seven           420  2016-07-20 08:42:54 +1000   \n",
       "3  Michael and Ai Leen’s Apple Watch           7.1  2020-12-14 09:33:44 +1000   \n",
       "4  Michael and Ai Leen’s Apple Watch         5.1.3  2019-04-12 10:18:27 +1000   \n",
       "\n",
       "                   startDate                    endDate metadata_HKTimeZone  \\\n",
       "0  2020-06-27 06:32:18 +1000  2020-06-27 08:34:28 +1000    Australia/Sydney   \n",
       "1  2020-06-13 13:16:17 +1000  2020-06-13 15:13:32 +1000    Australia/Sydney   \n",
       "2  2016-07-20 08:35:00 +1000  2016-07-20 08:42:54 +1000    Australia/Sydney   \n",
       "3  2020-12-14 07:50:29 +1000  2020-12-14 09:33:41 +1000    Australia/Sydney   \n",
       "4  2019-04-12 09:20:30 +1000  2019-04-12 10:18:06 +1000    Australia/Sydney   \n",
       "\n",
       "  metadata_HKWeatherTemperature metadata_HKWeatherHumidity  \\\n",
       "0                       49 degF                     8500 %   \n",
       "1                       67 degF                     7000 %   \n",
       "2                           NaN                        NaN   \n",
       "3                     69.8 degF                     8200 %   \n",
       "4                       65 degF                     7500 %   \n",
       "\n",
       "                                              device  \\\n",
       "0  <<HKDevice: 0x282f6c280>, name:Apple Watch, ma...   \n",
       "1  <<HKDevice: 0x282f600a0>, name:Apple Watch, ma...   \n",
       "2                                                NaN   \n",
       "3  <<HKDevice: 0x282f745a0>, name:Apple Watch, ma...   \n",
       "4  <<HKDevice: 0x282fdf110>, name:Apple Watch, ma...   \n",
       "\n",
       "  metadata_HKElevationAscended metadata_HKAverageMETs  \n",
       "0                      4630 cm     2.74876 kcal/hr·kg  \n",
       "1                      2803 cm     2.25918 kcal/hr·kg  \n",
       "2                          NaN                    NaN  \n",
       "3                      4271 cm     2.88149 kcal/hr·kg  \n",
       "4                      1607 cm                    NaN  "
      ],
      "text/html": "<div>\n<style scoped>\n    .dataframe tbody tr th:only-of-type {\n        vertical-align: middle;\n    }\n\n    .dataframe tbody tr th {\n        vertical-align: top;\n    }\n\n    .dataframe thead th {\n        text-align: right;\n    }\n</style>\n<table border=\"1\" class=\"dataframe\">\n  <thead>\n    <tr style=\"text-align: right;\">\n      <th></th>\n      <th>id</th>\n      <th>workoutActivityType</th>\n      <th>duration</th>\n      <th>durationUnit</th>\n      <th>totalDistance</th>\n      <th>totalDistanceUnit</th>\n      <th>totalEnergyBurned</th>\n      <th>totalEnergyBurnedUnit</th>\n      <th>sourceName</th>\n      <th>sourceVersion</th>\n      <th>creationDate</th>\n      <th>startDate</th>\n      <th>endDate</th>\n      <th>metadata_HKTimeZone</th>\n      <th>metadata_HKWeatherTemperature</th>\n      <th>metadata_HKWeatherHumidity</th>\n      <th>device</th>\n      <th>metadata_HKElevationAscended</th>\n      <th>metadata_HKAverageMETs</th>\n    </tr>\n  </thead>\n  <tbody>\n    <tr>\n      <th>0</th>\n      <td>002a7fbcc124ce02c76554f8d505a2e0555f906e</td>\n      <td>HKWorkoutActivityTypeWalking</td>\n      <td>122.173776</td>\n      <td>min</td>\n      <td>3.674600</td>\n      <td>km</td>\n      <td>1729.920665</td>\n      <td>kJ</td>\n      <td>Michael and Ai Leen’s Apple Watch</td>\n      <td>6.2.6</td>\n      <td>2020-06-27 08:34:30 +1000</td>\n      <td>2020-06-27 06:32:18 +1000</td>\n      <td>2020-06-27 08:34:28 +1000</td>\n      <td>Australia/Sydney</td>\n      <td>49 degF</td>\n      <td>8500 %</td>\n      <td>&lt;&lt;HKDevice: 0x282f6c280&gt;, name:Apple Watch, ma...</td>\n      <td>4630 cm</td>\n      <td>2.74876 kcal/hr·kg</td>\n    </tr>\n    <tr>\n      <th>1</th>\n      <td>00a2dae192724c8c1940c393a8bfef79d37cbdbe</td>\n      <td>HKWorkoutActivityTypeWalking</td>\n      <td>117.242568</td>\n      <td>min</td>\n      <td>1.803008</td>\n      <td>km</td>\n      <td>1289.166333</td>\n      <td>kJ</td>\n      <td>Michael and Ai Leen’s Apple Watch</td>\n      <td>6.2.1</td>\n      <td>2020-06-13 15:13:35 +1000</td>\n      <td>2020-06-13 13:16:17 +1000</td>\n      <td>2020-06-13 15:13:32 +1000</td>\n      <td>Australia/Sydney</td>\n      <td>67 degF</td>\n      <td>7000 %</td>\n      <td>&lt;&lt;HKDevice: 0x282f600a0&gt;, name:Apple Watch, ma...</td>\n      <td>2803 cm</td>\n      <td>2.25918 kcal/hr·kg</td>\n    </tr>\n    <tr>\n      <th>2</th>\n      <td>0121372783b05b67ef82219fde21347b87636b5b</td>\n      <td>HKWorkoutActivityTypeCrossTraining</td>\n      <td>7.883268</td>\n      <td>min</td>\n      <td>0.000000</td>\n      <td>km</td>\n      <td>513.001475</td>\n      <td>kJ</td>\n      <td>Seven</td>\n      <td>420</td>\n      <td>2016-07-20 08:42:54 +1000</td>\n      <td>2016-07-20 08:35:00 +1000</td>\n      <td>2016-07-20 08:42:54 +1000</td>\n      <td>Australia/Sydney</td>\n      <td>NaN</td>\n      <td>NaN</td>\n      <td>NaN</td>\n      <td>NaN</td>\n      <td>NaN</td>\n    </tr>\n    <tr>\n      <th>3</th>\n      <td>0123895b3103842c96484bd5baeeca3e57481ce5</td>\n      <td>HKWorkoutActivityTypeWalking</td>\n      <td>103.204779</td>\n      <td>min</td>\n      <td>3.650011</td>\n      <td>km</td>\n      <td>1544.586192</td>\n      <td>kJ</td>\n      <td>Michael and Ai Leen’s Apple Watch</td>\n      <td>7.1</td>\n      <td>2020-12-14 09:33:44 +1000</td>\n      <td>2020-12-14 07:50:29 +1000</td>\n      <td>2020-12-14 09:33:41 +1000</td>\n      <td>Australia/Sydney</td>\n      <td>69.8 degF</td>\n      <td>8200 %</td>\n      <td>&lt;&lt;HKDevice: 0x282f745a0&gt;, name:Apple Watch, ma...</td>\n      <td>4271 cm</td>\n      <td>2.88149 kcal/hr·kg</td>\n    </tr>\n    <tr>\n      <th>4</th>\n      <td>013404c2aaf1f1e14314e756a0edb5ae54d57397</td>\n      <td>HKWorkoutActivityTypeHiking</td>\n      <td>57.604634</td>\n      <td>min</td>\n      <td>1.218353</td>\n      <td>km</td>\n      <td>469.549308</td>\n      <td>kJ</td>\n      <td>Michael and Ai Leen’s Apple Watch</td>\n      <td>5.1.3</td>\n      <td>2019-04-12 10:18:27 +1000</td>\n      <td>2019-04-12 09:20:30 +1000</td>\n      <td>2019-04-12 10:18:06 +1000</td>\n      <td>Australia/Sydney</td>\n      <td>65 degF</td>\n      <td>7500 %</td>\n      <td>&lt;&lt;HKDevice: 0x282fdf110&gt;, name:Apple Watch, ma...</td>\n      <td>1607 cm</td>\n      <td>NaN</td>\n    </tr>\n  </tbody>\n</table>\n</div>"
     },
     "metadata": {},
     "execution_count": 8
    }
   ],
   "source": [
    "workouts_df.head()"
   ]
  },
  {
   "cell_type": "code",
   "execution_count": 9,
   "metadata": {},
   "outputs": [],
   "source": [
    "workouts_fly_df = pd.read_csv(url_CSV.replace(LOCAL_DB_URL, HOSTED_DB_URL))"
   ]
  },
  {
   "cell_type": "code",
   "execution_count": 10,
   "metadata": {},
   "outputs": [
    {
     "output_type": "execute_result",
     "data": {
      "text/plain": [
       "                                         id  \\\n",
       "0  002a7fbcc124ce02c76554f8d505a2e0555f906e   \n",
       "1  00a2dae192724c8c1940c393a8bfef79d37cbdbe   \n",
       "2  0121372783b05b67ef82219fde21347b87636b5b   \n",
       "3  0123895b3103842c96484bd5baeeca3e57481ce5   \n",
       "4  013404c2aaf1f1e14314e756a0edb5ae54d57397   \n",
       "\n",
       "                  workoutActivityType    duration durationUnit  totalDistance  \\\n",
       "0        HKWorkoutActivityTypeWalking  122.173776          min       3.674600   \n",
       "1        HKWorkoutActivityTypeWalking  117.242568          min       1.803008   \n",
       "2  HKWorkoutActivityTypeCrossTraining    7.883268          min       0.000000   \n",
       "3        HKWorkoutActivityTypeWalking  103.204779          min       3.650011   \n",
       "4         HKWorkoutActivityTypeHiking   57.604634          min       1.218353   \n",
       "\n",
       "  totalDistanceUnit  totalEnergyBurned totalEnergyBurnedUnit  \\\n",
       "0                km        1729.920665                    kJ   \n",
       "1                km        1289.166333                    kJ   \n",
       "2                km         513.001475                    kJ   \n",
       "3                km        1544.586192                    kJ   \n",
       "4                km         469.549308                    kJ   \n",
       "\n",
       "                          sourceName sourceVersion               creationDate  \\\n",
       "0  Michael and Ai Leen’s Apple Watch         6.2.6  2020-06-27 08:34:30 +1000   \n",
       "1  Michael and Ai Leen’s Apple Watch         6.2.1  2020-06-13 15:13:35 +1000   \n",
       "2                              Seven           420  2016-07-20 08:42:54 +1000   \n",
       "3  Michael and Ai Leen’s Apple Watch           7.1  2020-12-14 09:33:44 +1000   \n",
       "4  Michael and Ai Leen’s Apple Watch         5.1.3  2019-04-12 10:18:27 +1000   \n",
       "\n",
       "                   startDate                    endDate metadata_HKTimeZone  \\\n",
       "0  2020-06-27 06:32:18 +1000  2020-06-27 08:34:28 +1000    Australia/Sydney   \n",
       "1  2020-06-13 13:16:17 +1000  2020-06-13 15:13:32 +1000    Australia/Sydney   \n",
       "2  2016-07-20 08:35:00 +1000  2016-07-20 08:42:54 +1000    Australia/Sydney   \n",
       "3  2020-12-14 07:50:29 +1000  2020-12-14 09:33:41 +1000    Australia/Sydney   \n",
       "4  2019-04-12 09:20:30 +1000  2019-04-12 10:18:06 +1000    Australia/Sydney   \n",
       "\n",
       "  metadata_HKWeatherTemperature metadata_HKWeatherHumidity  \\\n",
       "0                       49 degF                     8500 %   \n",
       "1                       67 degF                     7000 %   \n",
       "2                           NaN                        NaN   \n",
       "3                     69.8 degF                     8200 %   \n",
       "4                       65 degF                     7500 %   \n",
       "\n",
       "                                              device  \\\n",
       "0  <<HKDevice: 0x282f6c280>, name:Apple Watch, ma...   \n",
       "1  <<HKDevice: 0x282f600a0>, name:Apple Watch, ma...   \n",
       "2                                                NaN   \n",
       "3  <<HKDevice: 0x282f745a0>, name:Apple Watch, ma...   \n",
       "4  <<HKDevice: 0x282fdf110>, name:Apple Watch, ma...   \n",
       "\n",
       "  metadata_HKElevationAscended metadata_HKAverageMETs  \n",
       "0                      4630 cm     2.74876 kcal/hr·kg  \n",
       "1                      2803 cm     2.25918 kcal/hr·kg  \n",
       "2                          NaN                    NaN  \n",
       "3                      4271 cm     2.88149 kcal/hr·kg  \n",
       "4                      1607 cm                    NaN  "
      ],
      "text/html": "<div>\n<style scoped>\n    .dataframe tbody tr th:only-of-type {\n        vertical-align: middle;\n    }\n\n    .dataframe tbody tr th {\n        vertical-align: top;\n    }\n\n    .dataframe thead th {\n        text-align: right;\n    }\n</style>\n<table border=\"1\" class=\"dataframe\">\n  <thead>\n    <tr style=\"text-align: right;\">\n      <th></th>\n      <th>id</th>\n      <th>workoutActivityType</th>\n      <th>duration</th>\n      <th>durationUnit</th>\n      <th>totalDistance</th>\n      <th>totalDistanceUnit</th>\n      <th>totalEnergyBurned</th>\n      <th>totalEnergyBurnedUnit</th>\n      <th>sourceName</th>\n      <th>sourceVersion</th>\n      <th>creationDate</th>\n      <th>startDate</th>\n      <th>endDate</th>\n      <th>metadata_HKTimeZone</th>\n      <th>metadata_HKWeatherTemperature</th>\n      <th>metadata_HKWeatherHumidity</th>\n      <th>device</th>\n      <th>metadata_HKElevationAscended</th>\n      <th>metadata_HKAverageMETs</th>\n    </tr>\n  </thead>\n  <tbody>\n    <tr>\n      <th>0</th>\n      <td>002a7fbcc124ce02c76554f8d505a2e0555f906e</td>\n      <td>HKWorkoutActivityTypeWalking</td>\n      <td>122.173776</td>\n      <td>min</td>\n      <td>3.674600</td>\n      <td>km</td>\n      <td>1729.920665</td>\n      <td>kJ</td>\n      <td>Michael and Ai Leen’s Apple Watch</td>\n      <td>6.2.6</td>\n      <td>2020-06-27 08:34:30 +1000</td>\n      <td>2020-06-27 06:32:18 +1000</td>\n      <td>2020-06-27 08:34:28 +1000</td>\n      <td>Australia/Sydney</td>\n      <td>49 degF</td>\n      <td>8500 %</td>\n      <td>&lt;&lt;HKDevice: 0x282f6c280&gt;, name:Apple Watch, ma...</td>\n      <td>4630 cm</td>\n      <td>2.74876 kcal/hr·kg</td>\n    </tr>\n    <tr>\n      <th>1</th>\n      <td>00a2dae192724c8c1940c393a8bfef79d37cbdbe</td>\n      <td>HKWorkoutActivityTypeWalking</td>\n      <td>117.242568</td>\n      <td>min</td>\n      <td>1.803008</td>\n      <td>km</td>\n      <td>1289.166333</td>\n      <td>kJ</td>\n      <td>Michael and Ai Leen’s Apple Watch</td>\n      <td>6.2.1</td>\n      <td>2020-06-13 15:13:35 +1000</td>\n      <td>2020-06-13 13:16:17 +1000</td>\n      <td>2020-06-13 15:13:32 +1000</td>\n      <td>Australia/Sydney</td>\n      <td>67 degF</td>\n      <td>7000 %</td>\n      <td>&lt;&lt;HKDevice: 0x282f600a0&gt;, name:Apple Watch, ma...</td>\n      <td>2803 cm</td>\n      <td>2.25918 kcal/hr·kg</td>\n    </tr>\n    <tr>\n      <th>2</th>\n      <td>0121372783b05b67ef82219fde21347b87636b5b</td>\n      <td>HKWorkoutActivityTypeCrossTraining</td>\n      <td>7.883268</td>\n      <td>min</td>\n      <td>0.000000</td>\n      <td>km</td>\n      <td>513.001475</td>\n      <td>kJ</td>\n      <td>Seven</td>\n      <td>420</td>\n      <td>2016-07-20 08:42:54 +1000</td>\n      <td>2016-07-20 08:35:00 +1000</td>\n      <td>2016-07-20 08:42:54 +1000</td>\n      <td>Australia/Sydney</td>\n      <td>NaN</td>\n      <td>NaN</td>\n      <td>NaN</td>\n      <td>NaN</td>\n      <td>NaN</td>\n    </tr>\n    <tr>\n      <th>3</th>\n      <td>0123895b3103842c96484bd5baeeca3e57481ce5</td>\n      <td>HKWorkoutActivityTypeWalking</td>\n      <td>103.204779</td>\n      <td>min</td>\n      <td>3.650011</td>\n      <td>km</td>\n      <td>1544.586192</td>\n      <td>kJ</td>\n      <td>Michael and Ai Leen’s Apple Watch</td>\n      <td>7.1</td>\n      <td>2020-12-14 09:33:44 +1000</td>\n      <td>2020-12-14 07:50:29 +1000</td>\n      <td>2020-12-14 09:33:41 +1000</td>\n      <td>Australia/Sydney</td>\n      <td>69.8 degF</td>\n      <td>8200 %</td>\n      <td>&lt;&lt;HKDevice: 0x282f745a0&gt;, name:Apple Watch, ma...</td>\n      <td>4271 cm</td>\n      <td>2.88149 kcal/hr·kg</td>\n    </tr>\n    <tr>\n      <th>4</th>\n      <td>013404c2aaf1f1e14314e756a0edb5ae54d57397</td>\n      <td>HKWorkoutActivityTypeHiking</td>\n      <td>57.604634</td>\n      <td>min</td>\n      <td>1.218353</td>\n      <td>km</td>\n      <td>469.549308</td>\n      <td>kJ</td>\n      <td>Michael and Ai Leen’s Apple Watch</td>\n      <td>5.1.3</td>\n      <td>2019-04-12 10:18:27 +1000</td>\n      <td>2019-04-12 09:20:30 +1000</td>\n      <td>2019-04-12 10:18:06 +1000</td>\n      <td>Australia/Sydney</td>\n      <td>65 degF</td>\n      <td>7500 %</td>\n      <td>&lt;&lt;HKDevice: 0x282fdf110&gt;, name:Apple Watch, ma...</td>\n      <td>1607 cm</td>\n      <td>NaN</td>\n    </tr>\n  </tbody>\n</table>\n</div>"
     },
     "metadata": {},
     "execution_count": 10
    }
   ],
   "source": [
    "workouts_fly_df.head()"
   ]
  },
  {
   "cell_type": "code",
   "execution_count": 11,
   "metadata": {},
   "outputs": [],
   "source": [
    "workout_points_SQL = 'http://localhost:8081/healthkit.csv?sql=select%0D%0A++rowid%2C%0D%0A++date%2C%0D%0A++latitude%2C%0D%0A++longitude%2C%0D%0A++altitude%2C%0D%0A++speed%0D%0Afrom%0D%0A++workout_points%0D%0Awhere%0D%0A++workout_id+%3D+%22'\n",
    "workout_id = 'a34036ff616122952fa67c9bc11a493f8642dd7c' + '%22'\n",
    "\n",
    "workout_points_df = pd.read_csv(workout_points_SQL + workout_id, parse_dates=True)"
   ]
  },
  {
   "cell_type": "code",
   "execution_count": 12,
   "metadata": {},
   "outputs": [
    {
     "output_type": "execute_result",
     "data": {
      "text/plain": [
       "   rowid                  date   latitude   longitude   altitude     speed\n",
       "0      1  2017-07-31T00:51:19Z -33.857455  151.160325  -4.943426  2.993684\n",
       "1      2  2017-07-31T00:52:08Z -33.857726  151.160033  20.688181  1.673957\n",
       "2      3  2017-07-31T00:52:09Z -33.857726  151.160052  20.902155  1.677370\n",
       "3      4  2017-07-31T00:52:10Z -33.857727  151.160071  21.125973  1.682297\n",
       "4      5  2017-07-31T00:52:11Z -33.857727  151.160087  21.315756  1.687898"
      ],
      "text/html": "<div>\n<style scoped>\n    .dataframe tbody tr th:only-of-type {\n        vertical-align: middle;\n    }\n\n    .dataframe tbody tr th {\n        vertical-align: top;\n    }\n\n    .dataframe thead th {\n        text-align: right;\n    }\n</style>\n<table border=\"1\" class=\"dataframe\">\n  <thead>\n    <tr style=\"text-align: right;\">\n      <th></th>\n      <th>rowid</th>\n      <th>date</th>\n      <th>latitude</th>\n      <th>longitude</th>\n      <th>altitude</th>\n      <th>speed</th>\n    </tr>\n  </thead>\n  <tbody>\n    <tr>\n      <th>0</th>\n      <td>1</td>\n      <td>2017-07-31T00:51:19Z</td>\n      <td>-33.857455</td>\n      <td>151.160325</td>\n      <td>-4.943426</td>\n      <td>2.993684</td>\n    </tr>\n    <tr>\n      <th>1</th>\n      <td>2</td>\n      <td>2017-07-31T00:52:08Z</td>\n      <td>-33.857726</td>\n      <td>151.160033</td>\n      <td>20.688181</td>\n      <td>1.673957</td>\n    </tr>\n    <tr>\n      <th>2</th>\n      <td>3</td>\n      <td>2017-07-31T00:52:09Z</td>\n      <td>-33.857726</td>\n      <td>151.160052</td>\n      <td>20.902155</td>\n      <td>1.677370</td>\n    </tr>\n    <tr>\n      <th>3</th>\n      <td>4</td>\n      <td>2017-07-31T00:52:10Z</td>\n      <td>-33.857727</td>\n      <td>151.160071</td>\n      <td>21.125973</td>\n      <td>1.682297</td>\n    </tr>\n    <tr>\n      <th>4</th>\n      <td>5</td>\n      <td>2017-07-31T00:52:11Z</td>\n      <td>-33.857727</td>\n      <td>151.160087</td>\n      <td>21.315756</td>\n      <td>1.687898</td>\n    </tr>\n  </tbody>\n</table>\n</div>"
     },
     "metadata": {},
     "execution_count": 12
    }
   ],
   "source": [
    "workout_points_df.head()"
   ]
  },
  {
   "cell_type": "code",
   "execution_count": 13,
   "metadata": {},
   "outputs": [
    {
     "output_type": "stream",
     "name": "stdout",
     "text": [
      "<class 'pandas.core.frame.DataFrame'>\nRangeIndex: 1000 entries, 0 to 999\nData columns (total 6 columns):\n #   Column     Non-Null Count  Dtype  \n---  ------     --------------  -----  \n 0   rowid      1000 non-null   int64  \n 1   date       1000 non-null   object \n 2   latitude   1000 non-null   float64\n 3   longitude  1000 non-null   float64\n 4   altitude   1000 non-null   float64\n 5   speed      1000 non-null   float64\ndtypes: float64(4), int64(1), object(1)\nmemory usage: 47.0+ KB\n"
     ]
    }
   ],
   "source": [
    "workout_points_df.info()"
   ]
  },
  {
   "cell_type": "code",
   "execution_count": 14,
   "metadata": {},
   "outputs": [],
   "source": [
    "WALK_DETAILS_FILE = 'walk_details.toml'\n",
    "walk_details = Path('../' + WALK_DETAILS_FILE)\n"
   ]
  },
  {
   "cell_type": "code",
   "execution_count": 15,
   "metadata": {},
   "outputs": [
    {
     "output_type": "execute_result",
     "data": {
      "text/plain": [
       "Path('../walk_details.toml')"
      ]
     },
     "metadata": {},
     "execution_count": 15
    }
   ],
   "source": [
    "walk_details"
   ]
  },
  {
   "cell_type": "code",
   "execution_count": 16,
   "metadata": {},
   "outputs": [],
   "source": [
    "with open(walk_details, encoding=\"utf-8\") as f:\n",
    "    walk_details_dict = tomli.load(f)"
   ]
  },
  {
   "cell_type": "code",
   "execution_count": 17,
   "metadata": {},
   "outputs": [
    {
     "output_type": "execute_result",
     "data": {
      "text/plain": [
       "{'walks': [{'short_name': 'B2M', 'name': 'Bondi to Manly'},\n",
       "  {'short_name': 'B2W', 'name': 'Bondi to Wollongong'},\n",
       "  {'short_name': 'D2C', 'name': 'Drummoyne to Cockatoo'},\n",
       "  {'short_name': 'GNW', 'name': 'Great North Walk'},\n",
       "  {'short_name': 'GTL', 'name': 'Gladesville Loop'},\n",
       "  {'short_name': 'GNW', 'name': 'Great North Walk'},\n",
       "  {'short_name': 'GWW', 'name': 'Great West Walk', 'status': 'incomplete'},\n",
       "  {'short_name': 'OLD', 'name': 'Old Bar'},\n",
       "  {'short_name': 'STM', 'name': \"St Michael's Golf Course\"},\n",
       "  {'short_name': 'SNM', 'name': 'Snowy Mountains (Thredo)'},\n",
       "  {'short_name': 'WNG',\n",
       "   'name': 'Newcastle to Sydney',\n",
       "   'status': 'incomplete'}]}"
      ]
     },
     "metadata": {},
     "execution_count": 17
    }
   ],
   "source": [
    "walk_details_dict"
   ]
  },
  {
   "cell_type": "code",
   "execution_count": 18,
   "metadata": {},
   "outputs": [
    {
     "output_type": "execute_result",
     "data": {
      "text/plain": [
       "                                                walks\n",
       "0     {'short_name': 'B2M', 'name': 'Bondi to Manly'}\n",
       "1   {'short_name': 'B2W', 'name': 'Bondi to Wollon...\n",
       "2   {'short_name': 'D2C', 'name': 'Drummoyne to Co...\n",
       "3   {'short_name': 'GNW', 'name': 'Great North Walk'}\n",
       "4   {'short_name': 'GTL', 'name': 'Gladesville Loop'}\n",
       "5   {'short_name': 'GNW', 'name': 'Great North Walk'}\n",
       "6   {'short_name': 'GWW', 'name': 'Great West Walk...\n",
       "7            {'short_name': 'OLD', 'name': 'Old Bar'}\n",
       "8   {'short_name': 'STM', 'name': 'St Michael's Go...\n",
       "9   {'short_name': 'SNM', 'name': 'Snowy Mountains...\n",
       "10  {'short_name': 'WNG', 'name': 'Newcastle to Sy..."
      ],
      "text/html": "<div>\n<style scoped>\n    .dataframe tbody tr th:only-of-type {\n        vertical-align: middle;\n    }\n\n    .dataframe tbody tr th {\n        vertical-align: top;\n    }\n\n    .dataframe thead th {\n        text-align: right;\n    }\n</style>\n<table border=\"1\" class=\"dataframe\">\n  <thead>\n    <tr style=\"text-align: right;\">\n      <th></th>\n      <th>walks</th>\n    </tr>\n  </thead>\n  <tbody>\n    <tr>\n      <th>0</th>\n      <td>{'short_name': 'B2M', 'name': 'Bondi to Manly'}</td>\n    </tr>\n    <tr>\n      <th>1</th>\n      <td>{'short_name': 'B2W', 'name': 'Bondi to Wollon...</td>\n    </tr>\n    <tr>\n      <th>2</th>\n      <td>{'short_name': 'D2C', 'name': 'Drummoyne to Co...</td>\n    </tr>\n    <tr>\n      <th>3</th>\n      <td>{'short_name': 'GNW', 'name': 'Great North Walk'}</td>\n    </tr>\n    <tr>\n      <th>4</th>\n      <td>{'short_name': 'GTL', 'name': 'Gladesville Loop'}</td>\n    </tr>\n    <tr>\n      <th>5</th>\n      <td>{'short_name': 'GNW', 'name': 'Great North Walk'}</td>\n    </tr>\n    <tr>\n      <th>6</th>\n      <td>{'short_name': 'GWW', 'name': 'Great West Walk...</td>\n    </tr>\n    <tr>\n      <th>7</th>\n      <td>{'short_name': 'OLD', 'name': 'Old Bar'}</td>\n    </tr>\n    <tr>\n      <th>8</th>\n      <td>{'short_name': 'STM', 'name': 'St Michael's Go...</td>\n    </tr>\n    <tr>\n      <th>9</th>\n      <td>{'short_name': 'SNM', 'name': 'Snowy Mountains...</td>\n    </tr>\n    <tr>\n      <th>10</th>\n      <td>{'short_name': 'WNG', 'name': 'Newcastle to Sy...</td>\n    </tr>\n  </tbody>\n</table>\n</div>"
     },
     "metadata": {},
     "execution_count": 18
    }
   ],
   "source": [
    "pd.DataFrame(walk_details_dict, )"
   ]
  },
  {
   "cell_type": "code",
   "execution_count": 19,
   "metadata": {},
   "outputs": [],
   "source": [
    "#export\n",
    "def calc_walk_stats(walk_data):\n",
    "    total_time = dt.timedelta(0)\n",
    "    total_distance = 0\n",
    "\n",
    "    for iHike, hike in enumerate(walk_data):\n",
    "        total_time += hike.index.max()\n",
    "        # print(iHike+1, walk_date[iHike], hike.index.max(), hike['dist'].max() / 1e3)\n",
    "        total_distance += hike['dist'].max()\n",
    "    total_distance /= 1e3\n",
    "\n",
    "    start_coord = walk_data[0][['lat', 'lon']].iloc[0].tolist()\n",
    "    end_coord = walk_data[-1][['lat', 'lon']].iloc[-1].tolist()\n",
    "    return total_time, total_distance, start_coord, end_coord\n",
    "\n",
    "\n",
    "# TODO: use st.cache() and also look to pre-load and cache/feather data (or similar) - NB: use of @st.cache() below didn't work\n",
    "def load_and_cache_raw_walk_data(walk_name, sample_freq, conn):\n",
    "    RAW_FIT_FILE_PATH = 'icloud/Data/HealthFit/FIT' \n",
    "    fit_dir = Path.home()/RAW_FIT_FILE_PATH\n",
    "    data_dir = fit_dir/walk_name[0:3]\n",
    "    print(data_dir.ls())\n",
    "    data_files = [file for file in os.listdir(data_dir) if file.endswith('.fit')]\n",
    "    walk_files = sorted(data_files)\n",
    "    print(walk_files)\n",
    "\n",
    "    walk_data = []\n",
    "    walk_date = []\n",
    "\n",
    "    for iFile, file in enumerate(walk_files):\n",
    "        walk_df = pd.DataFrame(aio.read(data_dir + file))\n",
    "        walk_data.append(walk_df)\n",
    "        walk_date.append(parse(file[0:17]))\n",
    "        walk_df['WalkName'] = walk_name\n",
    "        walk_df['WalkNumber'] = iFile\n",
    "        walk_df[['alt', 'dist', 'lat', 'lon', 'speed', 'WalkName', 'WalkNumber']].to_sql('walks', conn, if_exists='append', index=False)\n",
    "               \n",
    "    total_time, total_distance, start_coord, end_coord = calc_walk_stats(walk_data)\n",
    "    walk_stats = [total_time, total_distance, start_coord, end_coord]\n",
    "    #print(start_coord)\n",
    "    walk_merged = pd.concat(walk_data)\n",
    "    points = walk_merged[['lat', 'lon']].values.tolist()\n",
    "    points = [tuple(point) for ipoint, point in enumerate(points) if ipoint % sample_freq == 0]\n",
    "    return walk_data, walk_date, walk_files, points, walk_stats"
   ]
  },
  {
   "cell_type": "code",
   "execution_count": null,
   "metadata": {},
   "outputs": [],
   "source": []
  },
  {
   "cell_type": "code",
   "execution_count": 20,
   "metadata": {},
   "outputs": [],
   "source": [
    "def create_walk_cached_data_for_app(db_file, n_rows_used=5):\n",
    "    # read in all of the walks data and sample at an appropriate frequency and cache for faster use in the app\n",
    "    db_conn = sql.connect(db_file)\n",
    "    walk_df = pd.read_sql_query('SELECT * FROM walks', db_conn)\n",
    "\n",
    "    UNUSED_COLUMNS = ['dist', 'speed']\n",
    "\n",
    "    walk_df.drop(UNUSED_COLUMNS, axis=1, inplace=True)\n",
    "    walk_df.dropna(inplace=True)      # TODO: Check why there are a few NaNs\n",
    "    walk_df = walk_df.iloc[::n_rows_used].reset_index()    # downsample\n",
    "\n",
    "    walk_df.to_feather(Path(db_file.as_posix().replace('.db', '.cache.feather')))\n",
    "    \n",
    "    return walk_df"
   ]
  },
  {
   "cell_type": "code",
   "execution_count": 21,
   "metadata": {},
   "outputs": [],
   "source": [
    "# Not working yet -- this is the alternate approach to using the individual .FIT files\n",
    "# walk_df = create_walk_cached_data_for_app(db_file, 10)"
   ]
  },
  {
   "cell_type": "code",
   "execution_count": 22,
   "metadata": {},
   "outputs": [],
   "source": [
    "# walk_df[walk_df['lat'].isna()]"
   ]
  },
  {
   "cell_type": "code",
   "execution_count": 23,
   "metadata": {},
   "outputs": [
    {
     "output_type": "execute_result",
     "data": {
      "text/plain": [
       "Path('emmaus_walking.sqlite.cache.feather')"
      ]
     },
     "metadata": {},
     "execution_count": 23
    }
   ],
   "source": [
    "Path(db_file.as_posix().replace('.db', '.cache.feather'))"
   ]
  },
  {
   "cell_type": "code",
   "execution_count": 24,
   "metadata": {},
   "outputs": [],
   "source": [
    "# walk_df = pd.read_feather(Path(db_file.as_posix().replace('.db', '.cache.feather')))"
   ]
  },
  {
   "cell_type": "code",
   "execution_count": 25,
   "metadata": {},
   "outputs": [],
   "source": [
    "# walk_df.info()"
   ]
  },
  {
   "cell_type": "code",
   "execution_count": 26,
   "metadata": {},
   "outputs": [],
   "source": [
    "# walk_df['WalkName'].unique()"
   ]
  }
 ],
 "metadata": {
  "kernelspec": {
   "name": "python3",
   "display_name": "Python 3.9.6 64-bit ('emmaus_walking_py38': conda)"
  },
  "language_info": {
   "codemirror_mode": {
    "name": "ipython",
    "version": 3
   },
   "file_extension": ".py",
   "mimetype": "text/x-python",
   "name": "python",
   "nbconvert_exporter": "python",
   "pygments_lexer": "ipython3",
   "version": "3.9.6"
  },
  "interpreter": {
   "hash": "a22d2645d3afe98160956a5bd9591f63a934537cdda62e90bef32e6cf34fead0"
  }
 },
 "nbformat": 4,
 "nbformat_minor": 4
}