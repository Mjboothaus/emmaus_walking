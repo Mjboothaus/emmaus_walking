{
 "cells": [
  {
   "cell_type": "code",
   "execution_count": null,
   "metadata": {},
   "outputs": [],
   "source": [
    "\n",
    "import gpxpy\n",
    "import gpxpy.gpx\n",
    "import folium\n",
    "\n",
    "datafile = \"/Users/mjboothaus/icloud/Data/walking/jungo_cumberland_gnw_4May2023.gpx\"\n",
    "\n",
    "\n",
    "# Parsing an existing file:\n",
    "with open(datafile, 'r') as gpx_file:\n",
    "    gpx = gpxpy.parse(gpx_file)\n",
    "\n",
    "# Printing some data from the GPX file:\n",
    "print('File:', gpx_file.name)\n",
    "print('Version:', gpx.version)\n",
    "print('Creator:', gpx.creator)\n",
    "print('Tracks:', len(gpx.tracks))\n",
    "print('Waypoints:', len(gpx.waypoints))\n",
    "print('Routes:', len(gpx.routes))\n",
    "\n",
    "# Extracting data from the GPX file:\n",
    "for track in gpx.tracks:\n",
    "    for segment in track.segments:\n",
    "        for point in segment.points:\n",
    "            print('Point at ({0},{1}) -> {2}'.format(point.latitude, point.longitude, point.elevation))\n",
    "\n",
    " \n",
    "# create map object\n",
    "m = folium.Map(location=[gpx.tracks[0].segments[0].points[0].latitude, gpx.tracks[0].segments[0].points[0].longitude], zoom_start=13)\n",
    "\n",
    "# add track to map\n",
    "for track in gpx.tracks:\n",
    "    for segment in track.segments:\n",
    "        folium.PolyLine(locations=[(point.latitude, point.longitude) for point in segment.points], color='red').add_to(m)\n",
    "\n",
    "# save map\n",
    "m.save('map.html')\n"
   ]
  }
 ],
 "metadata": {
  "language_info": {
   "name": "python"
  },
  "orig_nbformat": 4
 },
 "nbformat": 4,
 "nbformat_minor": 2
}
